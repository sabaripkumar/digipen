{
  "nbformat": 4,
  "nbformat_minor": 0,
  "metadata": {
    "colab": {
      "provenance": [],
      "include_colab_link": true
    },
    "kernelspec": {
      "name": "python3",
      "display_name": "Python 3"
    },
    "language_info": {
      "name": "python"
    }
  },
  "cells": [
    {
      "cell_type": "markdown",
      "metadata": {
        "id": "view-in-github",
        "colab_type": "text"
      },
      "source": [
        "<a href=\"https://colab.research.google.com/github/sabaripkumar/digipen/blob/main/CET3052_Colab_MLlib.ipynb\" target=\"_parent\"><img src=\"https://colab.research.google.com/assets/colab-badge.svg\" alt=\"Open In Colab\"/></a>"
      ]
    },
    {
      "cell_type": "markdown",
      "source": [
        "# Introduction\n",
        "MLlib is Spark’s machine learning (ML) library. Its goal is to make practical machine learning scalable and easy. It includes:\n",
        "\n",
        "* ML Algorithms: common learning algorithms such as classification, regression, clustering, and collaborative filtering\n",
        "* Featurization: feature extraction, transformation, dimensionality reduction, and selection\n",
        "* Pipelines: tools for constructing, evaluating, and tuning ML Pipelines\n",
        "* Persistence: saving and load algorithms, models, and Pipelines\n",
        "Utilities: linear algebra, statistics, data handling, etc."
      ],
      "metadata": {
        "id": "iQpHJiV8fIn1"
      }
    },
    {
      "cell_type": "markdown",
      "source": [
        "“Spark ML” is not an official name but occasionally used to refer to the MLlib DataFrame-based API. The RDD-based API is now in maintenance mode. For more information, read [Machine Learning Library (MLlib) Guide](https://spark.apache.org/docs/latest/ml-guide.html)."
      ],
      "metadata": {
        "id": "DND5ocIKfhI4"
      }
    },
    {
      "cell_type": "code",
      "source": [
        "!pip install -q pyspark"
      ],
      "metadata": {
        "colab": {
          "base_uri": "https://localhost:8080/"
        },
        "id": "ehfEHanIfxX8",
        "outputId": "ecf0a330-c4ee-419c-bfce-8208750132f5"
      },
      "execution_count": 1,
      "outputs": [
        {
          "output_type": "stream",
          "name": "stdout",
          "text": [
            "\u001b[2K     \u001b[90m━━━━━━━━━━━━━━━━━━━━━━━━━━━━━━━━━━━━━━━━\u001b[0m \u001b[32m317.0/317.0 MB\u001b[0m \u001b[31m3.6 MB/s\u001b[0m eta \u001b[36m0:00:00\u001b[0m\n",
            "\u001b[?25h  Preparing metadata (setup.py) ... \u001b[?25l\u001b[?25hdone\n",
            "  Building wheel for pyspark (setup.py) ... \u001b[?25l\u001b[?25hdone\n"
          ]
        }
      ]
    },
    {
      "cell_type": "code",
      "source": [
        "data_filename = \"sample_data/california_housing_train.csv\"\n",
        "test_filename = \"sample_data/california_housing_test.csv\""
      ],
      "metadata": {
        "id": "VmMQXB9njKtA"
      },
      "execution_count": 2,
      "outputs": []
    },
    {
      "cell_type": "code",
      "source": [
        "from pyspark.sql import SparkSession\n",
        "spark = SparkSession.builder.master(\"local[*]\").getOrCreate()\n",
        "# Property used to format output tables better\n",
        "spark.conf.set(\"spark.sql.repl.eagerEval.enabled\", True)\n",
        "print(spark)"
      ],
      "metadata": {
        "colab": {
          "base_uri": "https://localhost:8080/"
        },
        "id": "o2zg84S_jQkB",
        "outputId": "16c8d7ce-908e-4a43-d700-8d86312c4ade"
      },
      "execution_count": 3,
      "outputs": [
        {
          "output_type": "stream",
          "name": "stdout",
          "text": [
            "<pyspark.sql.session.SparkSession object at 0x7a189175ea40>\n"
          ]
        }
      ]
    },
    {
      "cell_type": "code",
      "source": [
        "df = spark.read.csv(data_filename, header=True, sep=\",\", inferSchema=True)"
      ],
      "metadata": {
        "id": "h7fIJj4zjVjI"
      },
      "execution_count": 4,
      "outputs": []
    },
    {
      "cell_type": "code",
      "source": [
        "df.show(5, truncate=False)"
      ],
      "metadata": {
        "colab": {
          "base_uri": "https://localhost:8080/"
        },
        "id": "HBwxS_DVjb75",
        "outputId": "2882d640-ac83-473a-faa2-db419d75769c"
      },
      "execution_count": 5,
      "outputs": [
        {
          "output_type": "stream",
          "name": "stdout",
          "text": [
            "+---------+--------+------------------+-----------+--------------+----------+----------+-------------+------------------+\n",
            "|longitude|latitude|housing_median_age|total_rooms|total_bedrooms|population|households|median_income|median_house_value|\n",
            "+---------+--------+------------------+-----------+--------------+----------+----------+-------------+------------------+\n",
            "|-114.31  |34.19   |15.0              |5612.0     |1283.0        |1015.0    |472.0     |1.4936       |66900.0           |\n",
            "|-114.47  |34.4    |19.0              |7650.0     |1901.0        |1129.0    |463.0     |1.82         |80100.0           |\n",
            "|-114.56  |33.69   |17.0              |720.0      |174.0         |333.0     |117.0     |1.6509       |85700.0           |\n",
            "|-114.57  |33.64   |14.0              |1501.0     |337.0         |515.0     |226.0     |3.1917       |73400.0           |\n",
            "|-114.57  |33.57   |20.0              |1454.0     |326.0         |624.0     |262.0     |1.925        |65500.0           |\n",
            "+---------+--------+------------------+-----------+--------------+----------+----------+-------------+------------------+\n",
            "only showing top 5 rows\n",
            "\n"
          ]
        }
      ]
    },
    {
      "cell_type": "code",
      "source": [
        "df.columns"
      ],
      "metadata": {
        "colab": {
          "base_uri": "https://localhost:8080/"
        },
        "id": "FNmEs6BcjtEV",
        "outputId": "d620200c-8c51-4cf3-fa67-f4b1a04dd73e"
      },
      "execution_count": 6,
      "outputs": [
        {
          "output_type": "execute_result",
          "data": {
            "text/plain": [
              "['longitude',\n",
              " 'latitude',\n",
              " 'housing_median_age',\n",
              " 'total_rooms',\n",
              " 'total_bedrooms',\n",
              " 'population',\n",
              " 'households',\n",
              " 'median_income',\n",
              " 'median_house_value']"
            ]
          },
          "metadata": {},
          "execution_count": 6
        }
      ]
    },
    {
      "cell_type": "code",
      "source": [
        "from pyspark.ml.feature import VectorAssembler\n",
        "\n",
        "# Create a feature vector assembler\n",
        "assembler = VectorAssembler(inputCols=[\"median_income\", \"total_rooms\", \"housing_median_age\"], outputCol=\"features\")"
      ],
      "metadata": {
        "id": "wA0q2j0ijo4J"
      },
      "execution_count": 7,
      "outputs": []
    },
    {
      "cell_type": "code",
      "source": [
        "# Transform the DataFrame using the assembler\n",
        "training = assembler.transform(df)"
      ],
      "metadata": {
        "id": "Zo4-4SK9kCOG"
      },
      "execution_count": 8,
      "outputs": []
    },
    {
      "cell_type": "code",
      "source": [
        "training.show(5, truncate=False)"
      ],
      "metadata": {
        "colab": {
          "base_uri": "https://localhost:8080/"
        },
        "id": "sx9CyVU3kn1E",
        "outputId": "745bfeb0-4af4-4381-d3ff-9b8bdb33b017"
      },
      "execution_count": 9,
      "outputs": [
        {
          "output_type": "stream",
          "name": "stdout",
          "text": [
            "+---------+--------+------------------+-----------+--------------+----------+----------+-------------+------------------+--------------------+\n",
            "|longitude|latitude|housing_median_age|total_rooms|total_bedrooms|population|households|median_income|median_house_value|features            |\n",
            "+---------+--------+------------------+-----------+--------------+----------+----------+-------------+------------------+--------------------+\n",
            "|-114.31  |34.19   |15.0              |5612.0     |1283.0        |1015.0    |472.0     |1.4936       |66900.0           |[1.4936,5612.0,15.0]|\n",
            "|-114.47  |34.4    |19.0              |7650.0     |1901.0        |1129.0    |463.0     |1.82         |80100.0           |[1.82,7650.0,19.0]  |\n",
            "|-114.56  |33.69   |17.0              |720.0      |174.0         |333.0     |117.0     |1.6509       |85700.0           |[1.6509,720.0,17.0] |\n",
            "|-114.57  |33.64   |14.0              |1501.0     |337.0         |515.0     |226.0     |3.1917       |73400.0           |[3.1917,1501.0,14.0]|\n",
            "|-114.57  |33.57   |20.0              |1454.0     |326.0         |624.0     |262.0     |1.925        |65500.0           |[1.925,1454.0,20.0] |\n",
            "+---------+--------+------------------+-----------+--------------+----------+----------+-------------+------------------+--------------------+\n",
            "only showing top 5 rows\n",
            "\n"
          ]
        }
      ]
    },
    {
      "cell_type": "code",
      "source": [
        "from pyspark.ml.regression import GeneralizedLinearRegression\n",
        "\n",
        "# Create an instance of GeneralizedLinearRegression\n",
        "# Generalized linear models (GLMs) are specifications of linear models where the\n",
        "# response variable Yi follows some distribution from the exponential family of\n",
        "# distributions.\n",
        "glr = GeneralizedLinearRegression(family=\"gaussian\", link=\"identity\",\n",
        "                                  labelCol=\"median_house_value\",\n",
        "                                  featuresCol=\"features\")"
      ],
      "metadata": {
        "id": "SUZli_UOkK6z"
      },
      "execution_count": 10,
      "outputs": []
    },
    {
      "cell_type": "code",
      "source": [
        "# Fit the model to the data\n",
        "model = glr.fit(training)"
      ],
      "metadata": {
        "id": "i8hB-NYXkWdX"
      },
      "execution_count": 11,
      "outputs": []
    },
    {
      "cell_type": "code",
      "source": [
        "# Print the coefficients and intercept\n",
        "print(\"Coefficients: \" + str(model.coefficients))\n",
        "print(\"Intercept: \" + str(model.intercept))"
      ],
      "metadata": {
        "colab": {
          "base_uri": "https://localhost:8080/"
        },
        "id": "k-TbiOZyllm8",
        "outputId": "aff741f2-7cf2-4979-8b38-67fa1f9169e5"
      },
      "execution_count": 12,
      "outputs": [
        {
          "output_type": "stream",
          "name": "stdout",
          "text": [
            "Coefficients: [42719.258930532815,3.769951994447242,1970.2176607228666]\n",
            "Intercept: -24896.402073033052\n"
          ]
        }
      ]
    },
    {
      "cell_type": "code",
      "source": [
        "summary = model.summary\n",
        "print(\"Coefficient Standard Errors: \" + str(summary.coefficientStandardErrors))\n",
        "print(\"T Values: \" + str(summary.tValues))\n",
        "print(\"P Values: \" + str(summary.pValues))\n",
        "print(\"Dispersion: \" + str(summary.dispersion))\n",
        "print(\"Null Deviance: \" + str(summary.nullDeviance))\n",
        "print(\"Residual Degree Of Freedom Null: \" + str(summary.residualDegreeOfFreedomNull))\n",
        "print(\"Deviance: \" + str(summary.deviance))\n",
        "print(\"Residual Degree Of Freedom: \" + str(summary.residualDegreeOfFreedom))\n",
        "print(\"AIC: \" + str(summary.aic))\n",
        "print(\"Deviance Residuals: \")\n",
        "summary.residuals().show()"
      ],
      "metadata": {
        "colab": {
          "base_uri": "https://localhost:8080/"
        },
        "id": "jwI5nnUdlqLp",
        "outputId": "bf1b31bd-71a7-4d50-9fb2-9b6d20d0a3aa"
      },
      "execution_count": 13,
      "outputs": [
        {
          "output_type": "stream",
          "name": "stdout",
          "text": [
            "Coefficient Standard Errors: [330.3365970486282, 0.30796694928352264, 52.66431486362351, 2377.780515757901]\n",
            "T Values: [129.32039414404997, 12.24141747423852, 37.41086665277673, -10.470437413394944]\n",
            "P Values: [0.0, 0.0, 0.0, 0.0]\n",
            "Dispersion: 6480216865.236034\n",
            "Null Deviance: 228674518990668.44\n",
            "Residual Degree Of Freedom Null: 16999\n",
            "Deviance: 110137765841551.64\n",
            "Residual Degree Of Freedom: 16996\n",
            "AIC: 432314.2464896329\n",
            "Deviance Residuals: \n",
            "+-------------------+\n",
            "|  devianceResiduals|\n",
            "+-------------------+\n",
            "| -22719.31856929169|\n",
            "| -39026.91749179254|\n",
            "|  3863.111836325683|\n",
            "| -71292.40184933401|\n",
            "|-36724.034782626244|\n",
            "|-106313.49151614401|\n",
            "| -67269.20219814702|\n",
            "| -83421.03306712484|\n",
            "| -94796.38829543884|\n",
            "|-116866.58092091762|\n",
            "| -48705.26906590874|\n",
            "|-31391.629129224093|\n",
            "| -118090.7671055483|\n",
            "|-112336.54613648751|\n",
            "|-1790.2371176319866|\n",
            "| -21717.58830593113|\n",
            "| -68371.09038059862|\n",
            "|-28258.723519262494|\n",
            "| -21302.42661294744|\n",
            "|  -35528.4776051994|\n",
            "+-------------------+\n",
            "only showing top 20 rows\n",
            "\n"
          ]
        }
      ]
    },
    {
      "cell_type": "code",
      "source": [
        "testing = df[[\"median_income\", \"total_rooms\", \"housing_median_age\"]]\n",
        "new_df = assembler.transform(testing)\n",
        "predictions = model.transform(new_df)"
      ],
      "metadata": {
        "id": "JEkdnI18mwvN"
      },
      "execution_count": 14,
      "outputs": []
    },
    {
      "cell_type": "code",
      "source": [
        "# Show the predictions\n",
        "predictions.select(\"features\", \"prediction\").show()\n",
        "new_df.show(5)"
      ],
      "metadata": {
        "colab": {
          "base_uri": "https://localhost:8080/"
        },
        "id": "W9ZQpdjHnni6",
        "outputId": "fe05bc4f-e3f4-49d4-d5b6-3ab65c40065e"
      },
      "execution_count": 15,
      "outputs": [
        {
          "output_type": "stream",
          "name": "stdout",
          "text": [
            "+--------------------+------------------+\n",
            "|            features|        prediction|\n",
            "+--------------------+------------------+\n",
            "|[1.4936,5612.0,15.0]| 89619.31856929169|\n",
            "|  [1.82,7650.0,19.0]|119126.91749179254|\n",
            "| [1.6509,720.0,17.0]| 81836.88816367432|\n",
            "|[3.1917,1501.0,14.0]|  144692.401849334|\n",
            "| [1.925,1454.0,20.0]|102224.03478262624|\n",
            "|[3.3438,1387.0,29.0]|180313.49151614401|\n",
            "|[2.6768,2907.0,25.0]|149669.20219814702|\n",
            "| [1.7083,812.0,41.0]|131921.03306712484|\n",
            "|[2.1782,4789.0,34.0]|153196.38829543884|\n",
            "|[2.1908,1497.0,46.0]|164966.58092091762|\n",
            "|[2.6797,3741.0,16.0]|135205.26906590874|\n",
            "| [1.625,1988.0,21.0]|  93391.6291292241|\n",
            "|[2.1571,1291.0,48.0]| 166690.7671055483|\n",
            "| [3.212,2478.0,31.0]| 182736.5461364875|\n",
            "|[0.8585,1448.0,15.0]| 46790.23711763199|\n",
            "|[1.6991,2556.0,17.0]| 90817.58830593113|\n",
            "|[2.9653,1678.0,28.0]|163271.09038059862|\n",
            "|  [0.8571,44.0,21.0]|53258.723519262494|\n",
            "|[1.2049,1388.0,17.0]| 65302.42661294744|\n",
            "|  [1.2656,97.0,17.0]|  63028.4776051994|\n",
            "+--------------------+------------------+\n",
            "only showing top 20 rows\n",
            "\n",
            "+-------------+-----------+------------------+--------------------+\n",
            "|median_income|total_rooms|housing_median_age|            features|\n",
            "+-------------+-----------+------------------+--------------------+\n",
            "|       1.4936|     5612.0|              15.0|[1.4936,5612.0,15.0]|\n",
            "|         1.82|     7650.0|              19.0|  [1.82,7650.0,19.0]|\n",
            "|       1.6509|      720.0|              17.0| [1.6509,720.0,17.0]|\n",
            "|       3.1917|     1501.0|              14.0|[3.1917,1501.0,14.0]|\n",
            "|        1.925|     1454.0|              20.0| [1.925,1454.0,20.0]|\n",
            "+-------------+-----------+------------------+--------------------+\n",
            "only showing top 5 rows\n",
            "\n"
          ]
        }
      ]
    }
  ]
}