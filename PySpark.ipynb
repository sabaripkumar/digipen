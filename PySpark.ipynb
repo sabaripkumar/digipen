{
  "nbformat": 4,
  "nbformat_minor": 0,
  "metadata": {
    "colab": {
      "provenance": [],
      "authorship_tag": "ABX9TyOB+BtRV1TPjCXSC8BNvFCW",
      "include_colab_link": true
    },
    "kernelspec": {
      "name": "python3",
      "display_name": "Python 3"
    },
    "language_info": {
      "name": "python"
    }
  },
  "cells": [
    {
      "cell_type": "markdown",
      "metadata": {
        "id": "view-in-github",
        "colab_type": "text"
      },
      "source": [
        "<a href=\"https://colab.research.google.com/github/sabaripkumar/digipen/blob/main/PySpark.ipynb\" target=\"_parent\"><img src=\"https://colab.research.google.com/assets/colab-badge.svg\" alt=\"Open In Colab\"/></a>"
      ]
    },
    {
      "cell_type": "code",
      "source": [
        "!pip install pyspark"
      ],
      "metadata": {
        "colab": {
          "base_uri": "https://localhost:8080/"
        },
        "id": "HvI6Ws5Te4Dx",
        "outputId": "96fc7e64-be55-4f6f-b9f1-9b3e9398b078"
      },
      "execution_count": null,
      "outputs": [
        {
          "output_type": "stream",
          "name": "stdout",
          "text": [
            "Collecting pyspark\n",
            "  Downloading pyspark-3.5.1.tar.gz (317.0 MB)\n",
            "\u001b[2K     \u001b[90m━━━━━━━━━━━━━━━━━━━━━━━━━━━━━━━━━━━━━━━━\u001b[0m \u001b[32m317.0/317.0 MB\u001b[0m \u001b[31m4.2 MB/s\u001b[0m eta \u001b[36m0:00:00\u001b[0m\n",
            "\u001b[?25h  Preparing metadata (setup.py) ... \u001b[?25l\u001b[?25hdone\n",
            "Requirement already satisfied: py4j==0.10.9.7 in /usr/local/lib/python3.10/dist-packages (from pyspark) (0.10.9.7)\n",
            "Building wheels for collected packages: pyspark\n",
            "  Building wheel for pyspark (setup.py) ... \u001b[?25l\u001b[?25hdone\n",
            "  Created wheel for pyspark: filename=pyspark-3.5.1-py2.py3-none-any.whl size=317488493 sha256=f6d0f136c2efa5f0703e1b40773011ab94f2ea8f6394473b7ec77d173eef3823\n",
            "  Stored in directory: /root/.cache/pip/wheels/80/1d/60/2c256ed38dddce2fdd93be545214a63e02fbd8d74fb0b7f3a6\n",
            "Successfully built pyspark\n",
            "Installing collected packages: pyspark\n",
            "Successfully installed pyspark-3.5.1\n"
          ]
        }
      ]
    },
    {
      "cell_type": "code",
      "execution_count": 3,
      "metadata": {
        "colab": {
          "base_uri": "https://localhost:8080/",
          "height": 219
        },
        "id": "BAznAafTesh0",
        "outputId": "a73260ec-fe96-4188-ff36-1751625e5c8d"
      },
      "outputs": [
        {
          "output_type": "execute_result",
          "data": {
            "text/plain": [
              "<pyspark.sql.session.SparkSession at 0x79a746b2a1d0>"
            ],
            "text/html": [
              "\n",
              "            <div>\n",
              "                <p><b>SparkSession - in-memory</b></p>\n",
              "                \n",
              "        <div>\n",
              "            <p><b>SparkContext</b></p>\n",
              "\n",
              "            <p><a href=\"http://ce39dce89a33:4040\">Spark UI</a></p>\n",
              "\n",
              "            <dl>\n",
              "              <dt>Version</dt>\n",
              "                <dd><code>v3.5.1</code></dd>\n",
              "              <dt>Master</dt>\n",
              "                <dd><code>local[*]</code></dd>\n",
              "              <dt>AppName</dt>\n",
              "                <dd><code>pyspark-shell</code></dd>\n",
              "            </dl>\n",
              "        </div>\n",
              "        \n",
              "            </div>\n",
              "        "
            ]
          },
          "metadata": {},
          "execution_count": 3
        }
      ],
      "source": [
        "from pyspark.sql import SparkSession\n",
        "# Create a new SparkSession object as the entry point\n",
        "spark = SparkSession.builder.getOrCreate()\n",
        "# Examine the created SparkSession object\n",
        "spark"
      ]
    },
    {
      "cell_type": "code",
      "source": [
        "sc = spark.sparkContext"
      ],
      "metadata": {
        "id": "VaHNnf9mfmqX"
      },
      "execution_count": 4,
      "outputs": []
    },
    {
      "cell_type": "code",
      "source": [
        "# Parallelize RDD\n",
        "rdd_0 = sc.parallelize([\"She saw Sharif's shoes on the sofa but was she so sure those were Sharif's shoes she saw?\"])\n",
        "# Tokenize sentence into words\n",
        "rdd_1 = rdd_0.flatMap(lambda x: x.split())"
      ],
      "metadata": {
        "id": "DTwbj2rRfnn-"
      },
      "execution_count": 6,
      "outputs": []
    },
    {
      "cell_type": "markdown",
      "source": [
        "rdd_1.collect()"
      ],
      "metadata": {
        "id": "yFf2Q5U7gYi3"
      }
    },
    {
      "cell_type": "code",
      "source": [
        "rdd_1.collect()"
      ],
      "metadata": {
        "colab": {
          "base_uri": "https://localhost:8080/"
        },
        "id": "wzaU7wbeglgy",
        "outputId": "d0b27c83-36c6-4ed5-8c9a-ca1e41ec04dc"
      },
      "execution_count": 7,
      "outputs": [
        {
          "output_type": "execute_result",
          "data": {
            "text/plain": [
              "['She',\n",
              " 'saw',\n",
              " \"Sharif's\",\n",
              " 'shoes',\n",
              " 'on',\n",
              " 'the',\n",
              " 'sofa',\n",
              " 'but',\n",
              " 'was',\n",
              " 'she',\n",
              " 'so',\n",
              " 'sure',\n",
              " 'those',\n",
              " 'were',\n",
              " \"Sharif's\",\n",
              " 'shoes',\n",
              " 'she',\n",
              " 'saw?']"
            ]
          },
          "metadata": {},
          "execution_count": 7
        }
      ]
    },
    {
      "cell_type": "code",
      "source": [
        "# Create a pair RDD, similar to a mapper\n",
        "rdd_2 = rdd_1.map(lambda x: (x, 1))"
      ],
      "metadata": {
        "id": "kItkk97ggxbB"
      },
      "execution_count": 8,
      "outputs": []
    },
    {
      "cell_type": "code",
      "source": [
        "rdd_2.collect()"
      ],
      "metadata": {
        "colab": {
          "base_uri": "https://localhost:8080/"
        },
        "id": "J8Vc2Yc1g3NA",
        "outputId": "41486e86-d1ea-4fff-eea0-6dd689d937da"
      },
      "execution_count": 9,
      "outputs": [
        {
          "output_type": "execute_result",
          "data": {
            "text/plain": [
              "[('She', 1),\n",
              " ('saw', 1),\n",
              " (\"Sharif's\", 1),\n",
              " ('shoes', 1),\n",
              " ('on', 1),\n",
              " ('the', 1),\n",
              " ('sofa', 1),\n",
              " ('but', 1),\n",
              " ('was', 1),\n",
              " ('she', 1),\n",
              " ('so', 1),\n",
              " ('sure', 1),\n",
              " ('those', 1),\n",
              " ('were', 1),\n",
              " (\"Sharif's\", 1),\n",
              " ('shoes', 1),\n",
              " ('she', 1),\n",
              " ('saw?', 1)]"
            ]
          },
          "metadata": {},
          "execution_count": 9
        }
      ]
    },
    {
      "cell_type": "code",
      "source": [
        "# Count occurences of words, similar to a reducer\n",
        "rdd_3 = rdd_2.reduceByKey(lambda a,b: a+b)\n",
        "# Collect RDD for display on the current working machine\n",
        "rdd_3.collect()"
      ],
      "metadata": {
        "colab": {
          "base_uri": "https://localhost:8080/"
        },
        "id": "p5v3Ou4chDBW",
        "outputId": "9e3c7f0d-cdd1-4581-8e3f-2f5d0e8b2324"
      },
      "execution_count": 10,
      "outputs": [
        {
          "output_type": "execute_result",
          "data": {
            "text/plain": [
              "[('She', 1),\n",
              " ('shoes', 2),\n",
              " ('sofa', 1),\n",
              " ('but', 1),\n",
              " ('was', 1),\n",
              " ('sure', 1),\n",
              " ('saw?', 1),\n",
              " ('saw', 1),\n",
              " (\"Sharif's\", 2),\n",
              " ('on', 1),\n",
              " ('the', 1),\n",
              " ('she', 2),\n",
              " ('so', 1),\n",
              " ('those', 1),\n",
              " ('were', 1)]"
            ]
          },
          "metadata": {},
          "execution_count": 10
        }
      ]
    }
  ]
}