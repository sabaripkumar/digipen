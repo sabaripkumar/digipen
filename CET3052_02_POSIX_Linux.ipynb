{
  "cells": [
    {
      "cell_type": "markdown",
      "metadata": {
        "id": "view-in-github",
        "colab_type": "text"
      },
      "source": [
        "<a href=\"https://colab.research.google.com/github/sabaripkumar/digipen/blob/main/CET3052_02_POSIX_Linux.ipynb\" target=\"_parent\"><img src=\"https://colab.research.google.com/assets/colab-badge.svg\" alt=\"Open In Colab\"/></a>"
      ]
    },
    {
      "cell_type": "markdown",
      "metadata": {
        "id": "EzhlXW7w4zWK"
      },
      "source": [
        "# 2. Working in Unix / Linux Environments\n",
        "\n"
      ]
    },
    {
      "cell_type": "code",
      "source": [
        "!ls -alh\n",
        "!top"
      ],
      "metadata": {
        "collapsed": true,
        "id": "V8EKsw10bJ5c",
        "outputId": "ade170a8-a967-4089-f6d5-fdaf94b7663a",
        "colab": {
          "base_uri": "https://localhost:8080/"
        }
      },
      "execution_count": null,
      "outputs": [
        {
          "output_type": "stream",
          "name": "stdout",
          "text": [
            "total 16K\n",
            "drwxr-xr-x 1 root root 4.0K Jul 29 13:22 .\n",
            "drwxr-xr-x 1 root root 4.0K Jul 31 01:33 ..\n",
            "drwxr-xr-x 4 root root 4.0K Jul 29 13:22 .config\n",
            "drwxr-xr-x 1 root root 4.0K Jul 29 13:22 sample_data\n",
            "\u001b[?1h\u001b=\u001b[H\u001b[2J\u001b[mtop - 01:35:53 up 3 min,  0 users,  load average: 1.30, 0.61, 0.24\u001b[m\u001b[m\u001b[m\u001b[m\u001b[K\n",
            "Tasks:\u001b[m\u001b[m\u001b[1m  16 \u001b[m\u001b[mtotal,\u001b[m\u001b[m\u001b[1m   1 \u001b[m\u001b[mrunning,\u001b[m\u001b[m\u001b[1m  14 \u001b[m\u001b[msleeping,\u001b[m\u001b[m\u001b[1m   0 \u001b[m\u001b[mstopped,\u001b[m\u001b[m\u001b[1m   1 \u001b[m\u001b[mzombie\u001b[m\u001b[m\u001b[m\u001b[m\u001b[K\n",
            "%Cpu(s):\u001b[m\u001b[m\u001b[1m  0.0 \u001b[m\u001b[mus,\u001b[m\u001b[m\u001b[1m  0.0 \u001b[m\u001b[msy,\u001b[m\u001b[m\u001b[1m  0.0 \u001b[m\u001b[mni,\u001b[m\u001b[m\u001b[1m100.0 \u001b[m\u001b[mid,\u001b[m\u001b[m\u001b[1m  0.0 \u001b[m\u001b[mwa,\u001b[m\u001b[m\u001b[1m  0.0 \u001b[m\u001b[mhi,\u001b[m\u001b[m\u001b[1m  0.0 \u001b[m\u001b[msi,\u001b[m\u001b[m\u001b[1m  0.0 \u001b[m\u001b[mst\u001b[m\u001b[m\u001b[m\u001b[m\u001b[K\n",
            "MiB Mem :\u001b[m\u001b[m\u001b[1m  12979.0 \u001b[m\u001b[mtotal,\u001b[m\u001b[m\u001b[1m   7266.2 \u001b[m\u001b[mfree,\u001b[m\u001b[m\u001b[1m    806.4 \u001b[m\u001b[mused,\u001b[m\u001b[m\u001b[1m   4906.4 \u001b[m\u001b[mbuff/cache\u001b[m\u001b[m\u001b[m\u001b[m\u001b[K\n",
            "MiB Swap:\u001b[m\u001b[m\u001b[1m      0.0 \u001b[m\u001b[mtotal,\u001b[m\u001b[m\u001b[1m      0.0 \u001b[m\u001b[mfree,\u001b[m\u001b[m\u001b[1m      0.0 \u001b[m\u001b[mused.\u001b[m\u001b[m\u001b[1m  11852.5 \u001b[m\u001b[mavail Mem \u001b[m\u001b[m\u001b[m\u001b[m\u001b[K\n",
            "\u001b[K\n",
            "\u001b[7m    PID USER      PR  NI    VIRT    RES    SHR S  %CPU  %MEM     TIME+ COMMAND                      \u001b[m\u001b[m\u001b[K\n",
            "\u001b[m      1 root      20   0    1076      8      0 S   0.0   0.0   0:00.01 docker-init                  \u001b[m\u001b[m\u001b[K\n",
            "\u001b[m      6 root      20   0  895200  52324  33828 S   0.0   0.4   0:00.96 node                         \u001b[m\u001b[m\u001b[K\n",
            "\u001b[m     15 root      20   0    7376   3440   3140 S   0.0   0.0   0:00.10 oom_monitor.sh               \u001b[m\u001b[m\u001b[K\n",
            "\u001b[m     17 root      20   0    7376   1876   1592 S   0.0   0.0   0:00.00 run.sh                       \u001b[m\u001b[m\u001b[K\n",
            "\u001b[m     19 root      20   0 1235208  10988   7672 S   0.0   0.1   0:00.07 kernel_manager_              \u001b[m\u001b[m\u001b[K\n",
            "\u001b[m     21 root      20   0    5808   1000    908 S   0.0   0.0   0:00.01 tail                         \u001b[m\u001b[m\u001b[K\n",
            "\u001b[m     64 root      20   0       0      0      0 Z   0.0   0.0   0:07.42 python3                      \u001b[m\u001b[m\u001b[K\n",
            "\u001b[m     65 root      20   0   66684  52288  18684 S   0.0   0.4   0:00.85 colab-fileshim.              \u001b[m\u001b[m\u001b[K\n",
            "\u001b[m     87 root      20   0  362376 116916  27700 S   0.0   0.9   0:03.57 jupyter-noteboo              \u001b[m\u001b[m\u001b[K\n",
            "\u001b[m     88 root      20   0 1229072   4612   3420 S   0.0   0.0   0:00.01 dap_multiplexer              \u001b[m\u001b[m\u001b[K\n",
            "\u001b[m    492 root      20   0 1125052 111564  26672 S   0.0   0.8   0:03.27 python3                      \u001b[m\u001b[m\u001b[K\n",
            "\u001b[m    535 root      20   0  538256  12944   4988 S   0.0   0.1   0:00.02 python3                      \u001b[m\u001b[m\u001b[K\n",
            "\u001b[m    568 root      20   0 1239352  19272   9024 S   0.0   0.1   0:00.19 language_servic              \u001b[m\u001b[m\u001b[K\n",
            "\u001b[m    573 root      20   0  891952 128692  33628 S   0.0   1.0   0:05.97 node                         \u001b[m\u001b[m\u001b[K\n",
            "\u001b[m    816 root      20   0    5776   1020    928 S   0.0   0.0   0:00.00 sleep                        \u001b[m\u001b[m\u001b[K\n",
            "\u001b[m\u001b[1m    818 root      20   0   10352   3596   3240 R   0.0   0.0   0:00.00 top                          \u001b[m\u001b[m\u001b[K\n",
            "\u001b[J\u001b[H\u001b[mtop - 01:35:56 up 3 min,  0 users,  load average: 1.30, 0.61, 0.24\u001b[m\u001b[m\u001b[m\u001b[m\u001b[K\n",
            "\n",
            "%Cpu(s):\u001b[m\u001b[m\u001b[1m  2.2 \u001b[m\u001b[mus,\u001b[m\u001b[m\u001b[1m  1.7 \u001b[m\u001b[msy,\u001b[m\u001b[m\u001b[1m  0.0 \u001b[m\u001b[mni,\u001b[m\u001b[m\u001b[1m 95.3 \u001b[m\u001b[mid,\u001b[m\u001b[m\u001b[1m  0.5 \u001b[m\u001b[mwa,\u001b[m\u001b[m\u001b[1m  0.0 \u001b[m\u001b[mhi,\u001b[m\u001b[m\u001b[1m  0.3 \u001b[m\u001b[msi,\u001b[m\u001b[m\u001b[1m  0.0 \u001b[m\u001b[mst\u001b[m\u001b[m\u001b[m\u001b[m\u001b[K\n",
            "MiB Mem :\u001b[m\u001b[m\u001b[1m  12979.0 \u001b[m\u001b[mtotal,\u001b[m\u001b[m\u001b[1m   7264.4 \u001b[m\u001b[mfree,\u001b[m\u001b[m\u001b[1m    807.7 \u001b[m\u001b[mused,\u001b[m\u001b[m\u001b[1m   4906.8 \u001b[m\u001b[mbuff/cache\u001b[m\u001b[m\u001b[m\u001b[m\u001b[K\n",
            "MiB Swap:\u001b[m\u001b[m\u001b[1m      0.0 \u001b[m\u001b[mtotal,\u001b[m\u001b[m\u001b[1m      0.0 \u001b[m\u001b[mfree,\u001b[m\u001b[m\u001b[1m      0.0 \u001b[m\u001b[mused.\u001b[m\u001b[m\u001b[1m  11851.2 \u001b[m\u001b[mavail Mem \u001b[m\u001b[m\u001b[m\u001b[m\u001b[K\n",
            "\u001b[K\n",
            "\n",
            "\u001b[m      6 root      20   0  895200  51624  33828 S   1.0   0.4   0:00.99 node                         \u001b[m\u001b[m\u001b[K\n",
            "\u001b[m    492 root      20   0 1125052 111564  26672 S   1.0   0.8   0:03.30 python3                      \u001b[m\u001b[m\u001b[K\n",
            "\u001b[m     87 root      20   0  362376 116916  27700 S   0.3   0.9   0:03.58 jupyter-noteboo              \u001b[m\u001b[m\u001b[K\n",
            "\u001b[m     88 root      20   0 1229072   4880   3452 S   0.3   0.0   0:00.02 dap_multiplexer              \u001b[m\u001b[m\u001b[K\n",
            "\u001b[m    535 root      20   0  538256  12944   4988 S   0.3   0.1   0:00.03 python3                      \u001b[m\u001b[m\u001b[K\n",
            "\u001b[m      1 root      20   0    1076      8      0 S   0.0   0.0   0:00.01 docker-init                  \u001b[m\u001b[m\u001b[K\n",
            "\u001b[m     15 root      20   0    7376   3440   3140 S   0.0   0.0   0:00.10 oom_monitor.sh               \u001b[m\u001b[m\u001b[K\n",
            "\u001b[m     17 root      20   0    7376   1876   1592 S   0.0   0.0   0:00.00 run.sh                       \u001b[m\u001b[m\u001b[K\n",
            "\u001b[m     19 root      20   0 1235208  10988   7672 S   0.0   0.1   0:00.07 kernel_manager_              \u001b[m\u001b[m\u001b[K\n",
            "\u001b[m     21 root      20   0    5808   1000    908 S   0.0   0.0   0:00.01 tail                         \u001b[m\u001b[m\u001b[K\n",
            "\u001b[m     64 root      20   0       0      0      0 Z   0.0   0.0   0:07.42 python3                      \u001b[m\u001b[m\u001b[K\n",
            "\u001b[m     65 root      20   0   66684  52288  18684 S   0.0   0.4   0:00.85 colab-fileshim.              \u001b[m\u001b[m\u001b[K\n",
            "\n",
            "\n",
            "\u001b[m\u001b[1m    818 root      20   0   10352   3948   3368 R   0.0   0.0   0:00.00 top                          \u001b[m\u001b[m\u001b[K\n",
            "\u001b[m    830 root      20   0    5776   1048    956 S   0.0   0.0   0:00.00 sleep                        \u001b[m\u001b[m\u001b[K\n",
            "\u001b[J\u001b[H\u001b[mtop - 01:35:59 up 3 min,  0 users,  load average: 1.20, 0.60, 0.24\u001b[m\u001b[m\u001b[m\u001b[m\u001b[K\n",
            "\n",
            "%Cpu(s):\u001b[m\u001b[m\u001b[1m  2.3 \u001b[m\u001b[mus,\u001b[m\u001b[m\u001b[1m  1.3 \u001b[m\u001b[msy,\u001b[m\u001b[m\u001b[1m  0.0 \u001b[m\u001b[mni,\u001b[m\u001b[m\u001b[1m 95.5 \u001b[m\u001b[mid,\u001b[m\u001b[m\u001b[1m  0.3 \u001b[m\u001b[mwa,\u001b[m\u001b[m\u001b[1m  0.0 \u001b[m\u001b[mhi,\u001b[m\u001b[m\u001b[1m  0.3 \u001b[m\u001b[msi,\u001b[m\u001b[m\u001b[1m  0.2 \u001b[m\u001b[mst\u001b[m\u001b[m\u001b[m\u001b[m\u001b[K\n",
            "MiB Mem :\u001b[m\u001b[m\u001b[1m  12979.0 \u001b[m\u001b[mtotal,\u001b[m\u001b[m\u001b[1m   7260.8 \u001b[m\u001b[mfree,\u001b[m\u001b[m\u001b[1m    811.0 \u001b[m\u001b[mused,\u001b[m\u001b[m\u001b[1m   4907.2 \u001b[m\u001b[mbuff/cache\u001b[m\u001b[m\u001b[m\u001b[m\u001b[K\n",
            "MiB Swap:\u001b[m\u001b[m\u001b[1m      0.0 \u001b[m\u001b[mtotal,\u001b[m\u001b[m\u001b[1m      0.0 \u001b[m\u001b[mfree,\u001b[m\u001b[m\u001b[1m      0.0 \u001b[m\u001b[mused.\u001b[m\u001b[m\u001b[1m  11847.8 \u001b[m\u001b[mavail Mem \u001b[m\u001b[m\u001b[m\u001b[m\u001b[K\n",
            "\u001b[K\n",
            "\n",
            "\u001b[m      6 root      20   0  895652  54564  33828 S   1.3   0.4   0:01.03 node                         \u001b[m\u001b[m\u001b[K\n",
            "\u001b[m    492 root      20   0 1125052 111564  26672 S   0.7   0.8   0:03.32 python3                      \u001b[m\u001b[m\u001b[K\n",
            "\u001b[m     19 root      20   0 1235208  11172   7672 S   0.3   0.1   0:00.08 kernel_manager_              \u001b[m\u001b[m\u001b[K\n",
            "\u001b[m      1 root      20   0    1076      8      0 S   0.0   0.0   0:00.01 docker-init                  \u001b[m\u001b[m\u001b[K\n",
            "\u001b[m     15 root      20   0    7376   3440   3140 S   0.0   0.0   0:00.10 oom_monitor.sh               \u001b[m\u001b[m\u001b[K\n",
            "\u001b[m     17 root      20   0    7376   1876   1592 S   0.0   0.0   0:00.00 run.sh                       \u001b[m\u001b[m\u001b[K\n",
            "\u001b[m     21 root      20   0    5808   1000    908 S   0.0   0.0   0:00.01 tail                         \u001b[m\u001b[m\u001b[K\n",
            "\u001b[m     64 root      20   0       0      0      0 Z   0.0   0.0   0:07.42 python3                      \u001b[m\u001b[m\u001b[K\n",
            "\u001b[m     65 root      20   0   66684  52288  18684 S   0.0   0.4   0:00.85 colab-fileshim.              \u001b[m\u001b[m\u001b[K\n",
            "\u001b[m     87 root      20   0  362376 116916  27700 S   0.0   0.9   0:03.58 jupyter-noteboo              \u001b[m\u001b[m\u001b[K\n",
            "\u001b[m     88 root      20   0 1229072   5120   3452 S   0.0   0.0   0:00.02 dap_multiplexer              \u001b[m\u001b[m\u001b[K\n",
            "\u001b[m    535 root      20   0  538256  12944   4988 S   0.0   0.1   0:00.03 python3                      \u001b[m\u001b[m\u001b[K\n",
            "\n",
            "\n",
            "\n",
            "\u001b[m    842 root      20   0    5776    996    908 S   0.0   0.0   0:00.00 sleep                        \u001b[m\u001b[m\u001b[K\n",
            "\u001b[J\u001b[?1l\u001b>\u001b[25;1H\n",
            "\u001b[K"
          ]
        }
      ]
    },
    {
      "cell_type": "code",
      "source": [
        "!sudo apt update tree"
      ],
      "metadata": {
        "id": "CK370U6qbwCm",
        "outputId": "b2e08d6f-d4ba-4964-a381-e57b52ba408d",
        "colab": {
          "base_uri": "https://localhost:8080/"
        }
      },
      "execution_count": null,
      "outputs": [
        {
          "output_type": "stream",
          "name": "stdout",
          "text": [
            "\u001b[1;31mE: \u001b[0mThe update command takes no arguments\u001b[0m\n"
          ]
        }
      ]
    },
    {
      "cell_type": "markdown",
      "metadata": {
        "id": "UgG35Rcs0VDS"
      },
      "source": [
        "## 2.1 Unix\n",
        "\n",
        "Unix is an operating system which was first developed in the 1960s. An operating system can be thought of as a collection of programs that make the computer work. UNIX is a ***stable***, ***multi-user***, ***multi-tasking*** system for servers, desktops and laptops. UNIX systems also have a Graphical User Interface (GUI) similar to Microsoft Windows which provides an easy to use environment. However, most UNIX operations aren't properly covered by a graphical program, so users operate UNIX machines using **commands**.\n",
        "\n",
        "#### Types\n",
        "\n",
        "There are many different versions of UNIX, although they share common similarities. The most popular varieties of UNIX are Sun **Solaris**, **GNU/Linux**, and **MacOS X**.\n",
        "\n",
        "### Linux\n",
        "\n",
        "Linux is a free and open-source operating system kernel that was created by **Linus Torvalds in 1991**. Linux was developed as a Unix-like system, inspired by Minix and older Unix branches. Unlike Unix, Linux is not a single operating system but rather a **kernel** that can be combined with various software packages to create complete operating systems called **distributions**. These distributions, such as **Ubuntu**, include the Linux kernel and additional software to provide a complete computing environment. It is under GPL license.\n",
        "\n",
        "### Architecture\n",
        "\n",
        "The Unix / Linux operating system is made up of three parts: the **kernel**, the **shell** and the **Application**.\n",
        "\n",
        "* **Kernel** is the hub of the operating system which allocates resources to programs and handles the file storage and communications in response to system calls.\n",
        "* **Shell** acts as an interface between the user and the kernel. When a user logs in, the login program verifies the username and password, and starts another program called the shell. The shell is a **command line interpreter **(CLI). It interprets the commands the user types in and arranges for them to be carried out. The commands are themselves programs: when they terminate, the shell gives the user another prompt.\n",
        "\n",
        "<img src=\"https://i.ytimg.com/vi/EDkYtwVrLnM/maxresdefault.jpg\"></img>\n",
        "\n",
        "* **Application** layer runs many user and background processes. A process is an executing program identified by a unique PID (process identifier).\n",
        "\n",
        "<img src=\"https://www.tecmint.com/wp-content/uploads/2017/03/top-command.png\"></img>\n",
        "\n",
        "### Ubuntu\n",
        "\n",
        "Ubuntu is a **Linux-based operating system distribution**. It was created by Canonical Ltd. and released in 2004 with the goal of making Linux more **accessible to a wider range of users**. Ubuntu builds upon user-friendly interfaces, and software ecosystem. It aims to provide a complete and polished user experience, focusing on ease of use, regular releases, and a large community of users and developers. Ubuntu also uses the **APT package management system** and offers a wide variety of software applications through its repositories. It is known for its strong focus on desktop usability but also has versions tailored for servers, cloud environments, and other specialized use cases.\n",
        "\n",
        "<img src=\"https://th.bing.com/th/id/OIP.rN0bZW4y3-NpnlfDm-K0MgHaD2?rs=1&pid=ImgDetMain\"></img>"
      ]
    },
    {
      "cell_type": "markdown",
      "metadata": {
        "id": "t7-PzMRNx15Y"
      },
      "source": [
        "### Files and Processes\n",
        "\n",
        "Everything in UNIX is either a **file** or a **process**. A file is a collection of data and are created by users using text editors, running compilers and so on. A process is simply an executing program as mentioned previously.\n",
        "\n",
        "Examples of files:\n",
        "\n",
        "- A document (report, essay etc.).\n",
        "- The text of a program written in some high-level programming language.\n",
        "- Instructions comprehensible to the machine and incomprehensible to users, for example, a collection of binary digits (an executable or binary file).\n",
        "- A directory, containing information about its contents, which may be a mixture of other sub-directories and ordinary files."
      ]
    },
    {
      "cell_type": "markdown",
      "metadata": {
        "id": "WoevouBh1C-b"
      },
      "source": [
        "### The Directory Structure\n",
        "\n",
        "All files are grouped together in the directory structure. The file-system is arranged in a *hierarchical* structure, like a tree data structure. The top of the hierarchy is known as **root** (written as a forward slash `/` )."
      ]
    },
    {
      "cell_type": "code",
      "execution_count": null,
      "metadata": {
        "colab": {
          "base_uri": "https://localhost:8080/"
        },
        "id": "mLKTw-851Knm",
        "outputId": "1a4de8d1-e37c-41fd-92bd-faed5f087c18"
      },
      "outputs": [
        {
          "output_type": "stream",
          "name": "stdout",
          "text": [
            "total 116\n",
            "drwxr-xr-x   1 root root  4096 Jul 30 05:42 .\n",
            "drwxr-xr-x   1 root root  4096 Jul 30 05:42 ..\n",
            "lrwxrwxrwx   1 root root     7 Oct  4  2023 bin -> usr/bin\n",
            "drwxr-xr-x   2 root root  4096 Apr 18  2022 boot\n",
            "drwxr-xr-x   1 root root  4096 Jul 26 13:19 content\n",
            "-rw-r--r--   1 root root  4332 Nov 10  2023 cuda-keyring_1.0-1_all.deb\n",
            "drwxr-xr-x   1 root root  4096 Jul 26 13:35 datalab\n",
            "drwxr-xr-x   5 root root   360 Jul 30 05:42 dev\n",
            "-rwxr-xr-x   1 root root     0 Jul 30 05:42 .dockerenv\n",
            "drwxr-xr-x   1 root root  4096 Jul 30 05:42 etc\n",
            "drwxr-xr-x   2 root root  4096 Apr 18  2022 home\n",
            "drwxr-xr-x   3 root root  4096 Jul 30 05:42 kaggle\n",
            "lrwxrwxrwx   1 root root     7 Oct  4  2023 lib -> usr/lib\n",
            "lrwxrwxrwx   1 root root     9 Oct  4  2023 lib32 -> usr/lib32\n",
            "lrwxrwxrwx   1 root root     9 Oct  4  2023 lib64 -> usr/lib64\n",
            "lrwxrwxrwx   1 root root    10 Oct  4  2023 libx32 -> usr/libx32\n",
            "drwxr-xr-x   2 root root  4096 Oct  4  2023 media\n",
            "drwxr-xr-x   2 root root  4096 Oct  4  2023 mnt\n",
            "-rw-r--r--   1 root root 17294 Nov 10  2023 NGC-DL-CONTAINER-LICENSE\n",
            "drwxr-xr-x   1 root root  4096 Jul 26 13:46 opt\n",
            "dr-xr-xr-x 195 root root     0 Jul 30 05:42 proc\n",
            "drwxr-xr-x  15 root root  4096 Jul 26 13:18 python-apt\n",
            "drwx------   1 root root  4096 Jul 30 05:42 root\n",
            "drwxr-xr-x   1 root root  4096 Jul 26 13:13 run\n",
            "lrwxrwxrwx   1 root root     8 Oct  4  2023 sbin -> usr/sbin\n",
            "drwxr-xr-x   2 root root  4096 Oct  4  2023 srv\n",
            "dr-xr-xr-x  13 root root     0 Jul 30 05:42 sys\n",
            "drwxrwxrwt   1 root root  4096 Jul 30 05:43 tmp\n",
            "drwxr-xr-x   1 root root  4096 Jul 26 13:35 tools\n",
            "drwxr-xr-x   1 root root  4096 Jul 26 13:36 usr\n",
            "drwxr-xr-x   1 root root  4096 Jul 26 13:35 var\n"
          ]
        }
      ],
      "source": [
        "!ls -la /"
      ]
    },
    {
      "cell_type": "code",
      "execution_count": 2,
      "metadata": {
        "colab": {
          "base_uri": "https://localhost:8080/"
        },
        "id": "QeMOdCSs1vvI",
        "outputId": "9ecd3d38-2ddd-46ee-a11b-a1f5b3394714",
        "collapsed": true
      },
      "outputs": [
        {
          "output_type": "stream",
          "name": "stdout",
          "text": [
            "Reading package lists... Done\n",
            "Building dependency tree... Done\n",
            "Reading state information... Done\n",
            "The following NEW packages will be installed:\n",
            "  tree\n",
            "0 upgraded, 1 newly installed, 0 to remove and 45 not upgraded.\n",
            "Need to get 47.9 kB of archives.\n",
            "After this operation, 116 kB of additional disk space will be used.\n",
            "Get:1 http://archive.ubuntu.com/ubuntu jammy/universe amd64 tree amd64 2.0.2-1 [47.9 kB]\n",
            "Fetched 47.9 kB in 1s (56.1 kB/s)\n",
            "debconf: unable to initialize frontend: Dialog\n",
            "debconf: (No usable dialog-like program is installed, so the dialog based frontend cannot be used. at /usr/share/perl5/Debconf/FrontEnd/Dialog.pm line 78, <> line 1.)\n",
            "debconf: falling back to frontend: Readline\n",
            "debconf: unable to initialize frontend: Readline\n",
            "debconf: (This frontend requires a controlling tty.)\n",
            "debconf: falling back to frontend: Teletype\n",
            "dpkg-preconfigure: unable to re-open stdin: \n",
            "Selecting previously unselected package tree.\n",
            "(Reading database ... 123588 files and directories currently installed.)\n",
            "Preparing to unpack .../tree_2.0.2-1_amd64.deb ...\n",
            "Unpacking tree (2.0.2-1) ...\n",
            "Setting up tree (2.0.2-1) ...\n",
            "Processing triggers for man-db (2.10.2-1) ...\n"
          ]
        }
      ],
      "source": [
        "!sudo apt-get install tree"
      ]
    },
    {
      "cell_type": "code",
      "source": [
        "!tree -L 2 /"
      ],
      "metadata": {
        "id": "h1QYAE3ecP6u",
        "outputId": "56c3c64c-eed9-4c57-c411-cd1624cb23ff",
        "colab": {
          "base_uri": "https://localhost:8080/"
        }
      },
      "execution_count": 3,
      "outputs": [
        {
          "output_type": "stream",
          "name": "stdout",
          "text": [
            "\u001b[01;34m/\u001b[0m\n",
            "├── \u001b[01;36mbin\u001b[0m -> \u001b[01;34musr/bin\u001b[0m\n",
            "├── \u001b[01;34mboot\u001b[0m\n",
            "├── \u001b[01;34mcontent\u001b[0m\n",
            "│   └── \u001b[01;34msample_data\u001b[0m\n",
            "├── \u001b[01;31mcuda-keyring_1.0-1_all.deb\u001b[0m\n",
            "├── \u001b[01;34mdatalab\u001b[0m\n",
            "│   ├── \u001b[01;32mrun.sh\u001b[0m\n",
            "│   └── \u001b[01;34mweb\u001b[0m\n",
            "├── \u001b[01;34mdev\u001b[0m\n",
            "│   ├── \u001b[01;36mcore\u001b[0m -> \u001b[40;33;01m/proc/kcore\u001b[0m\n",
            "│   ├── \u001b[01;36mfd\u001b[0m -> \u001b[01;34m/proc/self/fd\u001b[0m\n",
            "│   ├── \u001b[40;33;01mfull\u001b[0m\n",
            "│   ├── \u001b[40;33;01mfuse\u001b[0m\n",
            "│   ├── \u001b[01;34mmqueue\u001b[0m\n",
            "│   ├── \u001b[40;33;01mnull\u001b[0m\n",
            "│   ├── \u001b[01;36mptmx\u001b[0m -> \u001b[40;33;01mpts/ptmx\u001b[0m\n",
            "│   ├── \u001b[01;34mpts\u001b[0m\n",
            "│   ├── \u001b[40;33;01mrandom\u001b[0m\n",
            "│   ├── \u001b[01;34mshm\u001b[0m\n",
            "│   ├── \u001b[01;36mstderr\u001b[0m -> \u001b[40;33;01m/proc/self/fd/2\u001b[0m\n",
            "│   ├── \u001b[01;36mstdin\u001b[0m -> \u001b[40;33;01m/proc/self/fd/0\u001b[0m\n",
            "│   ├── \u001b[01;36mstdout\u001b[0m -> \u001b[40;33;01m/proc/self/fd/1\u001b[0m\n",
            "│   ├── \u001b[40;33;01mtty\u001b[0m\n",
            "│   ├── \u001b[40;33;01murandom\u001b[0m\n",
            "│   └── \u001b[40;33;01mzero\u001b[0m\n",
            "├── \u001b[01;34metc\u001b[0m\n",
            "│   ├── \u001b[00madduser.conf\u001b[0m\n",
            "│   ├── \u001b[01;34malternatives\u001b[0m\n",
            "│   ├── \u001b[01;34mapparmor.d\u001b[0m\n",
            "│   ├── \u001b[01;34mapt\u001b[0m\n",
            "│   ├── \u001b[00mbash.bashrc\u001b[0m\n",
            "│   ├── \u001b[01;34mbash_completion.d\u001b[0m\n",
            "│   ├── \u001b[00mbindresvport.blacklist\u001b[0m\n",
            "│   ├── \u001b[01;34mbinfmt.d\u001b[0m\n",
            "│   ├── \u001b[01;34mca-certificates\u001b[0m\n",
            "│   ├── \u001b[00mca-certificates.conf\u001b[0m\n",
            "│   ├── \u001b[01;34mcloud\u001b[0m\n",
            "│   ├── \u001b[01;34mcron.d\u001b[0m\n",
            "│   ├── \u001b[01;34mcron.daily\u001b[0m\n",
            "│   ├── \u001b[01;34mcron.weekly\u001b[0m\n",
            "│   ├── \u001b[01;36mcufile.json\u001b[0m -> \u001b[00m/etc/alternatives/cufile.json\u001b[0m\n",
            "│   ├── \u001b[01;34mdbus-1\u001b[0m\n",
            "│   ├── \u001b[01;34mdconf\u001b[0m\n",
            "│   ├── \u001b[00mdebconf.conf\u001b[0m\n",
            "│   ├── \u001b[00mdebian_version\u001b[0m\n",
            "│   ├── \u001b[01;34mdefault\u001b[0m\n",
            "│   ├── \u001b[00mdeluser.conf\u001b[0m\n",
            "│   ├── \u001b[01;34mdepmod.d\u001b[0m\n",
            "│   ├── \u001b[01;34mdpkg\u001b[0m\n",
            "│   ├── \u001b[00me2scrub.conf\u001b[0m\n",
            "│   ├── \u001b[01;34memacs\u001b[0m\n",
            "│   ├── \u001b[00menvironment\u001b[0m\n",
            "│   ├── \u001b[01;34mfonts\u001b[0m\n",
            "│   ├── \u001b[00mfstab\u001b[0m\n",
            "│   ├── \u001b[00mfuse.conf\u001b[0m\n",
            "│   ├── \u001b[00mgai.conf\u001b[0m\n",
            "│   ├── \u001b[00mgitconfig\u001b[0m\n",
            "│   ├── \u001b[01;34mglvnd\u001b[0m\n",
            "│   ├── \u001b[01;34mgroff\u001b[0m\n",
            "│   ├── \u001b[00mgroup\u001b[0m\n",
            "│   ├── \u001b[00mgroup-\u001b[0m\n",
            "│   ├── \u001b[00mgshadow\u001b[0m\n",
            "│   ├── \u001b[00mgshadow-\u001b[0m\n",
            "│   ├── \u001b[01;34mgss\u001b[0m\n",
            "│   ├── \u001b[01;34mgtk-3.0\u001b[0m\n",
            "│   ├── \u001b[00mhost.conf\u001b[0m\n",
            "│   ├── \u001b[00mhostname\u001b[0m\n",
            "│   ├── \u001b[00mhosts\u001b[0m\n",
            "│   ├── \u001b[01;34minit.d\u001b[0m\n",
            "│   ├── \u001b[00minputrc\u001b[0m\n",
            "│   ├── \u001b[01;34miproute2\u001b[0m\n",
            "│   ├── \u001b[01;34mipython\u001b[0m\n",
            "│   ├── \u001b[00missue\u001b[0m\n",
            "│   ├── \u001b[00missue.net\u001b[0m\n",
            "│   ├── \u001b[01;34mjava-11-openjdk\u001b[0m\n",
            "│   ├── \u001b[01;34mjupyter\u001b[0m\n",
            "│   ├── \u001b[01;34mkernel\u001b[0m\n",
            "│   ├── \u001b[00mld.so.cache\u001b[0m\n",
            "│   ├── \u001b[00mld.so.conf\u001b[0m\n",
            "│   ├── \u001b[01;34mld.so.conf.d\u001b[0m\n",
            "│   ├── \u001b[00mlegal\u001b[0m\n",
            "│   ├── \u001b[00mlibaudit.conf\u001b[0m\n",
            "│   ├── \u001b[01;34mlibibverbs.d\u001b[0m\n",
            "│   ├── \u001b[01;34mlibnl-3\u001b[0m\n",
            "│   ├── \u001b[01;34mlibpaper.d\u001b[0m\n",
            "│   ├── \u001b[00mlocale.alias\u001b[0m\n",
            "│   ├── \u001b[00mlocale.gen\u001b[0m\n",
            "│   ├── \u001b[01;36mlocaltime\u001b[0m -> \u001b[00m/usr/share/zoneinfo/Etc/UTC\u001b[0m\n",
            "│   ├── \u001b[01;34mlogcheck\u001b[0m\n",
            "│   ├── \u001b[00mlogin.defs\u001b[0m\n",
            "│   ├── \u001b[01;34mlogrotate.d\u001b[0m\n",
            "│   ├── \u001b[00mlsb-release\u001b[0m\n",
            "│   ├── \u001b[00mmachine-id\u001b[0m\n",
            "│   ├── \u001b[00mmagic\u001b[0m\n",
            "│   ├── \u001b[00mmagic.mime\u001b[0m\n",
            "│   ├── \u001b[00mmanpath.config\u001b[0m\n",
            "│   ├── \u001b[00mmime.types\u001b[0m\n",
            "│   ├── \u001b[00mmke2fs.conf\u001b[0m\n",
            "│   ├── \u001b[01;34mmodprobe.d\u001b[0m\n",
            "│   ├── \u001b[00mmodules\u001b[0m\n",
            "│   ├── \u001b[01;34mmodules-load.d\u001b[0m\n",
            "│   ├── \u001b[01;36mmtab\u001b[0m -> \u001b[00m/proc/mounts\u001b[0m\n",
            "│   ├── \u001b[01;34mmysql\u001b[0m\n",
            "│   ├── \u001b[00mnetconfig\u001b[0m\n",
            "│   ├── \u001b[00mnetworks\u001b[0m\n",
            "│   ├── \u001b[00mnsswitch.conf\u001b[0m\n",
            "│   ├── \u001b[01;34mODBCDataSources\u001b[0m\n",
            "│   ├── \u001b[00modbc.ini\u001b[0m\n",
            "│   ├── \u001b[00modbcinst.ini\u001b[0m\n",
            "│   ├── \u001b[01;34mopenal\u001b[0m\n",
            "│   ├── \u001b[01;34mopenmpi\u001b[0m\n",
            "│   ├── \u001b[01;34mopt\u001b[0m\n",
            "│   ├── \u001b[01;36mos-release\u001b[0m -> \u001b[00m../usr/lib/os-release\u001b[0m\n",
            "│   ├── \u001b[01;34mPackageKit\u001b[0m\n",
            "│   ├── \u001b[00mpam.conf\u001b[0m\n",
            "│   ├── \u001b[01;34mpam.d\u001b[0m\n",
            "│   ├── \u001b[00mpapersize\u001b[0m\n",
            "│   ├── \u001b[00mpasswd\u001b[0m\n",
            "│   ├── \u001b[00mpasswd-\u001b[0m\n",
            "│   ├── \u001b[01;34mperl\u001b[0m\n",
            "│   ├── \u001b[01;32mpip.conf\u001b[0m\n",
            "│   ├── \u001b[01;34mpolkit-1\u001b[0m\n",
            "│   ├── \u001b[00mprofile\u001b[0m\n",
            "│   ├── \u001b[01;34mprofile.d\u001b[0m\n",
            "│   ├── \u001b[01;34mpulse\u001b[0m\n",
            "│   ├── \u001b[01;34mpython3\u001b[0m\n",
            "│   ├── \u001b[01;34mpython3.10\u001b[0m\n",
            "│   ├── \u001b[01;34mR\u001b[0m\n",
            "│   ├── \u001b[01;34mrc0.d\u001b[0m\n",
            "│   ├── \u001b[01;34mrc1.d\u001b[0m\n",
            "│   ├── \u001b[01;34mrc2.d\u001b[0m\n",
            "│   ├── \u001b[01;34mrc3.d\u001b[0m\n",
            "│   ├── \u001b[01;34mrc4.d\u001b[0m\n",
            "│   ├── \u001b[01;34mrc5.d\u001b[0m\n",
            "│   ├── \u001b[01;34mrc6.d\u001b[0m\n",
            "│   ├── \u001b[01;34mrcS.d\u001b[0m\n",
            "│   ├── \u001b[01;32mrequirements3.txt\u001b[0m\n",
            "│   ├── \u001b[01;32mrequirements.core.in\u001b[0m\n",
            "│   ├── \u001b[01;32mrequirements.in\u001b[0m\n",
            "│   ├── \u001b[01;32mrequirements.user.in\u001b[0m\n",
            "│   ├── \u001b[00mresolv.conf\u001b[0m\n",
            "│   ├── \u001b[01;36mrmt\u001b[0m -> \u001b[01;32m/usr/sbin/rmt\u001b[0m\n",
            "│   ├── \u001b[01;34msecurity\u001b[0m\n",
            "│   ├── \u001b[01;34mselinux\u001b[0m\n",
            "│   ├── \u001b[00msensors3.conf\u001b[0m\n",
            "│   ├── \u001b[01;34msensors.d\u001b[0m\n",
            "│   ├── \u001b[00mshadow\u001b[0m\n",
            "│   ├── \u001b[00mshadow-\u001b[0m\n",
            "│   ├── \u001b[00mshells\u001b[0m\n",
            "│   ├── \u001b[01;34mskel\u001b[0m\n",
            "│   ├── \u001b[01;34mssh\u001b[0m\n",
            "│   ├── \u001b[01;34mssl\u001b[0m\n",
            "│   ├── \u001b[00msubgid\u001b[0m\n",
            "│   ├── \u001b[00msubuid\u001b[0m\n",
            "│   ├── \u001b[00msudo.conf\u001b[0m\n",
            "│   ├── \u001b[00msudoers\u001b[0m\n",
            "│   ├── \u001b[01;34msudoers.d\u001b[0m\n",
            "│   ├── \u001b[00msudo_logsrvd.conf\u001b[0m\n",
            "│   ├── \u001b[00msysctl.conf\u001b[0m\n",
            "│   ├── \u001b[01;34msysctl.d\u001b[0m\n",
            "│   ├── \u001b[01;34msystemd\u001b[0m\n",
            "│   ├── \u001b[01;34mterminfo\u001b[0m\n",
            "│   ├── \u001b[00mtimezone\u001b[0m\n",
            "│   ├── \u001b[01;34mtmpfiles.d\u001b[0m\n",
            "│   ├── \u001b[00mucf.conf\u001b[0m\n",
            "│   ├── \u001b[01;34mupdate-motd.d\u001b[0m\n",
            "│   ├── \u001b[00mvdpau_wrapper.cfg\u001b[0m\n",
            "│   ├── \u001b[01;34mvim\u001b[0m\n",
            "│   ├── \u001b[00mwgetrc\u001b[0m\n",
            "│   ├── \u001b[01;34mX11\u001b[0m\n",
            "│   ├── \u001b[00mxattr.conf\u001b[0m\n",
            "│   └── \u001b[01;34mxdg\u001b[0m\n",
            "├── \u001b[01;34mhome\u001b[0m\n",
            "├── \u001b[01;34mkaggle\u001b[0m\n",
            "│   └── \u001b[01;34minput\u001b[0m\n",
            "├── \u001b[01;36mlib\u001b[0m -> \u001b[01;34musr/lib\u001b[0m\n",
            "├── \u001b[01;36mlib32\u001b[0m -> \u001b[01;34musr/lib32\u001b[0m\n",
            "├── \u001b[01;36mlib64\u001b[0m -> \u001b[01;34musr/lib64\u001b[0m\n",
            "├── \u001b[01;36mlibx32\u001b[0m -> \u001b[01;34musr/libx32\u001b[0m\n",
            "├── \u001b[01;34mmedia\u001b[0m\n",
            "├── \u001b[01;34mmnt\u001b[0m\n",
            "├── \u001b[00mNGC-DL-CONTAINER-LICENSE\u001b[0m\n",
            "├── \u001b[01;34mopt\u001b[0m\n",
            "│   ├── \u001b[01;34mgoogle\u001b[0m\n",
            "│   └── \u001b[01;34mnvidia\u001b[0m\n",
            "├── \u001b[01;34mproc\u001b[0m\n",
            "│   ├── \u001b[01;34m1\u001b[0m\n",
            "│   ├── \u001b[01;34m1350\u001b[0m\n",
            "│   ├── \u001b[01;34m1351\u001b[0m\n",
            "│   ├── \u001b[01;34m16\u001b[0m\n",
            "│   ├── \u001b[01;34m18\u001b[0m\n",
            "│   ├── \u001b[01;34m20\u001b[0m\n",
            "│   ├── \u001b[01;34m22\u001b[0m\n",
            "│   ├── \u001b[01;34m433\u001b[0m\n",
            "│   ├── \u001b[01;34m468\u001b[0m\n",
            "│   ├── \u001b[01;34m497\u001b[0m\n",
            "│   ├── \u001b[01;34m502\u001b[0m\n",
            "│   ├── \u001b[01;34m61\u001b[0m\n",
            "│   ├── \u001b[01;34m62\u001b[0m\n",
            "│   ├── \u001b[01;34m7\u001b[0m\n",
            "│   ├── \u001b[01;34m80\u001b[0m\n",
            "│   ├── \u001b[01;34m81\u001b[0m\n",
            "│   ├── \u001b[01;34macpi\u001b[0m\n",
            "│   ├── \u001b[00mbuddyinfo\u001b[0m\n",
            "│   ├── \u001b[01;34mbus\u001b[0m\n",
            "│   ├── \u001b[00mcgroups\u001b[0m\n",
            "│   ├── \u001b[00mcmdline\u001b[0m\n",
            "│   ├── \u001b[01;31mconfig.gz\u001b[0m\n",
            "│   ├── \u001b[00mconsoles\u001b[0m\n",
            "│   ├── \u001b[00mcpuinfo\u001b[0m\n",
            "│   ├── \u001b[00mcrypto\u001b[0m\n",
            "│   ├── \u001b[00mdevices\u001b[0m\n",
            "│   ├── \u001b[00mdiskstats\u001b[0m\n",
            "│   ├── \u001b[00mdma\u001b[0m\n",
            "│   ├── \u001b[01;34mdriver\u001b[0m\n",
            "│   ├── \u001b[00mexecdomains\u001b[0m\n",
            "│   ├── \u001b[00mfilesystems\u001b[0m\n",
            "│   ├── \u001b[01;34mfs\u001b[0m\n",
            "│   ├── \u001b[00minterrupts\u001b[0m\n",
            "│   ├── \u001b[00miomem\u001b[0m\n",
            "│   ├── \u001b[00mioports\u001b[0m\n",
            "│   ├── \u001b[01;34mirq\u001b[0m\n",
            "│   ├── \u001b[00mkallsyms\u001b[0m\n",
            "│   ├── \u001b[40;33;01mkcore\u001b[0m\n",
            "│   ├── \u001b[40;33;01mkeys\u001b[0m\n",
            "│   ├── \u001b[00mkey-users\u001b[0m\n",
            "│   ├── \u001b[00mkmsg\u001b[0m\n",
            "│   ├── \u001b[00mkpagecgroup\u001b[0m\n",
            "│   ├── \u001b[00mkpagecount\u001b[0m\n",
            "│   ├── \u001b[00mkpageflags\u001b[0m\n",
            "│   ├── \u001b[00mloadavg\u001b[0m\n",
            "│   ├── \u001b[00mlocks\u001b[0m\n",
            "│   ├── \u001b[00mmdstat\u001b[0m\n",
            "│   ├── \u001b[00mmeminfo\u001b[0m\n",
            "│   ├── \u001b[00mmisc\u001b[0m\n",
            "│   ├── \u001b[00mmodules\u001b[0m\n",
            "│   ├── \u001b[01;36mmounts\u001b[0m -> \u001b[00mself/mounts\u001b[0m\n",
            "│   ├── \u001b[00mmtrr\u001b[0m\n",
            "│   ├── \u001b[01;36mnet\u001b[0m -> \u001b[01;34mself/net\u001b[0m\n",
            "│   ├── \u001b[00mpagetypeinfo\u001b[0m\n",
            "│   ├── \u001b[00mpartitions\u001b[0m\n",
            "│   ├── \u001b[01;34mpressure\u001b[0m\n",
            "│   ├── \u001b[00mschedstat\u001b[0m\n",
            "│   ├── \u001b[01;34mscsi\u001b[0m\n",
            "│   ├── \u001b[01;36mself\u001b[0m -> \u001b[01;34m1351\u001b[0m\n",
            "│   ├── \u001b[00mslabinfo\u001b[0m\n",
            "│   ├── \u001b[00msoftirqs\u001b[0m\n",
            "│   ├── \u001b[00mstat\u001b[0m\n",
            "│   ├── \u001b[00mswaps\u001b[0m\n",
            "│   ├── \u001b[01;34msys\u001b[0m\n",
            "│   ├── \u001b[00msysrq-trigger\u001b[0m\n",
            "│   ├── \u001b[01;34msysvipc\u001b[0m\n",
            "│   ├── \u001b[01;36mthread-self\u001b[0m -> \u001b[01;34m1351/task/1351\u001b[0m\n",
            "│   ├── \u001b[40;33;01mtimer_list\u001b[0m\n",
            "│   ├── \u001b[01;34mtty\u001b[0m\n",
            "│   ├── \u001b[00muptime\u001b[0m\n",
            "│   ├── \u001b[00mversion\u001b[0m\n",
            "│   ├── \u001b[00mvmallocinfo\u001b[0m\n",
            "│   ├── \u001b[00mvmstat\u001b[0m\n",
            "│   └── \u001b[00mzoneinfo\u001b[0m\n",
            "├── \u001b[01;34mpython-apt\u001b[0m\n",
            "│   ├── \u001b[01;34mapt\u001b[0m\n",
            "│   ├── \u001b[01;34maptsources\u001b[0m\n",
            "│   ├── \u001b[00mAUTHORS\u001b[0m\n",
            "│   ├── \u001b[01;34mbuild\u001b[0m\n",
            "│   ├── \u001b[00mCOPYING.GPL\u001b[0m\n",
            "│   ├── \u001b[01;34mdata\u001b[0m\n",
            "│   ├── \u001b[01;34mdebian\u001b[0m\n",
            "│   ├── \u001b[01;34mdoc\u001b[0m\n",
            "│   ├── \u001b[00mDockerfile\u001b[0m\n",
            "│   ├── \u001b[01;34mpo\u001b[0m\n",
            "│   ├── \u001b[01;32mpre-build.sh\u001b[0m\n",
            "│   ├── \u001b[01;34mpython\u001b[0m\n",
            "│   ├── \u001b[01;34mpython_apt.egg-info\u001b[0m\n",
            "│   ├── \u001b[00mREADME.md\u001b[0m\n",
            "│   ├── \u001b[00msetup.cfg\u001b[0m\n",
            "│   ├── \u001b[00msetup.py\u001b[0m\n",
            "│   ├── \u001b[01;34mtests\u001b[0m\n",
            "│   ├── \u001b[00mTODO\u001b[0m\n",
            "│   ├── \u001b[01;34mtypehinting\u001b[0m\n",
            "│   └── \u001b[01;34mutils\u001b[0m\n",
            "├── \u001b[01;34mroot\u001b[0m\n",
            "├── \u001b[01;34mrun\u001b[0m\n",
            "│   ├── \u001b[01;34mlock\u001b[0m\n",
            "│   ├── \u001b[01;34mlog\u001b[0m\n",
            "│   ├── \u001b[01;34mmount\u001b[0m\n",
            "│   ├── \u001b[01;34msendsigs.omit.d\u001b[0m\n",
            "│   ├── \u001b[01;36mshm\u001b[0m -> \u001b[01;34m/dev/shm\u001b[0m\n",
            "│   ├── \u001b[01;34msystemd\u001b[0m\n",
            "│   └── \u001b[01;34muser\u001b[0m\n",
            "├── \u001b[01;36msbin\u001b[0m -> \u001b[01;34musr/sbin\u001b[0m\n",
            "├── \u001b[01;34msrv\u001b[0m\n",
            "├── \u001b[01;34msys\u001b[0m\n",
            "│   ├── \u001b[01;34mblock\u001b[0m\n",
            "│   ├── \u001b[01;34mbus\u001b[0m\n",
            "│   ├── \u001b[01;34mclass\u001b[0m\n",
            "│   ├── \u001b[01;34mdev\u001b[0m\n",
            "│   ├── \u001b[01;34mdevices\u001b[0m\n",
            "│   ├── \u001b[01;34mfirmware\u001b[0m\n",
            "│   ├── \u001b[01;34mfs\u001b[0m\n",
            "│   ├── \u001b[01;34mhypervisor\u001b[0m\n",
            "│   ├── \u001b[01;34mkernel\u001b[0m\n",
            "│   ├── \u001b[01;34mmodule\u001b[0m\n",
            "│   └── \u001b[01;34mpower\u001b[0m\n",
            "├── \u001b[01;34mtmp\u001b[0m\n",
            "│   ├── \u001b[00mdap_multiplexer.f1babe035597.root.log.INFO.20240731-025518.81\u001b[0m\n",
            "│   ├── \u001b[01;36mdap_multiplexer.INFO\u001b[0m -> \u001b[00mdap_multiplexer.f1babe035597.root.log.INFO.20240731-025518.81\u001b[0m\n",
            "│   ├── \u001b[01;35mdebugger_1hkmc18vzr\u001b[0m\n",
            "│   ├── \u001b[01;34minitgoogle_syslog_dir.0\u001b[0m\n",
            "│   ├── \u001b[01;36mlanguage_service.ERROR\u001b[0m -> \u001b[00mlanguage_service.f1babe035597.root.log.ERROR.20240731-025810.497\u001b[0m\n",
            "│   ├── \u001b[00mlanguage_service.f1babe035597.root.log.ERROR.20240731-025810.497\u001b[0m\n",
            "│   ├── \u001b[00mlanguage_service.f1babe035597.root.log.INFO.20240731-025649.497\u001b[0m\n",
            "│   ├── \u001b[00mlanguage_service.f1babe035597.root.log.WARNING.20240731-025810.497\u001b[0m\n",
            "│   ├── \u001b[01;36mlanguage_service.INFO\u001b[0m -> \u001b[00mlanguage_service.f1babe035597.root.log.INFO.20240731-025649.497\u001b[0m\n",
            "│   ├── \u001b[01;36mlanguage_service.WARNING\u001b[0m -> \u001b[00mlanguage_service.f1babe035597.root.log.WARNING.20240731-025810.497\u001b[0m\n",
            "│   ├── \u001b[01;34mpyright-502-gd8XNwVUH2D4\u001b[0m\n",
            "│   ├── \u001b[01;34mpyright-502-mPkVIBqJ9NrM\u001b[0m\n",
            "│   ├── \u001b[01;34mpython-languageserver-cancellation\u001b[0m\n",
            "│   └── \u001b[01;34mtmp923n_9re\u001b[0m\n",
            "├── \u001b[01;34mtools\u001b[0m\n",
            "│   ├── \u001b[01;34mgoogle-cloud-sdk\u001b[0m\n",
            "│   └── \u001b[01;34mnode\u001b[0m\n",
            "├── \u001b[01;34musr\u001b[0m\n",
            "│   ├── \u001b[01;34mbin\u001b[0m\n",
            "│   ├── \u001b[01;34mcolab\u001b[0m\n",
            "│   ├── \u001b[01;34mgames\u001b[0m\n",
            "│   ├── \u001b[01;34mgrte\u001b[0m\n",
            "│   ├── \u001b[01;34minclude\u001b[0m\n",
            "│   ├── \u001b[01;34mlib\u001b[0m\n",
            "│   ├── \u001b[01;34mlib32\u001b[0m\n",
            "│   ├── \u001b[01;34mlib64\u001b[0m\n",
            "│   ├── \u001b[01;34mlibexec\u001b[0m\n",
            "│   ├── \u001b[01;34mlibx32\u001b[0m\n",
            "│   ├── \u001b[01;34mlocal\u001b[0m\n",
            "│   ├── \u001b[01;34msbin\u001b[0m\n",
            "│   ├── \u001b[01;34mshare\u001b[0m\n",
            "│   └── \u001b[01;34msrc\u001b[0m\n",
            "└── \u001b[01;34mvar\u001b[0m\n",
            "    ├── \u001b[01;34mbackups\u001b[0m\n",
            "    ├── \u001b[01;34mcache\u001b[0m\n",
            "    ├── \u001b[01;34mcolab\u001b[0m\n",
            "    ├── \u001b[01;34mlib\u001b[0m\n",
            "    ├── \u001b[01;34mlocal\u001b[0m\n",
            "    ├── \u001b[01;36mlock\u001b[0m -> \u001b[01;34m/run/lock\u001b[0m\n",
            "    ├── \u001b[01;34mlog\u001b[0m\n",
            "    ├── \u001b[01;34mmail\u001b[0m\n",
            "    ├── \u001b[01;34mopt\u001b[0m\n",
            "    ├── \u001b[01;36mrun\u001b[0m -> \u001b[01;34m/run\u001b[0m\n",
            "    ├── \u001b[01;34mspool\u001b[0m\n",
            "    └── \u001b[01;34mtmp\u001b[0m\n",
            "\n",
            "199 directories, 151 files\n"
          ]
        }
      ]
    },
    {
      "cell_type": "code",
      "execution_count": null,
      "metadata": {
        "colab": {
          "base_uri": "https://localhost:8080/"
        },
        "id": "8k2TeAW12Jnx",
        "outputId": "6fe4ed65-264f-4348-c2bf-966d42eb6f58",
        "collapsed": true
      },
      "outputs": [
        {
          "output_type": "stream",
          "name": "stdout",
          "text": [
            "\u001b[01;34m/\u001b[0m\n",
            "├── \u001b[01;36mbin\u001b[0m -> \u001b[01;34musr/bin\u001b[0m\n",
            "├── \u001b[01;34mboot\u001b[0m\n",
            "├── \u001b[01;34mcontent\u001b[0m\n",
            "│   └── \u001b[01;34msample_data\u001b[0m\n",
            "├── \u001b[01;31mcuda-keyring_1.0-1_all.deb\u001b[0m\n",
            "├── \u001b[01;34mdatalab\u001b[0m\n",
            "│   ├── \u001b[01;32mrun.sh\u001b[0m\n",
            "│   └── \u001b[01;34mweb\u001b[0m\n",
            "├── \u001b[01;34mdev\u001b[0m\n",
            "│   ├── \u001b[01;36mcore\u001b[0m -> \u001b[40;33;01m/proc/kcore\u001b[0m\n",
            "│   ├── \u001b[01;36mfd\u001b[0m -> \u001b[01;34m/proc/self/fd\u001b[0m\n",
            "│   ├── \u001b[40;33;01mfull\u001b[0m\n",
            "│   ├── \u001b[40;33;01mfuse\u001b[0m\n",
            "│   ├── \u001b[01;34mmqueue\u001b[0m\n",
            "│   ├── \u001b[40;33;01mnull\u001b[0m\n",
            "│   ├── \u001b[01;36mptmx\u001b[0m -> \u001b[40;33;01mpts/ptmx\u001b[0m\n",
            "│   ├── \u001b[01;34mpts\u001b[0m\n",
            "│   ├── \u001b[40;33;01mrandom\u001b[0m\n",
            "│   ├── \u001b[01;34mshm\u001b[0m\n",
            "│   ├── \u001b[01;36mstderr\u001b[0m -> \u001b[40;33;01m/proc/self/fd/2\u001b[0m\n",
            "│   ├── \u001b[01;36mstdin\u001b[0m -> \u001b[40;33;01m/proc/self/fd/0\u001b[0m\n",
            "│   ├── \u001b[01;36mstdout\u001b[0m -> \u001b[40;33;01m/proc/self/fd/1\u001b[0m\n",
            "│   ├── \u001b[40;33;01mtty\u001b[0m\n",
            "│   ├── \u001b[40;33;01murandom\u001b[0m\n",
            "│   └── \u001b[40;33;01mzero\u001b[0m\n",
            "├── \u001b[01;34metc\u001b[0m\n",
            "│   ├── \u001b[00madduser.conf\u001b[0m\n",
            "│   ├── \u001b[01;34malternatives\u001b[0m\n",
            "│   ├── \u001b[01;34mapparmor.d\u001b[0m\n",
            "│   ├── \u001b[01;34mapt\u001b[0m\n",
            "│   ├── \u001b[00mbash.bashrc\u001b[0m\n",
            "│   ├── \u001b[01;34mbash_completion.d\u001b[0m\n",
            "│   ├── \u001b[00mbindresvport.blacklist\u001b[0m\n",
            "│   ├── \u001b[01;34mbinfmt.d\u001b[0m\n",
            "│   ├── \u001b[01;34mca-certificates\u001b[0m\n",
            "│   ├── \u001b[00mca-certificates.conf\u001b[0m\n",
            "│   ├── \u001b[01;34mcloud\u001b[0m\n",
            "│   ├── \u001b[01;34mcron.d\u001b[0m\n",
            "│   ├── \u001b[01;34mcron.daily\u001b[0m\n",
            "│   ├── \u001b[01;34mcron.weekly\u001b[0m\n",
            "│   ├── \u001b[01;36mcufile.json\u001b[0m -> \u001b[00m/etc/alternatives/cufile.json\u001b[0m\n",
            "│   ├── \u001b[01;34mdbus-1\u001b[0m\n",
            "│   ├── \u001b[01;34mdconf\u001b[0m\n",
            "│   ├── \u001b[00mdebconf.conf\u001b[0m\n",
            "│   ├── \u001b[00mdebian_version\u001b[0m\n",
            "│   ├── \u001b[01;34mdefault\u001b[0m\n",
            "│   ├── \u001b[00mdeluser.conf\u001b[0m\n",
            "│   ├── \u001b[01;34mdepmod.d\u001b[0m\n",
            "│   ├── \u001b[01;34mdpkg\u001b[0m\n",
            "│   ├── \u001b[00me2scrub.conf\u001b[0m\n",
            "│   ├── \u001b[01;34memacs\u001b[0m\n",
            "│   ├── \u001b[00menvironment\u001b[0m\n",
            "│   ├── \u001b[01;34mfonts\u001b[0m\n",
            "│   ├── \u001b[00mfstab\u001b[0m\n",
            "│   ├── \u001b[00mfuse.conf\u001b[0m\n",
            "│   ├── \u001b[00mgai.conf\u001b[0m\n",
            "│   ├── \u001b[00mgitconfig\u001b[0m\n",
            "│   ├── \u001b[01;34mglvnd\u001b[0m\n",
            "│   ├── \u001b[01;34mgroff\u001b[0m\n",
            "│   ├── \u001b[00mgroup\u001b[0m\n",
            "│   ├── \u001b[00mgroup-\u001b[0m\n",
            "│   ├── \u001b[00mgshadow\u001b[0m\n",
            "│   ├── \u001b[00mgshadow-\u001b[0m\n",
            "│   ├── \u001b[01;34mgss\u001b[0m\n",
            "│   ├── \u001b[01;34mgtk-3.0\u001b[0m\n",
            "│   ├── \u001b[00mhost.conf\u001b[0m\n",
            "│   ├── \u001b[00mhostname\u001b[0m\n",
            "│   ├── \u001b[00mhosts\u001b[0m\n",
            "│   ├── \u001b[01;34minit.d\u001b[0m\n",
            "│   ├── \u001b[00minputrc\u001b[0m\n",
            "│   ├── \u001b[01;34miproute2\u001b[0m\n",
            "│   ├── \u001b[01;34mipython\u001b[0m\n",
            "│   ├── \u001b[00missue\u001b[0m\n",
            "│   ├── \u001b[00missue.net\u001b[0m\n",
            "│   ├── \u001b[01;34mjava-11-openjdk\u001b[0m\n",
            "│   ├── \u001b[01;34mjupyter\u001b[0m\n",
            "│   ├── \u001b[01;34mkernel\u001b[0m\n",
            "│   ├── \u001b[00mld.so.cache\u001b[0m\n",
            "│   ├── \u001b[00mld.so.conf\u001b[0m\n",
            "│   ├── \u001b[01;34mld.so.conf.d\u001b[0m\n",
            "│   ├── \u001b[00mlegal\u001b[0m\n",
            "│   ├── \u001b[00mlibaudit.conf\u001b[0m\n",
            "│   ├── \u001b[01;34mlibibverbs.d\u001b[0m\n",
            "│   ├── \u001b[01;34mlibnl-3\u001b[0m\n",
            "│   ├── \u001b[01;34mlibpaper.d\u001b[0m\n",
            "│   ├── \u001b[00mlocale.alias\u001b[0m\n",
            "│   ├── \u001b[00mlocale.gen\u001b[0m\n",
            "│   ├── \u001b[01;36mlocaltime\u001b[0m -> \u001b[00m/usr/share/zoneinfo/Etc/UTC\u001b[0m\n",
            "│   ├── \u001b[01;34mlogcheck\u001b[0m\n",
            "│   ├── \u001b[00mlogin.defs\u001b[0m\n",
            "│   ├── \u001b[01;34mlogrotate.d\u001b[0m\n",
            "│   ├── \u001b[00mlsb-release\u001b[0m\n",
            "│   ├── \u001b[00mmachine-id\u001b[0m\n",
            "│   ├── \u001b[00mmagic\u001b[0m\n",
            "│   ├── \u001b[00mmagic.mime\u001b[0m\n",
            "│   ├── \u001b[00mmanpath.config\u001b[0m\n",
            "│   ├── \u001b[00mmime.types\u001b[0m\n",
            "│   ├── \u001b[00mmke2fs.conf\u001b[0m\n",
            "│   ├── \u001b[01;34mmodprobe.d\u001b[0m\n",
            "│   ├── \u001b[00mmodules\u001b[0m\n",
            "│   ├── \u001b[01;34mmodules-load.d\u001b[0m\n",
            "│   ├── \u001b[01;36mmtab\u001b[0m -> \u001b[00m/proc/mounts\u001b[0m\n",
            "│   ├── \u001b[01;34mmysql\u001b[0m\n",
            "│   ├── \u001b[00mnetconfig\u001b[0m\n",
            "│   ├── \u001b[00mnetworks\u001b[0m\n",
            "│   ├── \u001b[00mnsswitch.conf\u001b[0m\n",
            "│   ├── \u001b[01;34mODBCDataSources\u001b[0m\n",
            "│   ├── \u001b[00modbc.ini\u001b[0m\n",
            "│   ├── \u001b[00modbcinst.ini\u001b[0m\n",
            "│   ├── \u001b[01;34mopenal\u001b[0m\n",
            "│   ├── \u001b[01;34mopenmpi\u001b[0m\n",
            "│   ├── \u001b[01;34mopt\u001b[0m\n",
            "│   ├── \u001b[01;36mos-release\u001b[0m -> \u001b[00m../usr/lib/os-release\u001b[0m\n",
            "│   ├── \u001b[01;34mPackageKit\u001b[0m\n",
            "│   ├── \u001b[00mpam.conf\u001b[0m\n",
            "│   ├── \u001b[01;34mpam.d\u001b[0m\n",
            "│   ├── \u001b[00mpapersize\u001b[0m\n",
            "│   ├── \u001b[00mpasswd\u001b[0m\n",
            "│   ├── \u001b[00mpasswd-\u001b[0m\n",
            "│   ├── \u001b[01;34mperl\u001b[0m\n",
            "│   ├── \u001b[01;32mpip.conf\u001b[0m\n",
            "│   ├── \u001b[01;34mpolkit-1\u001b[0m\n",
            "│   ├── \u001b[00mprofile\u001b[0m\n",
            "│   ├── \u001b[01;34mprofile.d\u001b[0m\n",
            "│   ├── \u001b[01;34mpulse\u001b[0m\n",
            "│   ├── \u001b[01;34mpython3\u001b[0m\n",
            "│   ├── \u001b[01;34mpython3.10\u001b[0m\n",
            "│   ├── \u001b[01;34mR\u001b[0m\n",
            "│   ├── \u001b[01;34mrc0.d\u001b[0m\n",
            "│   ├── \u001b[01;34mrc1.d\u001b[0m\n",
            "│   ├── \u001b[01;34mrc2.d\u001b[0m\n",
            "│   ├── \u001b[01;34mrc3.d\u001b[0m\n",
            "│   ├── \u001b[01;34mrc4.d\u001b[0m\n",
            "│   ├── \u001b[01;34mrc5.d\u001b[0m\n",
            "│   ├── \u001b[01;34mrc6.d\u001b[0m\n",
            "│   ├── \u001b[01;34mrcS.d\u001b[0m\n",
            "│   ├── \u001b[01;32mrequirements3.txt\u001b[0m\n",
            "│   ├── \u001b[01;32mrequirements.core.in\u001b[0m\n",
            "│   ├── \u001b[01;32mrequirements.in\u001b[0m\n",
            "│   ├── \u001b[01;32mrequirements.user.in\u001b[0m\n",
            "│   ├── \u001b[00mresolv.conf\u001b[0m\n",
            "│   ├── \u001b[01;36mrmt\u001b[0m -> \u001b[01;32m/usr/sbin/rmt\u001b[0m\n",
            "│   ├── \u001b[01;34msecurity\u001b[0m\n",
            "│   ├── \u001b[01;34mselinux\u001b[0m\n",
            "│   ├── \u001b[00msensors3.conf\u001b[0m\n",
            "│   ├── \u001b[01;34msensors.d\u001b[0m\n",
            "│   ├── \u001b[00mshadow\u001b[0m\n",
            "│   ├── \u001b[00mshadow-\u001b[0m\n",
            "│   ├── \u001b[00mshells\u001b[0m\n",
            "│   ├── \u001b[01;34mskel\u001b[0m\n",
            "│   ├── \u001b[01;34mssh\u001b[0m\n",
            "│   ├── \u001b[01;34mssl\u001b[0m\n",
            "│   ├── \u001b[00msubgid\u001b[0m\n",
            "│   ├── \u001b[00msubuid\u001b[0m\n",
            "│   ├── \u001b[00msudo.conf\u001b[0m\n",
            "│   ├── \u001b[00msudoers\u001b[0m\n",
            "│   ├── \u001b[01;34msudoers.d\u001b[0m\n",
            "│   ├── \u001b[00msudo_logsrvd.conf\u001b[0m\n",
            "│   ├── \u001b[00msysctl.conf\u001b[0m\n",
            "│   ├── \u001b[01;34msysctl.d\u001b[0m\n",
            "│   ├── \u001b[01;34msystemd\u001b[0m\n",
            "│   ├── \u001b[01;34mterminfo\u001b[0m\n",
            "│   ├── \u001b[00mtimezone\u001b[0m\n",
            "│   ├── \u001b[01;34mtmpfiles.d\u001b[0m\n",
            "│   ├── \u001b[00mucf.conf\u001b[0m\n",
            "│   ├── \u001b[01;34mupdate-motd.d\u001b[0m\n",
            "│   ├── \u001b[00mvdpau_wrapper.cfg\u001b[0m\n",
            "│   ├── \u001b[01;34mvim\u001b[0m\n",
            "│   ├── \u001b[00mwgetrc\u001b[0m\n",
            "│   ├── \u001b[01;34mX11\u001b[0m\n",
            "│   ├── \u001b[00mxattr.conf\u001b[0m\n",
            "│   └── \u001b[01;34mxdg\u001b[0m\n",
            "├── \u001b[01;34mhome\u001b[0m\n",
            "├── \u001b[01;34mkaggle\u001b[0m\n",
            "│   └── \u001b[01;34minput\u001b[0m\n",
            "├── \u001b[01;36mlib\u001b[0m -> \u001b[01;34musr/lib\u001b[0m\n",
            "├── \u001b[01;36mlib32\u001b[0m -> \u001b[01;34musr/lib32\u001b[0m\n",
            "├── \u001b[01;36mlib64\u001b[0m -> \u001b[01;34musr/lib64\u001b[0m\n",
            "├── \u001b[01;36mlibx32\u001b[0m -> \u001b[01;34musr/libx32\u001b[0m\n",
            "├── \u001b[01;34mmedia\u001b[0m\n",
            "├── \u001b[01;34mmnt\u001b[0m\n",
            "├── \u001b[00mNGC-DL-CONTAINER-LICENSE\u001b[0m\n",
            "├── \u001b[01;34mopt\u001b[0m\n",
            "│   ├── \u001b[01;34mgoogle\u001b[0m\n",
            "│   └── \u001b[01;34mnvidia\u001b[0m\n",
            "├── \u001b[01;34mproc\u001b[0m\n",
            "│   ├── \u001b[01;34m1\u001b[0m\n",
            "│   ├── \u001b[01;34m15\u001b[0m\n",
            "│   ├── \u001b[01;34m17\u001b[0m\n",
            "│   ├── \u001b[01;34m18\u001b[0m\n",
            "│   ├── \u001b[01;34m21\u001b[0m\n",
            "│   ├── \u001b[01;34m272\u001b[0m\n",
            "│   ├── \u001b[01;34m315\u001b[0m\n",
            "│   ├── \u001b[01;34m348\u001b[0m\n",
            "│   ├── \u001b[01;34m357\u001b[0m\n",
            "│   ├── \u001b[01;34m477\u001b[0m\n",
            "│   ├── \u001b[01;34m485\u001b[0m\n",
            "│   ├── \u001b[01;34m56\u001b[0m\n",
            "│   ├── \u001b[01;34m57\u001b[0m\n",
            "│   ├── \u001b[01;34m7\u001b[0m\n",
            "│   ├── \u001b[01;34m79\u001b[0m\n",
            "│   ├── \u001b[01;34m80\u001b[0m\n",
            "│   ├── \u001b[01;34macpi\u001b[0m\n",
            "│   ├── \u001b[00mbuddyinfo\u001b[0m\n",
            "│   ├── \u001b[01;34mbus\u001b[0m\n",
            "│   ├── \u001b[00mcgroups\u001b[0m\n",
            "│   ├── \u001b[00mcmdline\u001b[0m\n",
            "│   ├── \u001b[01;31mconfig.gz\u001b[0m\n",
            "│   ├── \u001b[00mconsoles\u001b[0m\n",
            "│   ├── \u001b[00mcpuinfo\u001b[0m\n",
            "│   ├── \u001b[00mcrypto\u001b[0m\n",
            "│   ├── \u001b[00mdevices\u001b[0m\n",
            "│   ├── \u001b[00mdiskstats\u001b[0m\n",
            "│   ├── \u001b[00mdma\u001b[0m\n",
            "│   ├── \u001b[01;34mdriver\u001b[0m\n",
            "│   ├── \u001b[00mexecdomains\u001b[0m\n",
            "│   ├── \u001b[00mfilesystems\u001b[0m\n",
            "│   ├── \u001b[01;34mfs\u001b[0m\n",
            "│   ├── \u001b[00minterrupts\u001b[0m\n",
            "│   ├── \u001b[00miomem\u001b[0m\n",
            "│   ├── \u001b[00mioports\u001b[0m\n",
            "│   ├── \u001b[01;34mirq\u001b[0m\n",
            "│   ├── \u001b[00mkallsyms\u001b[0m\n",
            "│   ├── \u001b[40;33;01mkcore\u001b[0m\n",
            "│   ├── \u001b[40;33;01mkeys\u001b[0m\n",
            "│   ├── \u001b[00mkey-users\u001b[0m\n",
            "│   ├── \u001b[00mkmsg\u001b[0m\n",
            "│   ├── \u001b[00mkpagecgroup\u001b[0m\n",
            "│   ├── \u001b[00mkpagecount\u001b[0m\n",
            "│   ├── \u001b[00mkpageflags\u001b[0m\n",
            "│   ├── \u001b[00mloadavg\u001b[0m\n",
            "│   ├── \u001b[00mlocks\u001b[0m\n",
            "│   ├── \u001b[00mmdstat\u001b[0m\n",
            "│   ├── \u001b[00mmeminfo\u001b[0m\n",
            "│   ├── \u001b[00mmisc\u001b[0m\n",
            "│   ├── \u001b[00mmodules\u001b[0m\n",
            "│   ├── \u001b[01;36mmounts\u001b[0m -> \u001b[00mself/mounts\u001b[0m\n",
            "│   ├── \u001b[00mmtrr\u001b[0m\n",
            "│   ├── \u001b[01;36mnet\u001b[0m -> \u001b[01;34mself/net\u001b[0m\n",
            "│   ├── \u001b[00mpagetypeinfo\u001b[0m\n",
            "│   ├── \u001b[00mpartitions\u001b[0m\n",
            "│   ├── \u001b[01;34mpressure\u001b[0m\n",
            "│   ├── \u001b[00mschedstat\u001b[0m\n",
            "│   ├── \u001b[01;34mscsi\u001b[0m\n",
            "│   ├── \u001b[01;36mself\u001b[0m -> \u001b[01;34m485\u001b[0m\n",
            "│   ├── \u001b[00mslabinfo\u001b[0m\n",
            "│   ├── \u001b[00msoftirqs\u001b[0m\n",
            "│   ├── \u001b[00mstat\u001b[0m\n",
            "│   ├── \u001b[00mswaps\u001b[0m\n",
            "│   ├── \u001b[01;34msys\u001b[0m\n",
            "│   ├── \u001b[00msysrq-trigger\u001b[0m\n",
            "│   ├── \u001b[01;34msysvipc\u001b[0m\n",
            "│   ├── \u001b[01;36mthread-self\u001b[0m -> \u001b[01;34m485/task/485\u001b[0m\n",
            "│   ├── \u001b[40;33;01mtimer_list\u001b[0m\n",
            "│   ├── \u001b[01;34mtty\u001b[0m\n",
            "│   ├── \u001b[00muptime\u001b[0m\n",
            "│   ├── \u001b[00mversion\u001b[0m\n",
            "│   ├── \u001b[00mvmallocinfo\u001b[0m\n",
            "│   ├── \u001b[00mvmstat\u001b[0m\n",
            "│   └── \u001b[00mzoneinfo\u001b[0m\n",
            "├── \u001b[01;34mpython-apt\u001b[0m\n",
            "│   ├── \u001b[01;34mapt\u001b[0m\n",
            "│   ├── \u001b[01;34maptsources\u001b[0m\n",
            "│   ├── \u001b[00mAUTHORS\u001b[0m\n",
            "│   ├── \u001b[01;34mbuild\u001b[0m\n",
            "│   ├── \u001b[00mCOPYING.GPL\u001b[0m\n",
            "│   ├── \u001b[01;34mdata\u001b[0m\n",
            "│   ├── \u001b[01;34mdebian\u001b[0m\n",
            "│   ├── \u001b[01;34mdoc\u001b[0m\n",
            "│   ├── \u001b[00mDockerfile\u001b[0m\n",
            "│   ├── \u001b[01;34mpo\u001b[0m\n",
            "│   ├── \u001b[01;32mpre-build.sh\u001b[0m\n",
            "│   ├── \u001b[01;34mpython\u001b[0m\n",
            "│   ├── \u001b[01;34mpython_apt.egg-info\u001b[0m\n",
            "│   ├── \u001b[00mREADME.md\u001b[0m\n",
            "│   ├── \u001b[00msetup.cfg\u001b[0m\n",
            "│   ├── \u001b[00msetup.py\u001b[0m\n",
            "│   ├── \u001b[01;34mtests\u001b[0m\n",
            "│   ├── \u001b[00mTODO\u001b[0m\n",
            "│   ├── \u001b[01;34mtypehinting\u001b[0m\n",
            "│   └── \u001b[01;34mutils\u001b[0m\n",
            "├── \u001b[01;34mroot\u001b[0m\n",
            "├── \u001b[01;34mrun\u001b[0m\n",
            "│   ├── \u001b[01;34mlock\u001b[0m\n",
            "│   ├── \u001b[01;34mlog\u001b[0m\n",
            "│   ├── \u001b[01;34mmount\u001b[0m\n",
            "│   ├── \u001b[01;34msendsigs.omit.d\u001b[0m\n",
            "│   ├── \u001b[01;36mshm\u001b[0m -> \u001b[01;34m/dev/shm\u001b[0m\n",
            "│   ├── \u001b[01;34msystemd\u001b[0m\n",
            "│   └── \u001b[01;34muser\u001b[0m\n",
            "├── \u001b[01;36msbin\u001b[0m -> \u001b[01;34musr/sbin\u001b[0m\n",
            "├── \u001b[01;34msrv\u001b[0m\n",
            "├── \u001b[01;34msys\u001b[0m\n",
            "│   ├── \u001b[01;34mblock\u001b[0m\n",
            "│   ├── \u001b[01;34mbus\u001b[0m\n",
            "│   ├── \u001b[01;34mclass\u001b[0m\n",
            "│   ├── \u001b[01;34mdev\u001b[0m\n",
            "│   ├── \u001b[01;34mdevices\u001b[0m\n",
            "│   ├── \u001b[01;34mfirmware\u001b[0m\n",
            "│   ├── \u001b[01;34mfs\u001b[0m\n",
            "│   ├── \u001b[01;34mhypervisor\u001b[0m\n",
            "│   ├── \u001b[01;34mkernel\u001b[0m\n",
            "│   ├── \u001b[01;34mmodule\u001b[0m\n",
            "│   └── \u001b[01;34mpower\u001b[0m\n",
            "├── \u001b[01;34mtmp\u001b[0m\n",
            "│   ├── \u001b[00mdap_multiplexer.028b0b0d8689.root.log.INFO.20240730-054222.80\u001b[0m\n",
            "│   ├── \u001b[01;36mdap_multiplexer.INFO\u001b[0m -> \u001b[00mdap_multiplexer.028b0b0d8689.root.log.INFO.20240730-054222.80\u001b[0m\n",
            "│   ├── \u001b[01;35mdebugger_15w9rc7pdq\u001b[0m\n",
            "│   ├── \u001b[01;34minitgoogle_syslog_dir.0\u001b[0m\n",
            "│   ├── \u001b[00mlanguage_service.028b0b0d8689.root.log.INFO.20240730-054317.348\u001b[0m\n",
            "│   ├── \u001b[01;36mlanguage_service.INFO\u001b[0m -> \u001b[00mlanguage_service.028b0b0d8689.root.log.INFO.20240730-054317.348\u001b[0m\n",
            "│   ├── \u001b[01;34mpyright-357-9EAUpaAiT7mY\u001b[0m\n",
            "│   ├── \u001b[01;34mpyright-357-QyTsFkjkiCEr\u001b[0m\n",
            "│   ├── \u001b[01;34mpython-languageserver-cancellation\u001b[0m\n",
            "│   └── \u001b[01;34mtmp6rwc8zmn\u001b[0m\n",
            "├── \u001b[01;34mtools\u001b[0m\n",
            "│   ├── \u001b[01;34mgoogle-cloud-sdk\u001b[0m\n",
            "│   └── \u001b[01;34mnode\u001b[0m\n",
            "├── \u001b[01;34musr\u001b[0m\n",
            "│   ├── \u001b[01;34mbin\u001b[0m\n",
            "│   ├── \u001b[01;34mcolab\u001b[0m\n",
            "│   ├── \u001b[01;34mgames\u001b[0m\n",
            "│   ├── \u001b[01;34mgrte\u001b[0m\n",
            "│   ├── \u001b[01;34minclude\u001b[0m\n",
            "│   ├── \u001b[01;34mlib\u001b[0m\n",
            "│   ├── \u001b[01;34mlib32\u001b[0m\n",
            "│   ├── \u001b[01;34mlib64\u001b[0m\n",
            "│   ├── \u001b[01;34mlibexec\u001b[0m\n",
            "│   ├── \u001b[01;34mlibx32\u001b[0m\n",
            "│   ├── \u001b[01;34mlocal\u001b[0m\n",
            "│   ├── \u001b[01;34msbin\u001b[0m\n",
            "│   ├── \u001b[01;34mshare\u001b[0m\n",
            "│   └── \u001b[01;34msrc\u001b[0m\n",
            "└── \u001b[01;34mvar\u001b[0m\n",
            "    ├── \u001b[01;34mbackups\u001b[0m\n",
            "    ├── \u001b[01;34mcache\u001b[0m\n",
            "    ├── \u001b[01;34mcolab\u001b[0m\n",
            "    ├── \u001b[01;34mlib\u001b[0m\n",
            "    ├── \u001b[01;34mlocal\u001b[0m\n",
            "    ├── \u001b[01;36mlock\u001b[0m -> \u001b[01;34m/run/lock\u001b[0m\n",
            "    ├── \u001b[01;34mlog\u001b[0m\n",
            "    ├── \u001b[01;34mmail\u001b[0m\n",
            "    ├── \u001b[01;34mopt\u001b[0m\n",
            "    ├── \u001b[01;36mrun\u001b[0m -> \u001b[01;34m/run\u001b[0m\n",
            "    ├── \u001b[01;34mspool\u001b[0m\n",
            "    └── \u001b[01;34mtmp\u001b[0m\n",
            "\n",
            "199 directories, 147 files\n"
          ]
        }
      ],
      "source": [
        "!tree -L 2 /"
      ]
    },
    {
      "cell_type": "code",
      "source": [
        "!id $USER"
      ],
      "metadata": {
        "id": "qYraF1GueqEz",
        "outputId": "9a4fe1fc-4dfd-4a66-d0df-2aa2a23e99e0",
        "colab": {
          "base_uri": "https://localhost:8080/"
        }
      },
      "execution_count": null,
      "outputs": [
        {
          "output_type": "stream",
          "name": "stdout",
          "text": [
            "uid=0(root) gid=0(root) groups=0(root)\n"
          ]
        }
      ]
    },
    {
      "cell_type": "code",
      "source": [
        "!find / -name config.gz 2>dev/null"
      ],
      "metadata": {
        "id": "yYcxGvvfcxmU",
        "outputId": "bbeb0c21-1a3f-4966-ab87-516a0c578f48",
        "colab": {
          "base_uri": "https://localhost:8080/"
        }
      },
      "execution_count": null,
      "outputs": [
        {
          "output_type": "stream",
          "name": "stdout",
          "text": [
            "find: paths must precede expression: `2'\n"
          ]
        }
      ]
    },
    {
      "cell_type": "markdown",
      "metadata": {
        "id": "6LEJKHm72sHb"
      },
      "source": [
        "Note:\n",
        "1. The full path to `config.gz` is /proc/config.gz, within which `proc` is the intermediate directory (or dir).\n",
        "\n",
        "2. Linux adheres to the **Filesystem Hierarchy Standard** (FHS) for directory and file naming. This standard allows users and software programs to predict the location of files and directories. The root level directory is represented by the forward slash `/`. At the root level, systems could include these directories:\n",
        "\n",
        "| Directories | Description                                                  |\n",
        "| :---------: | :----------------------------------------------------------- |\n",
        "|      /      | Root Directory: the highest level of the file system tree    |\n",
        "|    /bin     | Contains essential executable programs (/bin/cat, /bin/rm, /bin/cp) |\n",
        "|    /boot    | Boot Directory: Holds essential files to boot the system such as  the Linux kernel and associated configuration files. It contains static files of boot loader GRUB (GRand Unified Bootloader) |\n",
        "|    /dev     | Populated with files that represent hardware devices and other special files such as the /dev/null and /dev/zero files. |\n",
        "|    /etc     | Holds configuration files of the Linux system  (/etc/inittab, /etc/group, /etc/hosts) |\n",
        "|    /home    | User Directory: User’s workspace to work with files          |\n",
        "|    /lib     | Libraries Directory: Contains libraries that are used by programs in the /bin and /sbin directories |\n",
        "|   /media    | Mountpoints for Removable Media                              |\n",
        "|    /mnt     | Mountpoint for Temporarily Mounted File System               |\n",
        "|    /opt     | Application Directory: Stores installed programs (/opt/GNOME). Optional third party software installation location |\n",
        "|    /proc    | A  virtual filesystem for the kernel to report processes and other information. |\n",
        "|    /root    | Home Directory of the Administrator (root user)              |\n",
        "|    /sbin    | System Binaries: Contains important system binaries (programs) for administration (/sbin/fdisk) |\n",
        "|    /srv     | Data Directories for Services (/srv/ftp)                     |\n",
        "|    /sys     | System Information Directory: A virtual  filesystem holding information about hardware devices connected to the system. |\n",
        "|    /tmp     | Temporary Area: Directory where programs create temporary files that is supposed to clear at boot  time. |\n",
        "|    /usr     | Second hierarchy of non-essential files for multi-user use and takes up the most space. Contains all user programs (`/usr/bin`), libraries (`/usr/lib`), documentation (`/usr/share/doc`) and so on. |\n",
        "|    /var     | Variable Files: It contains files that can be modified while the system is running |"
      ]
    },
    {
      "cell_type": "markdown",
      "metadata": {
        "id": "vxQ1nlj-32zE"
      },
      "source": [
        "`/dev/null` is a special file in Unix-like operating systems that serves as a \"null device\" or a bit bucket. It is commonly used to discard or redirect unwanted output, or to provide an empty file for input."
      ]
    },
    {
      "cell_type": "code",
      "execution_count": null,
      "metadata": {
        "colab": {
          "base_uri": "https://localhost:8080/"
        },
        "id": "ny0ubBLE35VR",
        "outputId": "173ae678-9257-4064-b2e2-0764229f2227"
      },
      "outputs": [
        {
          "output_type": "stream",
          "name": "stdout",
          "text": [
            "/proc/config.gz\n",
            "find: ‘/proc/56/task/56/net’: Invalid argument\n",
            "find: ‘/proc/56/net’: Invalid argument\n"
          ]
        }
      ],
      "source": [
        "!find / -name \"config.gz\""
      ]
    },
    {
      "cell_type": "code",
      "execution_count": null,
      "metadata": {
        "colab": {
          "base_uri": "https://localhost:8080/"
        },
        "id": "F_lAU0XA4MXk",
        "outputId": "8529a355-78d8-4f45-8655-c59f11ca1d22"
      },
      "outputs": [
        {
          "output_type": "stream",
          "name": "stdout",
          "text": [
            "/proc/config.gz\n"
          ]
        }
      ],
      "source": [
        "!find / -name \"config.gz\" 2> /dev/null"
      ]
    },
    {
      "cell_type": "markdown",
      "metadata": {
        "id": "lIOB6YpM4n_s"
      },
      "source": [
        "## 2.2 Unix Commands\n",
        "\n",
        "The language that the terminal uses is known as <u>bash</u>. Bash is a Unix shell and command language written by Brian Fox for the GNU Project and has been used as the default login shell for most Linux distributions. You can check the current shell with `echo $SHELL`."
      ]
    },
    {
      "cell_type": "code",
      "execution_count": null,
      "metadata": {
        "colab": {
          "base_uri": "https://localhost:8080/"
        },
        "id": "OUsh9b1R5Fjy",
        "outputId": "ae350983-e1ac-41bb-9242-286de8fa2824"
      },
      "outputs": [
        {
          "output_type": "stream",
          "name": "stdout",
          "text": [
            "/bin/bash\n"
          ]
        }
      ],
      "source": [
        "!echo $SHELL"
      ]
    },
    {
      "cell_type": "markdown",
      "metadata": {
        "id": "koY1PwoNbozQ"
      },
      "source": [
        "### Common Commands"
      ]
    },
    {
      "cell_type": "markdown",
      "metadata": {
        "id": "yia6gJh65NXE"
      },
      "source": [
        "| Command     | Description                                                  |\n",
        "| :---------- | :----------------------------------------------------------- |\n",
        "| ```ls```    | list files in a directory.                                   |\n",
        "| ```mkdir``` | make a directory.                                            |\n",
        "| ```cd```    | change to a new directory.                                   |\n",
        "| ```pwd```   | show working directory.                                      |\n",
        "| ```touch``` | create a file, change a timestsamp.                          |\n",
        "| ```cp```    | copy a new file from an old file.                            |\n",
        "| ```mv```    | move file to a new directory.                                |\n",
        "| ```rm```    | delete a file.                                               |\n",
        "| ```rmdir``` | delete a directory.                                          |\n",
        "| ```clear``` | clear all text from current screen.                          |\n",
        "| ```cat```   | display the content of a file.                               |\n",
        "| ```less```  | display the content of a file onto the screen a page at a time. |\n",
        "| ```head```  | show the first ten lines of a file.                          |\n",
        "| ```tail```  | show the last ten lines of a file.                           |\n",
        "| ```grep```  | search a term in a file.                                     |\n",
        "| ```wc```    | count the words in a file.                                   |\n",
        "| ```diff```  | diff two files.                                              |"
      ]
    },
    {
      "cell_type": "markdown",
      "metadata": {
        "id": "t3Y-q8rK5bjW"
      },
      "source": [
        "### A bash example"
      ]
    },
    {
      "cell_type": "code",
      "execution_count": null,
      "metadata": {
        "colab": {
          "base_uri": "https://localhost:8080/"
        },
        "id": "DXHcrkiC5hJW",
        "outputId": "39c769a7-37cf-41cb-f2e5-a403d42da5b9"
      },
      "outputs": [
        {
          "output_type": "stream",
          "name": "stdout",
          "text": [
            "Hello, root. Welcome to the shell scripting world.\n",
            "This is a great coding langauge.\n"
          ]
        }
      ],
      "source": [
        "%%bash\n",
        "\n",
        "### Shebang for Bash Scripts. The shebang line allows the operating system to\n",
        "### determine the appropriate interpreter for executing the script.\n",
        "\n",
        "#!/bin/bash\n",
        "# Or #!/usr/bin/env bash\n",
        "\n",
        "# This is a simple script that greets the user\n",
        "\n",
        "echo \"Hello, $(whoami). Welcome to the shell scripting world.\"\n",
        "printf \"This is a great coding langauge.\\n\""
      ]
    },
    {
      "cell_type": "markdown",
      "metadata": {
        "id": "elsEolIl5wBN"
      },
      "source": [
        "## 2.3 File System Security\n",
        "\n",
        "These are the file system security components to control access to files in a Linux file system:\n",
        "\n",
        "| Element     | Description                                                  |\n",
        "| ----------- | :----------------------------------------------------------- |\n",
        "| Users       | Users are **individual accounts** on the Linux system.       |\n",
        "| Groups      | Groups are **collections of users**. Users are assigned to a group when they are created. Every user must belong to at least one group. Only **root** / the **owner** of a file can change the group to which the file or directory is assigned. |\n",
        "| Ownership   | The user who creates a file or directory. Ownership can only be changed by **root** user. |\n",
        "| Permissions | Permissions determine user **access** to a file or directory. |\n",
        "\n",
        "The `id` command displays information about a user’s UID and which group the user is assigned to. Similarly the `groups` command displays the name of the group."
      ]
    },
    {
      "cell_type": "code",
      "execution_count": null,
      "metadata": {
        "colab": {
          "base_uri": "https://localhost:8080/"
        },
        "id": "h85yNmGU5xBv",
        "outputId": "183b6193-81b2-4110-d92f-63b14d469801"
      },
      "outputs": [
        {
          "output_type": "stream",
          "name": "stdout",
          "text": [
            "uid=0(root) gid=0(root) groups=0(root)\n"
          ]
        }
      ],
      "source": [
        "!id $USER"
      ]
    },
    {
      "cell_type": "markdown",
      "metadata": {
        "id": "kCNTGnWz52r0"
      },
      "source": [
        "Show group information,"
      ]
    },
    {
      "cell_type": "code",
      "execution_count": null,
      "metadata": {
        "colab": {
          "base_uri": "https://localhost:8080/"
        },
        "id": "H8xiNcpO53FJ",
        "outputId": "6130eca0-bd06-4ce2-ef2d-0a4a6ae51b6d"
      },
      "outputs": [
        {
          "output_type": "stream",
          "name": "stdout",
          "text": [
            "root\n"
          ]
        }
      ],
      "source": [
        "!groups $USER"
      ]
    },
    {
      "cell_type": "markdown",
      "metadata": {
        "id": "iny25MyG58bz"
      },
      "source": [
        "**Note:** Root user (`root`) always has a UID of 0. UID numbering for normal users starts (by default) at 1000 for Linux. A root user can use the following commands to perform certain user management tasks:\n",
        "\n",
        "| Command | Description                                  |\n",
        "| ------- | :------------------------------------------- |\n",
        "| useradd | Create a new user account                    |\n",
        "| usermod | Modify settings for an existing user account |\n",
        "| userdel | Delete an existing user account              |\n",
        "\n",
        "The following options are commonly used with `useradd`.\n",
        "\n",
        "| Option | Description                                                  |\n",
        "| ------ | :----------------------------------------------------------- |\n",
        "| -m     | Automatically generates the new user’s home directory. By default, the user directory is  created under `/home`. |\n",
        "| -c     | For  comment. It is generally a short description of the login. |\n",
        "| -e     | For  expiration date of the user account (YYYY-MM-DD)        |\n",
        "| -u     | Specifies a custom UID of the new account. If the option is not given, the next available UID is  used. |\n",
        "| -g     | Specifies either the GID or the name of the group            |\n",
        "| -G     | This  option defines any supplementary groups (separated by a comma) the user should be a member of. |\n",
        "\n",
        "For example, run the following command to create a new user, `johndoe`."
      ]
    },
    {
      "cell_type": "code",
      "execution_count": null,
      "metadata": {
        "id": "kNIQo7ln59IJ"
      },
      "outputs": [],
      "source": [
        "!sudo useradd -m johndoe -u 9999"
      ]
    },
    {
      "cell_type": "markdown",
      "metadata": {
        "id": "1a_0Az4R6OU_"
      },
      "source": [
        "**Note:** Local user information is stored in the [`/etc/passwd`](https://linuxize.com/post/etc-passwd-file/) file. To view user information, run `cat /etc/passwd`.\n",
        "\n",
        "Next, the `passwd` command is used to establish or change the password of a user account. Then, you will be prompted for a new password and will be asked to confirm it.\n",
        "\n",
        "Now, we will look at file security. In your **content** directory, type `ls -la` to turn on the long listing format:"
      ]
    },
    {
      "cell_type": "code",
      "execution_count": null,
      "metadata": {
        "colab": {
          "base_uri": "https://localhost:8080/"
        },
        "id": "y8KhE3qk6T_1",
        "outputId": "482a0ca2-043a-48e9-dc98-57e31dd2c41b"
      },
      "outputs": [
        {
          "output_type": "stream",
          "name": "stdout",
          "text": [
            "total 16\n",
            "drwxr-xr-x 1 root root 4096 Jul 26 13:19 .\n",
            "drwxr-xr-x 1 root root 4096 Jul 30 05:42 ..\n",
            "drwxr-xr-x 4 root root 4096 Jul 26 13:19 .config\n",
            "drwxr-xr-x 1 root root 4096 Jul 26 13:19 sample_data\n"
          ]
        }
      ],
      "source": [
        "!ls -la /content"
      ]
    },
    {
      "cell_type": "markdown",
      "metadata": {
        "id": "mF19_CL460T5"
      },
      "source": [
        "The record `drwxr-xr-x 1 root root    4096 May  9 13:24 sample_data` shows a directory. Another record `-rw-r--r-- 1 root root 1048576 May 11 13:40 foobar` is a file."
      ]
    },
    {
      "cell_type": "markdown",
      "metadata": {
        "id": "1qd42TLH7gnu"
      },
      "source": [
        "We will examine the output for better understanding. For example,\n",
        "\n",
        "> `-rw-r--r-- 1 root root 1048576 May 11 13:40 foobar`:\n",
        "\n",
        "| Field 1 | Field 2 | Field 3 | Field 4 | Field 5 | Field 6 | Field 7 | Field 8 | Field 9      | Field 10      |\n",
        "| ------- | ------- | ------- | ------- | ------- | ------- | ------- | ------- | ------------ | ------------- |\n",
        "| -       | rw-     | r--     | r--     | 1       | root   | root    | 1048576      | May 11 13:40 | foobar |\n",
        "\n",
        "**Field 1**: **-** for File, **d** for Directory, **l** for link (e.g., create a link for *text_file.txt*: `ln -s text_file.txt link1`)\n",
        "\n",
        "**Field 2, Field 3 and Field 4**\n",
        "\n",
        "Those are the **r**ead, **w**rite and e**x**ecute permissions for *owner*, *group* and *others*:\n",
        "\n",
        "- **Field 2**: The permissions that the **owner/user** has over the file.\n",
        "- **Field 3**: The permissions that the **group** has over the file.\n",
        "- **Field 4**: The permissions that **everybody** (**other**) else has over the file.\n",
        "\n",
        "**Field 5**: This field specifies the number of links / directories inside this directory.\n",
        "\n",
        "**Field 6**: The user that owns the file / directory.\n",
        "\n",
        "**Field 7**: The group which the file belongs to, and any user in that group will have the same permissions as Field 3 over that file.\n",
        "\n",
        "**Field 8**: The file size in bytes.\n",
        "\n",
        "This can be formatted to human readable format with the `-h` option alongside  the `-l` option. This will output the file size in `k`, `M`, `G`.\n",
        "\n",
        "**Field 9**: The last modified date\n",
        "\n",
        "**Field 10**: The name of the file\n"
      ]
    },
    {
      "cell_type": "markdown",
      "metadata": {
        "id": "Zh3gELwW8_n-"
      },
      "source": [
        "### Access Rights on Files\n",
        "\n",
        "- r (or -), indicates read permission (or otherwise) to read and copy the file.\n",
        "- w (or -), indicates write permission (or otherwise) to change a file.\n",
        "- x (or -), indicates execution permission (or otherwise) to execute a file.\n",
        "\n",
        "### Access Rights on Directories\n",
        "\n",
        "- r allows users to list files in the directory.\n",
        "- w allows users to delete files from the directory or move files into it.\n",
        "- x allows users to access files in the directory.\n",
        "\n",
        "Hence, to **read** a file, you must have the **execute** permission on the directory containing that file, and on any directory containing that directory as a subdirectory, and so on, up to the root.\n",
        "\n",
        "### Changing Access Rights\n",
        "\n",
        "#### chmod (changing a file mode)\n",
        "\n",
        "Only the owner of a file can use `chmod` to change the permissions of a file. The options of `chmod` are as follows:\n",
        "\n",
        "| Symbol | Meaning                        |\n",
        "| ------ | ------------------------------ |\n",
        "| u      | user                           |\n",
        "| g      | group                          |\n",
        "| o      | other                          |\n",
        "| a      | all                            |\n",
        "| r      | read                           |\n",
        "| w      | write (and delete)             |\n",
        "| x      | execute (and access directory) |\n",
        "| +      | add permission                 |\n",
        "| -      | take away permission           |\n",
        "\n",
        "For example, to **add** *read* and *write* permissions on the file **foobar** for the *group* and *others*, type:"
      ]
    },
    {
      "cell_type": "code",
      "execution_count": null,
      "metadata": {
        "colab": {
          "base_uri": "https://localhost:8080/"
        },
        "id": "e1a8z8_PyO0V",
        "outputId": "2bf3f9a2-cd5f-44c2-f828-a488522c7bb3"
      },
      "outputs": [
        {
          "output_type": "stream",
          "name": "stdout",
          "text": [
            "-rw-r--r-- 1 root root 0 Jul 30 05:43 /content/foobar\n"
          ]
        }
      ],
      "source": [
        "!touch /content/foobar\n",
        "\n",
        "!ls -l /content/foobar"
      ]
    },
    {
      "cell_type": "code",
      "execution_count": null,
      "metadata": {
        "colab": {
          "base_uri": "https://localhost:8080/"
        },
        "id": "XC_mfW9m7f2-",
        "outputId": "8c9505eb-3f6d-4f57-f0ee-35865ff33172"
      },
      "outputs": [
        {
          "output_type": "stream",
          "name": "stdout",
          "text": [
            "-rw-rw-rw- 1 root root 0 Jul 30 05:43 /content/foobar\n"
          ]
        }
      ],
      "source": [
        "!chmod go+rw /content/foobar\n",
        "\n",
        "!ls -l /content/foobar"
      ]
    },
    {
      "cell_type": "code",
      "execution_count": null,
      "metadata": {
        "colab": {
          "base_uri": "https://localhost:8080/"
        },
        "id": "_luo_XB57f6w",
        "outputId": "07e34b16-90be-44a1-d5e4-ddaafb851bf7"
      },
      "outputs": [
        {
          "output_type": "stream",
          "name": "stdout",
          "text": [
            "total 4\n",
            "-rw-rw-rw- 1 root root    0 Jul 30 05:43 foobar\n",
            "drwxr-xr-x 1 root root 4096 Jul 26 13:19 sample_data\n"
          ]
        }
      ],
      "source": [
        "!ls -l /content"
      ]
    },
    {
      "cell_type": "markdown",
      "source": [
        "d in the output of ls denote that it is a directory and not a file"
      ],
      "metadata": {
        "id": "ldfOoBm0ff6R"
      }
    },
    {
      "cell_type": "code",
      "source": [
        "!touch /tmp/foobar"
      ],
      "metadata": {
        "id": "asxcU5Wef5c-"
      },
      "execution_count": null,
      "outputs": []
    },
    {
      "cell_type": "code",
      "source": [
        "!sudo chmod 755 /tmp/foobar"
      ],
      "metadata": {
        "id": "tzfTR7-tgDg4"
      },
      "execution_count": null,
      "outputs": []
    },
    {
      "cell_type": "code",
      "source": [
        "!ls -alh /tmp/foobar"
      ],
      "metadata": {
        "id": "OOLVVTSCgKDF",
        "outputId": "68f55cb9-a03d-4bee-feb1-e1f232e9eae4",
        "colab": {
          "base_uri": "https://localhost:8080/"
        }
      },
      "execution_count": null,
      "outputs": [
        {
          "output_type": "stream",
          "name": "stdout",
          "text": [
            "-rwxr-xr-x 1 755 root 0 Jul 31 01:55 /tmp/foobar\n"
          ]
        }
      ]
    },
    {
      "cell_type": "markdown",
      "metadata": {
        "id": "YYCzKtG896hW"
      },
      "source": [
        "## 2.4 Processes and Jobs\n",
        "\n",
        "A process is an executing program identified by a unique PID (process identifier). To view information on your processes, with their PID and status, type:"
      ]
    },
    {
      "cell_type": "code",
      "execution_count": null,
      "metadata": {
        "colab": {
          "base_uri": "https://localhost:8080/"
        },
        "id": "PxLptDBp7f-M",
        "outputId": "d610ea6c-cf61-4362-bc9d-bb4975272afa"
      },
      "outputs": [
        {
          "output_type": "stream",
          "name": "stdout",
          "text": [
            "    PID TTY          TIME CMD\n",
            "      1 ?        00:00:00 docker-init\n",
            "      7 ?        00:00:00 node\n",
            "     15 ?        00:00:00 oom_monitor.sh\n",
            "     17 ?        00:00:00 run.sh\n",
            "     18 ?        00:00:00 kernel_manager_\n",
            "     21 ?        00:00:00 tail\n",
            "     56 ?        00:00:07 python3 <defunct>\n",
            "     57 ?        00:00:00 colab-fileshim.\n",
            "     79 ?        00:00:03 jupyter-noteboo\n",
            "     80 ?        00:00:00 dap_multiplexer\n",
            "    272 ?        00:00:02 python3\n",
            "    315 ?        00:00:00 python3\n",
            "    348 ?        00:00:00 language_servic\n",
            "    357 ?        00:00:04 node\n",
            "    574 ?        00:00:00 sleep\n",
            "    578 ?        00:00:00 ps\n"
          ]
        }
      ],
      "source": [
        "!ps"
      ]
    },
    {
      "cell_type": "markdown",
      "metadata": {
        "id": "BF8Bcopa-fyH"
      },
      "source": [
        "A process may be in the *foreground*, in the *background*, or *suspended*. In general the shell does not return the prompt until the current process has finished executing. Some processes take a long time to run and may hold up the terminal. Backgrounding a long process has the effect that the prompt is returned immediately, and other tasks can be carried out while the original process continues executing.\n",
        "\n",
        "### Running Background Processes\n",
        "\n",
        "To background a process, type **&** at the end of the command line. For example, the command **sleep** waits for a given number of seconds before continuing. Type:"
      ]
    },
    {
      "cell_type": "code",
      "execution_count": null,
      "metadata": {
        "id": "C83FV5XQ7XQN"
      },
      "outputs": [],
      "source": [
        "!sleep 10"
      ]
    },
    {
      "cell_type": "markdown",
      "metadata": {
        "id": "w1OOwzRS-kzM"
      },
      "source": [
        "The terminal will wait for 10 seconds before returning the control back to user. Until the command prompt is returned, you can do nothing except wait.\n",
        "\n",
        "To run sleep in the background, type:"
      ]
    },
    {
      "cell_type": "code",
      "execution_count": null,
      "metadata": {
        "id": "4YGBgoRJ-nc6"
      },
      "outputs": [],
      "source": [
        "!sleep 10 &"
      ]
    },
    {
      "cell_type": "markdown",
      "metadata": {
        "id": "c9wnqWCY-1nb"
      },
      "source": [
        "`ps` command can be used to display information about all active processes running on the system, not just those started in the current shell session."
      ]
    },
    {
      "cell_type": "code",
      "execution_count": null,
      "metadata": {
        "colab": {
          "base_uri": "https://localhost:8080/"
        },
        "id": "zGby8Dxi_IsK",
        "outputId": "2780cbc1-3685-44a4-8ab2-e0b9bd19a838"
      },
      "outputs": [
        {
          "output_type": "stream",
          "name": "stdout",
          "text": [
            "UID          PID    PPID  C STIME TTY          TIME CMD\n",
            "root           1       0  0 05:42 ?        00:00:00 /sbin/docker-init -- /datalab/run.sh\n",
            "root           7       1  0 05:42 ?        00:00:01 /tools/node/bin/node /datalab/web/app.js\n",
            "root          15       7  0 05:42 ?        00:00:00 /bin/bash -e /usr/local/colab/bin/oom_monitor.sh\n",
            "root          17       1  0 05:42 ?        00:00:00 /bin/bash -e /datalab/run.sh\n",
            "root          18      17  0 05:42 ?        00:00:00 /usr/colab/bin/kernel_manager_proxy --listen_por\n",
            "root          21       0  0 05:42 ?        00:00:00 tail -n +0 -F /root/.config/Google/DriveFS/Logs/\n",
            "root          56       7  6 05:42 ?        00:00:07 [python3] <defunct>\n",
            "root          57       7  0 05:42 ?        00:00:00 python3 /usr/local/bin/colab-fileshim.py\n",
            "root          79       7  3 05:42 ?        00:00:03 /usr/bin/python3 /usr/local/bin/jupyter-notebook\n",
            "root          80       7  0 05:42 ?        00:00:00 /usr/local/bin/dap_multiplexer --domain_socket_p\n",
            "root         272      79  4 05:43 ?        00:00:02 /usr/bin/python3 -m colab_kernel_launcher -f /ro\n",
            "root         315       1  0 05:43 ?        00:00:00 /usr/bin/python3 /usr/local/lib/python3.10/dist-\n",
            "root         348       7  0 05:43 ?        00:00:00 /usr/colab/bin/language_service --lsp_search_dir\n",
            "root         357     348  8 05:43 ?        00:00:04 node /datalab/web/pyright/pyright-langserver.js \n",
            "root         661      15  0 05:44 ?        00:00:00 sleep 1\n",
            "root         662     272  0 05:44 ?        00:00:00 ps -ef\n"
          ]
        }
      ],
      "source": [
        "!ps -ef"
      ]
    },
    {
      "cell_type": "markdown",
      "metadata": {
        "id": "lD_FnnkgAbx4"
      },
      "source": [
        "## 2.5 Other UNIX Commands\n",
        "\n",
        "The `df` command reports on the space left on the file system. For example, to find out how much space is left on the fileserver, type:"
      ]
    },
    {
      "cell_type": "code",
      "execution_count": null,
      "metadata": {
        "colab": {
          "base_uri": "https://localhost:8080/"
        },
        "id": "Tv-Bl0njAeX3",
        "outputId": "aa9fabad-c7a0-4475-babe-75a1d45d9fad"
      },
      "outputs": [
        {
          "output_type": "stream",
          "name": "stdout",
          "text": [
            "Filesystem     1K-blocks     Used Available Use% Mounted on\n",
            "overlay        236802812 28192532 208593896  12% /\n"
          ]
        }
      ],
      "source": [
        "!df ."
      ]
    },
    {
      "cell_type": "markdown",
      "metadata": {
        "id": "5C2p_3w-AgPS"
      },
      "source": [
        "Similarly, you can add a `-h` flag to format the value to human readable format."
      ]
    },
    {
      "cell_type": "code",
      "execution_count": null,
      "metadata": {
        "colab": {
          "base_uri": "https://localhost:8080/"
        },
        "id": "XrsG7SkGAjJ6",
        "outputId": "0bb7decc-4950-477c-9472-5b788891e1a1"
      },
      "outputs": [
        {
          "output_type": "stream",
          "name": "stdout",
          "text": [
            "Filesystem      Size  Used Avail Use% Mounted on\n",
            "overlay         226G   27G  199G  12% /\n"
          ]
        }
      ],
      "source": [
        "!df -h ."
      ]
    },
    {
      "cell_type": "markdown",
      "metadata": {
        "id": "Eh1BirT1AlvI"
      },
      "source": [
        "The `du` command outputs the number of kilobytes used by each subdirectory. Navigate to your `home` directory and type:"
      ]
    },
    {
      "cell_type": "code",
      "execution_count": null,
      "metadata": {
        "colab": {
          "base_uri": "https://localhost:8080/"
        },
        "id": "974UMgKXAnKp",
        "outputId": "b2fa2bed-5d80-40c2-ae4c-6f4df47db071"
      },
      "outputs": [
        {
          "output_type": "stream",
          "name": "stdout",
          "text": [
            "0\tfoobar\n",
            "55M\tsample_data\n"
          ]
        }
      ],
      "source": [
        "!du -s -h *"
      ]
    },
    {
      "cell_type": "markdown",
      "metadata": {
        "id": "TlMxMY-qAyYa"
      },
      "source": [
        "`gzip` command reduces the size of a file. For example:"
      ]
    },
    {
      "cell_type": "code",
      "execution_count": null,
      "metadata": {
        "colab": {
          "base_uri": "https://localhost:8080/"
        },
        "id": "J0W3kPCFAy7J",
        "outputId": "4d654ab4-417d-4983-fc07-378700281783"
      },
      "outputs": [
        {
          "output_type": "stream",
          "name": "stdout",
          "text": [
            "total 55M\n",
            "-rwxr-xr-x 1 root root 1.7K Jan  1  2000 anscombe.json\n",
            "-rw-r--r-- 1 root root 295K Jul 26 13:19 california_housing_test.csv\n",
            "-rw-r--r-- 1 root root 1.7M Jul 26 13:19 california_housing_train.csv\n",
            "-rw-r--r-- 1 root root  18M Jul 26 13:19 mnist_test.csv\n",
            "-rw-r--r-- 1 root root  35M Jul 26 13:19 mnist_train_small.csv\n",
            "-rwxr-xr-x 1 root root  930 Jan  1  2000 README.md\n"
          ]
        }
      ],
      "source": [
        "!ls -l -h sample_data"
      ]
    },
    {
      "cell_type": "code",
      "execution_count": null,
      "metadata": {
        "id": "yVJ1fBepA5eh"
      },
      "outputs": [],
      "source": [
        "%%bash\n",
        "\n",
        "rm -rf new_foobar\n",
        "rm -rf new_foobar.gz\n",
        "\n",
        "# Specify the number of random words you want to generate\n",
        "word_count=1000\n",
        "\n",
        "# Fallback list of words if /usr/share/dict/words is not available\n",
        "fallback_word_list=(\"apple\" \"banana\" \"cherry\" \"date\" \"elderberry\" \"fig\" \"grape\" \"honeydew\" \"kiwi\" \"lemon\" \"mango\" \"nectarine\" \"orange\" \"papaya\" \"quince\" \"raspberry\" \"strawberry\" \"tangerine\" \"ugli\" \"vanilla\" \"watermelon\" \"xigua\" \"yam\" \"zucchini\")\n",
        "\n",
        "# Create or overwrite the file 'foobar'\n",
        "> foobar\n",
        "\n",
        "# Generate random words and save to 'foobar'\n",
        "for i in $(seq 1 $word_count); do\n",
        "  word=${fallback_word_list[$RANDOM % ${#fallback_word_list[@]}]}\n",
        "  echo $word >> foobar\n",
        "done"
      ]
    },
    {
      "cell_type": "code",
      "execution_count": null,
      "metadata": {
        "colab": {
          "base_uri": "https://localhost:8080/"
        },
        "id": "N_AIfq9103TP",
        "outputId": "5ac6f6e8-8032-43d3-a71e-efecf3668cab"
      },
      "outputs": [
        {
          "output_type": "stream",
          "name": "stdout",
          "text": [
            "-rw-rw-rw- 1 root root 7.2K Jul 30 05:44 foobar\n",
            "\n",
            "sample_data:\n",
            "total 55M\n",
            "-rwxr-xr-x 1 root root 1.7K Jan  1  2000 anscombe.json\n",
            "-rw-r--r-- 1 root root 295K Jul 26 13:19 california_housing_test.csv\n",
            "-rw-r--r-- 1 root root 1.7M Jul 26 13:19 california_housing_train.csv\n",
            "-rw-r--r-- 1 root root  18M Jul 26 13:19 mnist_test.csv\n",
            "-rw-r--r-- 1 root root  35M Jul 26 13:19 mnist_train_small.csv\n",
            "-rwxr-xr-x 1 root root  930 Jan  1  2000 README.md\n"
          ]
        }
      ],
      "source": [
        "!ls -lh *"
      ]
    },
    {
      "cell_type": "code",
      "execution_count": null,
      "metadata": {
        "colab": {
          "base_uri": "https://localhost:8080/"
        },
        "id": "N8pUU0DW0Sz_",
        "outputId": "a1c4ef80-54e5-425a-b389-11da40ff60f6"
      },
      "outputs": [
        {
          "output_type": "stream",
          "name": "stdout",
          "text": [
            "-rw-r--r-- 1 root root 7.2K Jul 30 05:44 new_foobar\n"
          ]
        }
      ],
      "source": [
        "%%bash\n",
        "\n",
        "cp foobar new_foobar\n",
        "ls -lh new_foobar\n",
        "\n",
        "rm -rf new_foobar.gz\n",
        "gzip new_foobar"
      ]
    },
    {
      "cell_type": "markdown",
      "metadata": {
        "id": "b1vLNekoBSem"
      },
      "source": [
        "This will compress the file and place it in a file called **new_foorbar.gz**. To see the change in size, type **ls -l** again."
      ]
    },
    {
      "cell_type": "code",
      "execution_count": null,
      "metadata": {
        "colab": {
          "base_uri": "https://localhost:8080/"
        },
        "id": "jyuTWK5BBD2X",
        "outputId": "1b6494f2-cf3b-4104-b9a3-db402e4666f0"
      },
      "outputs": [
        {
          "output_type": "stream",
          "name": "stdout",
          "text": [
            "-rw-r--r-- 1 root root 1.5K Jul 30 05:44 new_foobar.gz\n",
            "-rw-rw-rw- 1 root root 7.2K Jul 30 05:44 foobar\n"
          ]
        }
      ],
      "source": [
        "!ls -lh new_foobar.gz\n",
        "!ls -lh foobar"
      ]
    },
    {
      "cell_type": "markdown",
      "metadata": {
        "id": "tjsfFjGpBYzJ"
      },
      "source": [
        "To expand the file, use the `gunzip` command."
      ]
    },
    {
      "cell_type": "code",
      "execution_count": null,
      "metadata": {
        "colab": {
          "base_uri": "https://localhost:8080/"
        },
        "id": "NikMIyMMBH_K",
        "outputId": "4458c0e5-5c03-48cc-ae5d-2d90b77f163e"
      },
      "outputs": [
        {
          "output_type": "stream",
          "name": "stdout",
          "text": [
            "-rw-r--r-- 1 root root 7.2K Jul 30 05:44 new_foobar\n"
          ]
        }
      ],
      "source": [
        "!gunzip new_foobar.gz\n",
        "!ls -lh new_foobar"
      ]
    },
    {
      "cell_type": "markdown",
      "metadata": {
        "id": "OZnP9yiVBwE8"
      },
      "source": [
        "The `find` command searches through files and directories with a given name, date, size, or any other attribute. It has many options and it is a good idea to read the manual with `man find`.\n",
        "\n",
        "To search for all files with the extension **.txt**, starting at the **current directory (.)** and working through all sub-directories, and then printing the name of the file to the screen, type:"
      ]
    },
    {
      "cell_type": "code",
      "execution_count": null,
      "metadata": {
        "colab": {
          "base_uri": "https://localhost:8080/"
        },
        "id": "Cu4WW2l_BzY1",
        "outputId": "1dbdc73d-10a2-4516-f74e-817f72592cef"
      },
      "outputs": [
        {
          "name": "stdout",
          "output_type": "stream",
          "text": [
            "/content/foobar\n"
          ]
        }
      ],
      "source": [
        "!find /content -name \"foobar\" -print"
      ]
    },
    {
      "cell_type": "markdown",
      "metadata": {
        "id": "RDQHX9b9Cplm"
      },
      "source": [
        "The `find` command searches through the directories for files and directories with a given name, date, size, or any other attribute. It has many options and it is a good idea to read the manual with `man find`."
      ]
    },
    {
      "cell_type": "markdown",
      "metadata": {
        "id": "ZjmAMZnI5Inl"
      },
      "source": [
        "To search for all files with the extension **.txt**, starting at the **current directory (.)** and working through all sub-directories, and then printing the name of the file to the screen, type:"
      ]
    },
    {
      "cell_type": "code",
      "execution_count": null,
      "metadata": {
        "colab": {
          "base_uri": "https://localhost:8080/"
        },
        "id": "gujzEeD35K-_",
        "outputId": "62f8c1de-c88c-41e4-80fb-88139fb5b6ed"
      },
      "outputs": [
        {
          "name": "stdout",
          "output_type": "stream",
          "text": [
            "./test1.txt\n",
            "./test2.txt\n",
            "./download/unixtut/science.txt\n",
            "./test3.txt\n",
            "./new_file.txt\n"
          ]
        }
      ],
      "source": [
        "!find . -name \"*.txt\" -print"
      ]
    },
    {
      "cell_type": "markdown",
      "metadata": {
        "id": "_cQ3N7Sz5VYF"
      },
      "source": [
        "\n",
        "To find files over 1MB in size, and display the result as a long listing, type:"
      ]
    },
    {
      "cell_type": "code",
      "execution_count": null,
      "metadata": {
        "colab": {
          "base_uri": "https://localhost:8080/"
        },
        "id": "5PcPx72f5U6A",
        "outputId": "b5cf8cda-4cfa-4ae1-c5e4-db070d320058"
      },
      "outputs": [
        {
          "name": "stdout",
          "output_type": "stream",
          "text": [
            "./sample_data/mnist_test.csv\n",
            "./sample_data/mnist_train_small.csv\n",
            "./sample_data/california_housing_train.csv\n"
          ]
        }
      ],
      "source": [
        "!find . -size +1M -print"
      ]
    },
    {
      "cell_type": "markdown",
      "metadata": {
        "id": "KIzoyLve5gTc"
      },
      "source": [
        "The `history` command keeps an ordered list of all the commands that you have entered. Each command is given a number according to the order it was entered."
      ]
    },
    {
      "cell_type": "code",
      "execution_count": null,
      "metadata": {
        "id": "X6GfQcMO5URZ"
      },
      "outputs": [],
      "source": [
        "!history"
      ]
    },
    {
      "cell_type": "markdown",
      "metadata": {
        "id": "T-pJprYY5mkE"
      },
      "source": [
        "To clear the history commands: `history -c`"
      ]
    },
    {
      "cell_type": "markdown",
      "metadata": {
        "id": "Z1n6uqVmwahy"
      },
      "source": [
        "To check the number of characters and words of a file, use `wc filename`."
      ]
    },
    {
      "cell_type": "code",
      "execution_count": null,
      "metadata": {
        "colab": {
          "base_uri": "https://localhost:8080/"
        },
        "id": "r06XPoac5wKA",
        "outputId": "06524e4d-6320-4aa3-e3df-e3f4ad052eac"
      },
      "outputs": [
        {
          "name": "stdout",
          "output_type": "stream",
          "text": [
            "1000 foobar\n",
            "1000 foobar\n",
            "7302 foobar\n"
          ]
        }
      ],
      "source": [
        "!wc -l foobar # lines\n",
        "!wc -w foobar # words\n",
        "!wc -c foobar # characters"
      ]
    },
    {
      "cell_type": "markdown",
      "metadata": {
        "id": "v7TV9F0P6F16"
      },
      "source": [
        "### Exercise. Pre-processing a datafile\n",
        "\n",
        "Write a Bash script to.\n",
        "\n",
        "1. Download the data file, https://raw.githubusercontent.com/annesjyu/dataengr2023/main/Sales.csv\n",
        "\n",
        "2. Find out the size of Sales.csv, in a readable format.\n",
        "\n",
        "3. Only give the full path of Sales.csv.\n",
        "\n",
        "4. Check the number of words in Sales.csv.\n",
        "\n",
        "If you can't write a script, can write 4 Linux commands to finish the exercise."
      ]
    },
    {
      "cell_type": "code",
      "source": [
        "!ls /dev/"
      ],
      "metadata": {
        "id": "2C9BRBR2kt9U",
        "outputId": "8db08c75-a6d7-420c-c058-f3ead5097c19",
        "colab": {
          "base_uri": "https://localhost:8080/"
        }
      },
      "execution_count": null,
      "outputs": [
        {
          "output_type": "stream",
          "name": "stdout",
          "text": [
            "core  full  mqueue  ptmx  random  stderr  stdout  urandom\n",
            "fd    fuse  null    pts   shm\t  stdin   tty\t  zero\n"
          ]
        }
      ]
    },
    {
      "cell_type": "code",
      "execution_count": null,
      "metadata": {
        "id": "qsLpVhsZ6Ufb",
        "outputId": "8cd9a1dc-8c1b-4f85-fa89-f286c5431ccd",
        "colab": {
          "base_uri": "https://localhost:8080/"
        }
      },
      "outputs": [
        {
          "output_type": "stream",
          "name": "stdout",
          "text": [
            "-rw-r--r-- 1 root root 65K Jul 31 02:18 /tmp/Sales.csv\n",
            "536\n"
          ]
        }
      ],
      "source": [
        "%%bash\n",
        "#!/usr/bin/env bash\n",
        "wget -nc -P /tmp/ https://raw.githubusercontent.com/annesjyu/dataengr2023/main/Sales.csv 2>/dev/null\n",
        "ls -alh /tmp/Sales.csv\n",
        "wc -l < /tmp/Sales.csv\n",
        "\n",
        "\n"
      ]
    },
    {
      "cell_type": "markdown",
      "metadata": {
        "id": "1a1dKDOMzsNc"
      },
      "source": [
        "### Exercise. Inspecting a datafile\n",
        "\n",
        "Read [UNIX Tutorial](https://info-ee.surrey.ac.uk/Teaching/Unix/unix2.html) for more commands to manupilate files. i.e. `head` and `tail`.\n",
        "\n",
        "Check `Sales.csv` file:\n",
        "\n",
        "  * Use `head` to display the first 10 lines of `california_housing_train.csv`.\n",
        "  * Use `tail` to display the last 10 lines of the file.\n",
        "  * Combine `head` and `tail` to show the first and last 5 lines of the file."
      ]
    },
    {
      "cell_type": "code",
      "source": [
        "from google.colab import drive\n",
        "drive.mount('/content/drive')"
      ],
      "metadata": {
        "id": "c8K4-N6xoEpo",
        "outputId": "57489d0e-a392-4879-9ebf-c53ef16f3d6f",
        "colab": {
          "base_uri": "https://localhost:8080/",
          "height": 304
        }
      },
      "execution_count": null,
      "outputs": [
        {
          "output_type": "error",
          "ename": "MessageError",
          "evalue": "Error: credential propagation was unsuccessful",
          "traceback": [
            "\u001b[0;31m---------------------------------------------------------------------------\u001b[0m",
            "\u001b[0;31mMessageError\u001b[0m                              Traceback (most recent call last)",
            "\u001b[0;32m<ipython-input-61-d5df0069828e>\u001b[0m in \u001b[0;36m<cell line: 2>\u001b[0;34m()\u001b[0m\n\u001b[1;32m      1\u001b[0m \u001b[0;32mfrom\u001b[0m \u001b[0mgoogle\u001b[0m\u001b[0;34m.\u001b[0m\u001b[0mcolab\u001b[0m \u001b[0;32mimport\u001b[0m \u001b[0mdrive\u001b[0m\u001b[0;34m\u001b[0m\u001b[0;34m\u001b[0m\u001b[0m\n\u001b[0;32m----> 2\u001b[0;31m \u001b[0mdrive\u001b[0m\u001b[0;34m.\u001b[0m\u001b[0mmount\u001b[0m\u001b[0;34m(\u001b[0m\u001b[0;34m'/content/drive'\u001b[0m\u001b[0;34m)\u001b[0m\u001b[0;34m\u001b[0m\u001b[0;34m\u001b[0m\u001b[0m\n\u001b[0m",
            "\u001b[0;32m/usr/local/lib/python3.10/dist-packages/google/colab/drive.py\u001b[0m in \u001b[0;36mmount\u001b[0;34m(mountpoint, force_remount, timeout_ms, readonly)\u001b[0m\n\u001b[1;32m     98\u001b[0m \u001b[0;32mdef\u001b[0m \u001b[0mmount\u001b[0m\u001b[0;34m(\u001b[0m\u001b[0mmountpoint\u001b[0m\u001b[0;34m,\u001b[0m \u001b[0mforce_remount\u001b[0m\u001b[0;34m=\u001b[0m\u001b[0;32mFalse\u001b[0m\u001b[0;34m,\u001b[0m \u001b[0mtimeout_ms\u001b[0m\u001b[0;34m=\u001b[0m\u001b[0;36m120000\u001b[0m\u001b[0;34m,\u001b[0m \u001b[0mreadonly\u001b[0m\u001b[0;34m=\u001b[0m\u001b[0;32mFalse\u001b[0m\u001b[0;34m)\u001b[0m\u001b[0;34m:\u001b[0m\u001b[0;34m\u001b[0m\u001b[0;34m\u001b[0m\u001b[0m\n\u001b[1;32m     99\u001b[0m   \u001b[0;34m\"\"\"Mount your Google Drive at the specified mountpoint path.\"\"\"\u001b[0m\u001b[0;34m\u001b[0m\u001b[0;34m\u001b[0m\u001b[0m\n\u001b[0;32m--> 100\u001b[0;31m   return _mount(\n\u001b[0m\u001b[1;32m    101\u001b[0m       \u001b[0mmountpoint\u001b[0m\u001b[0;34m,\u001b[0m\u001b[0;34m\u001b[0m\u001b[0;34m\u001b[0m\u001b[0m\n\u001b[1;32m    102\u001b[0m       \u001b[0mforce_remount\u001b[0m\u001b[0;34m=\u001b[0m\u001b[0mforce_remount\u001b[0m\u001b[0;34m,\u001b[0m\u001b[0;34m\u001b[0m\u001b[0;34m\u001b[0m\u001b[0m\n",
            "\u001b[0;32m/usr/local/lib/python3.10/dist-packages/google/colab/drive.py\u001b[0m in \u001b[0;36m_mount\u001b[0;34m(mountpoint, force_remount, timeout_ms, ephemeral, readonly)\u001b[0m\n\u001b[1;32m    131\u001b[0m   )\n\u001b[1;32m    132\u001b[0m   \u001b[0;32mif\u001b[0m \u001b[0mephemeral\u001b[0m\u001b[0;34m:\u001b[0m\u001b[0;34m\u001b[0m\u001b[0;34m\u001b[0m\u001b[0m\n\u001b[0;32m--> 133\u001b[0;31m     _message.blocking_request(\n\u001b[0m\u001b[1;32m    134\u001b[0m         \u001b[0;34m'request_auth'\u001b[0m\u001b[0;34m,\u001b[0m\u001b[0;34m\u001b[0m\u001b[0;34m\u001b[0m\u001b[0m\n\u001b[1;32m    135\u001b[0m         \u001b[0mrequest\u001b[0m\u001b[0;34m=\u001b[0m\u001b[0;34m{\u001b[0m\u001b[0;34m'authType'\u001b[0m\u001b[0;34m:\u001b[0m \u001b[0;34m'dfs_ephemeral'\u001b[0m\u001b[0;34m}\u001b[0m\u001b[0;34m,\u001b[0m\u001b[0;34m\u001b[0m\u001b[0;34m\u001b[0m\u001b[0m\n",
            "\u001b[0;32m/usr/local/lib/python3.10/dist-packages/google/colab/_message.py\u001b[0m in \u001b[0;36mblocking_request\u001b[0;34m(request_type, request, timeout_sec, parent)\u001b[0m\n\u001b[1;32m    174\u001b[0m       \u001b[0mrequest_type\u001b[0m\u001b[0;34m,\u001b[0m \u001b[0mrequest\u001b[0m\u001b[0;34m,\u001b[0m \u001b[0mparent\u001b[0m\u001b[0;34m=\u001b[0m\u001b[0mparent\u001b[0m\u001b[0;34m,\u001b[0m \u001b[0mexpect_reply\u001b[0m\u001b[0;34m=\u001b[0m\u001b[0;32mTrue\u001b[0m\u001b[0;34m\u001b[0m\u001b[0;34m\u001b[0m\u001b[0m\n\u001b[1;32m    175\u001b[0m   )\n\u001b[0;32m--> 176\u001b[0;31m   \u001b[0;32mreturn\u001b[0m \u001b[0mread_reply_from_input\u001b[0m\u001b[0;34m(\u001b[0m\u001b[0mrequest_id\u001b[0m\u001b[0;34m,\u001b[0m \u001b[0mtimeout_sec\u001b[0m\u001b[0;34m)\u001b[0m\u001b[0;34m\u001b[0m\u001b[0;34m\u001b[0m\u001b[0m\n\u001b[0m",
            "\u001b[0;32m/usr/local/lib/python3.10/dist-packages/google/colab/_message.py\u001b[0m in \u001b[0;36mread_reply_from_input\u001b[0;34m(message_id, timeout_sec)\u001b[0m\n\u001b[1;32m    101\u001b[0m     ):\n\u001b[1;32m    102\u001b[0m       \u001b[0;32mif\u001b[0m \u001b[0;34m'error'\u001b[0m \u001b[0;32min\u001b[0m \u001b[0mreply\u001b[0m\u001b[0;34m:\u001b[0m\u001b[0;34m\u001b[0m\u001b[0;34m\u001b[0m\u001b[0m\n\u001b[0;32m--> 103\u001b[0;31m         \u001b[0;32mraise\u001b[0m \u001b[0mMessageError\u001b[0m\u001b[0;34m(\u001b[0m\u001b[0mreply\u001b[0m\u001b[0;34m[\u001b[0m\u001b[0;34m'error'\u001b[0m\u001b[0;34m]\u001b[0m\u001b[0;34m)\u001b[0m\u001b[0;34m\u001b[0m\u001b[0;34m\u001b[0m\u001b[0m\n\u001b[0m\u001b[1;32m    104\u001b[0m       \u001b[0;32mreturn\u001b[0m \u001b[0mreply\u001b[0m\u001b[0;34m.\u001b[0m\u001b[0mget\u001b[0m\u001b[0;34m(\u001b[0m\u001b[0;34m'data'\u001b[0m\u001b[0;34m,\u001b[0m \u001b[0;32mNone\u001b[0m\u001b[0;34m)\u001b[0m\u001b[0;34m\u001b[0m\u001b[0;34m\u001b[0m\u001b[0m\n\u001b[1;32m    105\u001b[0m \u001b[0;34m\u001b[0m\u001b[0m\n",
            "\u001b[0;31mMessageError\u001b[0m: Error: credential propagation was unsuccessful"
          ]
        }
      ]
    },
    {
      "cell_type": "code",
      "source": [
        "!ls /"
      ],
      "metadata": {
        "id": "Ja3Dk5iTpTWv",
        "outputId": "147e2fd5-ef30-4b78-c785-60f454c56fda",
        "colab": {
          "base_uri": "https://localhost:8080/"
        }
      },
      "execution_count": null,
      "outputs": [
        {
          "output_type": "stream",
          "name": "stdout",
          "text": [
            "bin\t\t\t    datalab  kaggle  libx32\t\t       opt\t   run\t tmp\n",
            "boot\t\t\t    dev      lib     media\t\t       proc\t   sbin  tools\n",
            "content\t\t\t    etc      lib32   mnt\t\t       python-apt  srv\t usr\n",
            "cuda-keyring_1.0-1_all.deb  home     lib64   NGC-DL-CONTAINER-LICENSE  root\t   sys\t var\n"
          ]
        }
      ]
    },
    {
      "cell_type": "code",
      "execution_count": null,
      "metadata": {
        "id": "PHxKB4Ez9hGU",
        "outputId": "0379076a-f964-4195-ed35-652cbd0237d3",
        "colab": {
          "base_uri": "https://localhost:8080/"
        }
      },
      "outputs": [
        {
          "output_type": "stream",
          "name": "stdout",
          "text": [
            "\"longitude\",\"latitude\",\"housing_median_age\",\"total_rooms\",\"total_bedrooms\",\"population\",\"households\",\"median_income\",\"median_house_value\"\n",
            "-114.310000,34.190000,15.000000,5612.000000,1283.000000,1015.000000,472.000000,1.493600,66900.000000\n",
            "-114.470000,34.400000,19.000000,7650.000000,1901.000000,1129.000000,463.000000,1.820000,80100.000000\n",
            "-114.560000,33.690000,17.000000,720.000000,174.000000,333.000000,117.000000,1.650900,85700.000000\n",
            "-114.570000,33.640000,14.000000,1501.000000,337.000000,515.000000,226.000000,3.191700,73400.000000\n",
            "-114.570000,33.570000,20.000000,1454.000000,326.000000,624.000000,262.000000,1.925000,65500.000000\n",
            "-114.580000,33.630000,29.000000,1387.000000,236.000000,671.000000,239.000000,3.343800,74000.000000\n",
            "-114.580000,33.610000,25.000000,2907.000000,680.000000,1841.000000,633.000000,2.676800,82400.000000\n",
            "-114.590000,34.830000,41.000000,812.000000,168.000000,375.000000,158.000000,1.708300,48500.000000\n",
            "-114.590000,33.610000,34.000000,4789.000000,1175.000000,3134.000000,1056.000000,2.178200,58400.000000\n",
            "_______________________________________________________________\n",
            "-124.220000,41.730000,28.000000,3003.000000,699.000000,1530.000000,653.000000,1.703800,78300.000000\n",
            "-124.230000,41.750000,11.000000,3159.000000,616.000000,1343.000000,479.000000,2.480500,73200.000000\n",
            "-124.230000,40.810000,52.000000,1112.000000,209.000000,544.000000,172.000000,3.346200,50800.000000\n",
            "-124.230000,40.540000,52.000000,2694.000000,453.000000,1152.000000,435.000000,3.080600,106700.000000\n",
            "-124.250000,40.280000,32.000000,1430.000000,419.000000,434.000000,187.000000,1.941700,76100.000000\n",
            "-124.260000,40.580000,52.000000,2217.000000,394.000000,907.000000,369.000000,2.357100,111400.000000\n",
            "-124.270000,40.690000,36.000000,2349.000000,528.000000,1194.000000,465.000000,2.517900,79000.000000\n",
            "-124.300000,41.840000,17.000000,2677.000000,531.000000,1244.000000,456.000000,3.031300,103600.000000\n",
            "-124.300000,41.800000,19.000000,2672.000000,552.000000,1298.000000,478.000000,1.979700,85800.000000\n",
            "-124.350000,40.540000,52.000000,1820.000000,300.000000,806.000000,270.000000,3.014700,94600.000000\n",
            "_______________________________________________________________\n",
            "\"longitude\",\"latitude\",\"housing_median_age\",\"total_rooms\",\"total_bedrooms\",\"population\",\"households\",\"median_income\",\"median_house_value\"\n",
            "-114.310000,34.190000,15.000000,5612.000000,1283.000000,1015.000000,472.000000,1.493600,66900.000000\n",
            "-114.470000,34.400000,19.000000,7650.000000,1901.000000,1129.000000,463.000000,1.820000,80100.000000\n",
            "-114.560000,33.690000,17.000000,720.000000,174.000000,333.000000,117.000000,1.650900,85700.000000\n",
            "-114.570000,33.640000,14.000000,1501.000000,337.000000,515.000000,226.000000,3.191700,73400.000000\n",
            "-124.260000,40.580000,52.000000,2217.000000,394.000000,907.000000,369.000000,2.357100,111400.000000\n",
            "-124.270000,40.690000,36.000000,2349.000000,528.000000,1194.000000,465.000000,2.517900,79000.000000\n",
            "-124.300000,41.840000,17.000000,2677.000000,531.000000,1244.000000,456.000000,3.031300,103600.000000\n",
            "-124.300000,41.800000,19.000000,2672.000000,552.000000,1298.000000,478.000000,1.979700,85800.000000\n",
            "-124.350000,40.540000,52.000000,1820.000000,300.000000,806.000000,270.000000,3.014700,94600.000000\n"
          ]
        }
      ],
      "source": [
        "%%bash\n",
        "head -n 10 /content/sample_data/california_housing_train.csv\n",
        "echo \"_______________________________________________________________\"\n",
        "tail -n 10 /content/sample_data/california_housing_train.csv\n",
        "echo \"_______________________________________________________________\"\n",
        "head -n 5 /content/sample_data/california_housing_train.csv  &  tail -n 5 /content/sample_data/california_housing_train.csv\n"
      ]
    },
    {
      "cell_type": "markdown",
      "metadata": {
        "id": "lOjwAJJQC2iY"
      },
      "source": [
        "## 2.6 The Lifecycle of Manipulating a Remote File\n",
        "\n",
        "### An Example\n",
        "\n",
        "We will download a piece of free software that converts between different units of measurements.\n",
        "\n",
        "At the home directory, create a download directory. Be noted, `rm -rf` removes a file or dir regardless of its existance.\n",
        "\n"
      ]
    },
    {
      "cell_type": "code",
      "execution_count": null,
      "metadata": {
        "colab": {
          "base_uri": "https://localhost:8080/"
        },
        "id": "ckLK_jUg03fa",
        "outputId": "1c67d62b-085b-48e2-a7bd-99f2d058c54d"
      },
      "outputs": [
        {
          "name": "stdout",
          "output_type": "stream",
          "text": [
            "Removed existing directory: download\n",
            "Created new directory: download\n"
          ]
        }
      ],
      "source": [
        "%%bash\n",
        "\n",
        "DIR_NAME=\"download\"\n",
        "\n",
        "# Check if the directory exists\n",
        "if [ -d \"$DIR_NAME\" ]; then\n",
        "  # If it exists, remove it\n",
        "  rm -rf \"$DIR_NAME\"\n",
        "  echo \"Removed existing directory: $DIR_NAME\"\n",
        "fi\n",
        "\n",
        "# Create the directory\n",
        "mkdir \"$DIR_NAME\"\n",
        "echo \"Created new directory: $DIR_NAME\""
      ]
    },
    {
      "cell_type": "markdown",
      "metadata": {
        "id": "_qcU_fL_1B42"
      },
      "source": [
        "Download `unixtut.tar.gz` and move it to a new `download` directory."
      ]
    },
    {
      "cell_type": "code",
      "execution_count": null,
      "metadata": {
        "colab": {
          "base_uri": "https://localhost:8080/"
        },
        "id": "0osDCwtU1hku",
        "outputId": "af8d66ee-84a2-44de-f37d-70bd8370a34a"
      },
      "outputs": [
        {
          "name": "stdout",
          "output_type": "stream",
          "text": [
            "list files in current dir:\n",
            "total 0\n",
            "current working dir:\n",
            "/content/download\n"
          ]
        },
        {
          "name": "stderr",
          "output_type": "stream",
          "text": [
            "--2024-07-29 01:21:52--  http://www.ee.surrey.ac.uk/Teaching/Unix/arc/unixtut.tar.gz\n",
            "Resolving www.ee.surrey.ac.uk (www.ee.surrey.ac.uk)... 131.227.80.48\n",
            "Connecting to www.ee.surrey.ac.uk (www.ee.surrey.ac.uk)|131.227.80.48|:80... connected.\n",
            "HTTP request sent, awaiting response... 301 Moved Permanently\n",
            "Location: https://info-ee.surrey.ac.uk/Teaching/Unix/arc/unixtut.tar.gz [following]\n",
            "--2024-07-29 01:21:53--  https://info-ee.surrey.ac.uk/Teaching/Unix/arc/unixtut.tar.gz\n",
            "Resolving info-ee.surrey.ac.uk (info-ee.surrey.ac.uk)... 51.132.210.128\n",
            "Connecting to info-ee.surrey.ac.uk (info-ee.surrey.ac.uk)|51.132.210.128|:443... connected.\n",
            "HTTP request sent, awaiting response... 200 OK\n",
            "Cookie coming from info-ee.surrey.ac.uk attempted to set domain to rp-web-iee-01.azurewebsites.net\n",
            "Cookie coming from info-ee.surrey.ac.uk attempted to set domain to rp-web-iee-01.azurewebsites.net\n",
            "Length: 267851 (262K) [application/octet-stream]\n",
            "Saving to: ‘unixtut.tar.gz’\n",
            "\n",
            "     0K .......... .......... .......... .......... .......... 19%  529K 0s\n",
            "    50K .......... .......... .......... .......... .......... 38%  265K 0s\n",
            "   100K .......... .......... .......... .......... .......... 57%  153M 0s\n",
            "   150K .......... .......... .......... .......... .......... 76%  528K 0s\n",
            "   200K .......... .......... .......... .......... .......... 95%  132M 0s\n",
            "   250K .......... .                                          100%  232M=0.4s\n",
            "\n",
            "2024-07-29 01:21:54 (691 KB/s) - ‘unixtut.tar.gz’ saved [267851/267851]\n",
            "\n"
          ]
        }
      ],
      "source": [
        "%%bash\n",
        "\n",
        "DIR_NAME=\"download\"\n",
        "\n",
        "# Go to the download dir\n",
        "cd $DIR_NAME\n",
        "\n",
        "# List all files under the dir\n",
        "echo \"list files in current dir:\"\n",
        "\n",
        "# Delete any .gz files\n",
        "rm -rf *.gz\n",
        "\n",
        "# Show the current dir\n",
        "ls -l ./\n",
        "\n",
        "# Show the current working dir\n",
        "echo \"current working dir:\"\n",
        "pwd\n",
        "\n",
        "# Download the file\n",
        "wget http://www.ee.surrey.ac.uk/Teaching/Unix/arc/unixtut.tar.gz -O unixtut.tar.gz"
      ]
    },
    {
      "cell_type": "code",
      "execution_count": null,
      "metadata": {
        "colab": {
          "base_uri": "https://localhost:8080/"
        },
        "id": "G_Ae5GKs765o",
        "outputId": "168faf0f-3fbf-47f0-9470-746cdfaab7b2"
      },
      "outputs": [
        {
          "name": "stdout",
          "output_type": "stream",
          "text": [
            "-rw-r--r-- 1 root root 267851 Aug 17  2023 unixtut.tar.gz\n"
          ]
        }
      ],
      "source": [
        "%%bash\n",
        "DIR_NAME=\"download\"\n",
        "\n",
        "# Go to the download dir\n",
        "cd $DIR_NAME\n",
        "\n",
        "ls -l unixtut.tar.gz"
      ]
    },
    {
      "cell_type": "markdown",
      "metadata": {
        "id": "VPpiH4Ph07Ut"
      },
      "source": [
        "#### Extracting the Source Code\n",
        "\n",
        "Notice that the filename ends with `tar.gz`. The tar command turns several files and directories into one single tar (Tape ARchive) file. This is then compressed using the gzip command (to create a tar.gz file).\n",
        "\n",
        "First unzip the file using the `gunzip` command to create a .tar file.\n",
        "\n",
        "Then extract the contents of the tar (tape archive) file.\n"
      ]
    },
    {
      "cell_type": "code",
      "execution_count": null,
      "metadata": {
        "colab": {
          "base_uri": "https://localhost:8080/"
        },
        "id": "QZrunyHi2zov",
        "outputId": "1c2f4318-9f26-4d2e-d9c4-340c81677ea2"
      },
      "outputs": [
        {
          "name": "stdout",
          "output_type": "stream",
          "text": [
            "./unixtut.tar.gz: gzip compressed data, was \"unixtut.tar\", last modified: Mon May  9 18:44:10 2005, from Unix, original size modulo 2^32 358400\n",
            "unixtut/\n",
            "unixtut/unix0.html\n",
            "unixtut/unix1.html\n",
            "unixtut/unix2.html\n",
            "unixtut/unix3.html\n",
            "unixtut/unix4.html\n",
            "unixtut/unix5.html\n",
            "unixtut/unix6.html\n",
            "unixtut/unix7.html\n",
            "unixtut/unix8.html\n",
            "unixtut/unixtut1.css\n",
            "unixtut/science.txt\n",
            "unixtut/index.html\n",
            "unixtut/unixintro.html\n",
            "unixtut/tree.gif\n",
            "unixtut/unixterminal.jpg\n",
            "unixtut/gterm.gif\n",
            "unixtut/pipeanswer.html\n",
            "unixtut/media/\n",
            "unixtut/media/right.gif\n",
            "unixtut/media/home.gif\n",
            "unixtut/media/left.gif\n",
            "unixtut/file1.gif\n",
            "unixtut/units-1.74.tar.gz\n"
          ]
        }
      ],
      "source": [
        "%%bash\n",
        "\n",
        "DIR_NAME=\"download\"\n",
        "\n",
        "cd $DIR_NAME\n",
        "\n",
        "# Check if the file is indeed a gzip file by using the file command:\n",
        "file ./unixtut.tar.gz\n",
        "\n",
        "# Unzip to a tar file and extract files from it\n",
        "tar -xzvf ./unixtut.tar.gz"
      ]
    },
    {
      "cell_type": "markdown",
      "metadata": {
        "id": "EQ8hRI3139GP"
      },
      "source": [
        "In `tar -xvf unixtut.tar.gz`\n",
        "\n",
        "> - The `x` flag is used to extract files from an archive.\n",
        "> - The `v` flag (optional) stands for \"verbose\" and provides more detailed output while the extraction process is happening. It shows the names of the files being extracted.\n",
        "> - The `f` flag is used to specify the archive file name.\n",
        "> - So `tar -xvf <archive_name.tar>` extracts the files from the `<archive_name.tar>` archive in the current directory.\n",
        "> - The `z` flag is used in conjunction with the `x` flag to decompress the archive if it is gzip-compressed. It is used to handle `.tar.gz` or `.tgz` archives."
      ]
    },
    {
      "cell_type": "markdown",
      "metadata": {
        "id": "IcgBMqrs6EXJ"
      },
      "source": [
        "### Managing Packages\n",
        "\n",
        "The *advanced package tool* command `apt` is an advantageous package management tool because it resolves dependencies and downloads updated software automatically. To download software this command points to a series of software repositories located in the file `/etc/apt/sources.list`.\n",
        "\n",
        "Software installation can be done through the terminal via `apt` commands like the below,\n",
        "\n",
        "```bash\n",
        "sudo apt-get install <package>\n",
        "# sudo apt install <package>\n",
        "```\n",
        "\n",
        "> * `apt-get` is the older and more established command-line package management tool.\n",
        ">\n",
        "> * `apt` is a newer command-line package management tool that provides a more user-friendly and simplified interface.\n",
        "\n",
        "Software uninstallation can be done through the terminal via the command:\n",
        "\n",
        "```bash\n",
        "sudo apt-get remove <package>\n",
        "# sudo apt remove <package>\n",
        "```\n",
        "\n",
        "The following table contrasts the traditional command against the apt equivalent commands:\n",
        "\n",
        "| Traditional Command        | apt Equivalent         |\n",
        "| -------------------------- | ---------------------- |\n",
        "| apt-get update             | apt update             |\n",
        "| apt-get dist-upgrade       | apt full-upgrade       |\n",
        "| apt-cache search string    | apt search string      |\n",
        "| apt-get install \\<package> | apt install \\<package> |\n",
        "| apt-get remove \\<package>  | apt remove \\<package>  |\n",
        "| apt-get purge \\<package>   | apt purge \\<package>   |\n",
        "\n",
        "Note: The '*remove*' command only uninstalls a package but its configuration file stays right there. However, with the '*purge*' command, the package along with its configuration file is deleted which means that no traces of that package are left behind in this situation."
      ]
    },
    {
      "cell_type": "code",
      "execution_count": null,
      "metadata": {
        "id": "kv6wgHlE6Ice"
      },
      "outputs": [],
      "source": [
        "# Update the package list\n",
        "!apt-get update"
      ]
    },
    {
      "cell_type": "code",
      "execution_count": null,
      "metadata": {
        "id": "oLjSGDeR6v0n"
      },
      "outputs": [],
      "source": [
        "!apt-get remove tree"
      ]
    },
    {
      "cell_type": "markdown",
      "metadata": {
        "id": "uQx_uH2K8UsY"
      },
      "source": [
        "## 2.7 UNIX Variables\n",
        "\n",
        "Standard UNIX variables are split into two categories, **environment variables** and **shell variables**. **Shell variables** apply only to the current instance of the shell and are used to set short-term working conditions; **Environment variables** is valid for the duration of the session."
      ]
    },
    {
      "cell_type": "markdown",
      "metadata": {
        "id": "lf0m7SUp-Ikp"
      },
      "source": [
        "### Environment Variables\n",
        "\n",
        "An example of an environment variable is the OSTYPE variable. The value of this is the current operating system you are using. Type:"
      ]
    },
    {
      "cell_type": "code",
      "execution_count": null,
      "metadata": {
        "colab": {
          "base_uri": "https://localhost:8080/"
        },
        "id": "YDwoBev59EcR",
        "outputId": "eb1c2d09-e801-4c12-d6a8-b202989cd10c"
      },
      "outputs": [
        {
          "name": "stdout",
          "output_type": "stream",
          "text": [
            "linux-gnu\n"
          ]
        }
      ],
      "source": [
        "!echo $OSTYPE"
      ]
    },
    {
      "cell_type": "markdown",
      "metadata": {
        "id": "CJq6mgu-9Ev9"
      },
      "source": [
        "More examples of environment variables are\n",
        "\n",
        "- `SHELL`: This describes the shell that will be interpreting any commands you type in. In most cases, this will be bash by default.\n",
        "- `TERM`: This specifies the type of terminal to emulate when running the shell. Different hardware terminals can be emulated for different operating requirements. You usually won’t need to worry about this though.\n",
        "- `USER`: The current logged in user.\n",
        "- `PWD`: The current working directory.\n",
        "- `OLDPWD`: The previous working directory. This is kept by the shell in order to switch back to your previous directory by running `cd -`.\n",
        "- `LS_COLORS`: This defines color codes that are used to optionally add colored output to the `ls` command. This is used to distinguish different file types and provide more info to the user at a glance.\n",
        "- `MAIL`: The path to the current user’s mailbox.\n",
        "- `PATH`: A list of directories that the system will check when looking for commands. When a user types in a command, the system will check directories in this order for the executable.\n",
        "- `LANG`: The current language and localization settings, including character encoding.\n",
        "- `HOME`: The current user’s home directory.\n",
        "- `_`: The most recent previously executed command.\n",
        "\n",
        "ENVIRONMENT variables are set using the **setenv** command and unset using the **unsetenv** command.\n"
      ]
    },
    {
      "cell_type": "markdown",
      "metadata": {
        "id": "9Y6lajU-9bgW"
      },
      "source": [
        "### Shell Variables\n",
        "\n",
        "An example of a shell variable is the history variable. The value of this is how many shell commands to save, allow the user to scroll back through all the commands they have previously entered. Type"
      ]
    },
    {
      "cell_type": "code",
      "execution_count": null,
      "metadata": {
        "colab": {
          "base_uri": "https://localhost:8080/"
        },
        "id": "jlQRwQGE9a0O",
        "outputId": "8ccf650b-92ac-49d0-cfaf-a3d2c3410556"
      },
      "outputs": [
        {
          "name": "stdout",
          "output_type": "stream",
          "text": [
            "5.1.16(1)-release\n"
          ]
        }
      ],
      "source": [
        "!echo $BASH_VERSION"
      ]
    },
    {
      "cell_type": "markdown",
      "metadata": {
        "id": "6nUQjSkX9jdy"
      },
      "source": [
        "More examples of shell variables are\n",
        "\n",
        "- `BASHOPTS`: The list of options that were used when bash was executed. This can be useful for finding out if the shell environment will operate in the way you want it to.\n",
        "\n",
        "- `BASH_VERSION`: The version of bash being executed, in human-readable form.\n",
        "\n",
        "- `BASH_VERSINFO`: The version of bash, in machine-readable output.\n",
        "\n",
        "- `COLUMNS`: The number of columns wide that are being used to draw output on the screen.\n",
        "\n",
        "- `DIRSTACK`: The stack of directories that are available with the `pushd` and `popd` commands.\n",
        "\n",
        "- `HISTFILESIZE`: Number of lines of command history stored to a file.\n",
        "\n",
        "- `HISTSIZE`: Number of lines of command history allowed in memory.\n",
        "\n",
        "- `HOSTNAME`: The hostname of the computer at this time.\n",
        "\n",
        "- `IFS`: The internal field separator to separate input on the command line. By default, this is a space.\n",
        "\n",
        "- `PS1`: The primary command prompt definition. This is used to define what your prompt looks like when you start a shell session. The `PS2` is used to declare secondary prompts for when a command spans multiple lines.\n",
        "\n",
        "- `SHELLOPTS`: Shell options that can be set with the `set` option.\n",
        "\n",
        "- `UID`: The UID of the current user."
      ]
    },
    {
      "cell_type": "markdown",
      "metadata": {
        "id": "rP_kWQmJ9mbI"
      },
      "source": [
        "### Creating Shell Variables\n",
        "\n",
        "We will begin by defining a shell variable within our current session. Simply specify a name and a value. We’ll adhere to the convention of keeping all caps for the variable name, and set it to a simple string."
      ]
    },
    {
      "cell_type": "code",
      "execution_count": null,
      "metadata": {
        "colab": {
          "base_uri": "https://localhost:8080/"
        },
        "id": "DoRhXuh-wZMz",
        "outputId": "3a63745a-f74f-4d18-8beb-d8f65e9d4d74"
      },
      "outputs": [
        {
          "name": "stdout",
          "output_type": "stream",
          "text": [
            "Say something: Hello, Bash!\n",
            "Is your favorite color blue?\n"
          ]
        }
      ],
      "source": [
        "%%bash\n",
        "\n",
        "# Creating a variable\n",
        "GREETING=\"Hello, Bash!\"\n",
        "\n",
        "# Printing the variable value\n",
        "echo \"Say something: $GREETING\"\n",
        "\n",
        "# Predefined user input\n",
        "COLOR=\"blue\"\n",
        "\n",
        "# Printing the predefined input\n",
        "echo \"Is your favorite color $COLOR?\""
      ]
    },
    {
      "cell_type": "markdown",
      "metadata": {
        "id": "xwvalfL53zlX"
      },
      "source": [
        "### Ex. Shell variables\n",
        "\n",
        "Export Variables to Subshells\n",
        "\n",
        "* Create a new variable `EXPORTED_VAR` and assign a value - `Hello World!` to it. Print its value.\n",
        "\n",
        "> `export` is used to set environment variables so that they are available to subprocesses started from the current shell.\n",
        "> `echo` is used to display a line of text or the value of a variable to the standard output (usually the terminal).\n",
        "> `print` is a built-in command in some shells (like ksh and zsh) similar to echo, used to display a line of text or the value of a variable to the standard output. It is not available in all shells, for example, it is not a built-in command in bash."
      ]
    },
    {
      "cell_type": "code",
      "execution_count": null,
      "metadata": {
        "colab": {
          "base_uri": "https://localhost:8080/"
        },
        "id": "j9_Ovo19317H",
        "outputId": "3c7d9a5f-6fba-48ec-9772-0b4f6c46fabc"
      },
      "outputs": [
        {
          "name": "stdout",
          "output_type": "stream",
          "text": [
            "Value of EXPORTED_VAR: Visible in subshells\n",
            "echo \"Value of EXPORTED_VAR: $EXPORTED_VAR\"\n",
            "Value of EXPORTED_VAR: Visible in subshells\n"
          ]
        }
      ],
      "source": [
        "%%bash\n",
        "\n",
        "#!/bin/bash\n",
        "\n",
        "# Create a new variable EXPORTED_VAR with value \"Visible in subshells\"\n",
        "EXPORTED_VAR=\"Visible in subshells\"\n",
        "\n",
        "# Export the variable\n",
        "export EXPORTED_VAR\n",
        "\n",
        "# Print the variable value using echo\n",
        "echo \"Value of EXPORTED_VAR: $EXPORTED_VAR\"\n",
        "\n",
        "echo 'echo \"Value of EXPORTED_VAR: $EXPORTED_VAR\"' > print_exported_var.sh\n",
        "\n",
        "# Change it to be executable\n",
        "chmod +x print_exported_var.sh\n",
        "\n",
        "# Display the content\n",
        "cat print_exported_var.sh\n",
        "\n",
        "# Execute\n",
        "./print_exported_var.sh"
      ]
    },
    {
      "cell_type": "code",
      "execution_count": null,
      "metadata": {
        "colab": {
          "base_uri": "https://localhost:8080/"
        },
        "id": "KvU2L3Ax-_Vq",
        "outputId": "e03f7589-b138-42d1-bef3-b6f9fdfcb726"
      },
      "outputs": [
        {
          "name": "stdout",
          "output_type": "stream",
          "text": [
            "Value of EXPORTED_VAR: "
          ]
        }
      ],
      "source": [
        "# Print the variable value using print\n",
        "!printf \"Value of EXPORTED_VAR: $EXPORTED_VAR\""
      ]
    },
    {
      "cell_type": "markdown",
      "metadata": {
        "id": "bN9btvlw_9vx"
      },
      "source": [
        "Ex. Remove `export EXPORTED_VAR` from the previous script and run it again. What is the difference?"
      ]
    },
    {
      "cell_type": "markdown",
      "metadata": {
        "id": "1bqKMd67wQJr"
      },
      "source": [
        "### IDE\n",
        "\n",
        "**VIM (Vi IMproved)**\n",
        "\n",
        "\"Vi IMproved,\" is a highly configurable and powerful text editor that is available on various operating systems, including Linux, macOS, and Windows. It is an enhanced version of the original Vi text editor, which was developed in the 1970s.\n",
        "\n",
        "Vim is designed to be lightweight and efficient while offering a wide range of features for editing and manipulating text files. It operates in different modes, allowing users to navigate, edit, and execute commands with keyboard shortcuts.\n",
        "\n",
        "1. Normal mode: The default mode for navigating and executing commands.\n",
        "2. Insert mode: Used for inserting and editing text.\n",
        "3. Visual mode: Enables selecting and manipulating blocks of text.\n",
        "4. Command-line mode: Allows entering editor commands or executing external commands.\n",
        "\n",
        "Vim offers a vast array of features, including syntax highlighting, auto-indentation, search and replace, regular expressions, macros, split-screen editing, and support for numerous programming languages. It also has a plugin system that allows users to extend its functionality further.\n",
        "\n",
        "**nano**\n",
        "\n",
        "It is designed as a simpler alternative to more advanced text editors like Vim or Emacs, making it accessible to both beginner and experienced users.\n",
        "\n",
        "Nano provides a straightforward and intuitive interface with basic editing functionalities. It allows users to create, view, and modify text files directly from the command line or terminal window. Nano supports common operations such as inserting, deleting, copying, and pasting text. It also offers features like search and replace, spell checking, line numbering, and syntax highlighting for various programming languages.\n"
      ]
    },
    {
      "cell_type": "markdown",
      "metadata": {
        "id": "OwmTK0Eu68bH"
      },
      "source": [
        "#### Ex. Vim or Nano\n",
        "\n",
        "Create a new bash file `current_time.sh`. We want to run it from Shell and print out current time from the file. For example,\n",
        "\n",
        "```shell\n",
        "vim current_time.sh\n",
        "```\n",
        "\n",
        "The code looks like,\n",
        "\n",
        "```bash\n",
        "#!/bin/bash\n",
        "echo \"Current time: $(date)\"\n",
        "```\n",
        "\n",
        "Within `vim` type `Esc`, `wq` to save the quit. Change its permission to be executable,\n",
        "\n",
        "```shell\n",
        "chmod +x current_time.sh\n",
        "```\n",
        "\n",
        "Run `current_time.sh` from Shell.\n",
        "```shell\n",
        "./current_time.sh\n",
        "```\n",
        "\n",
        "For example, output looks like the below,\n",
        "\n",
        "```shell\n",
        "anneyu@DESKTOP-KMDHETK:~/tmp$ ./current_time.sh\n",
        "Current time: Wed May 15 14:30:53 +08 2024\n",
        "```"
      ]
    },
    {
      "cell_type": "code",
      "execution_count": null,
      "metadata": {
        "colab": {
          "base_uri": "https://localhost:8080/"
        },
        "id": "k52PpfiT7QFJ",
        "outputId": "2b4d1b6c-4b4d-453c-e17c-422afb7d9d43"
      },
      "outputs": [
        {
          "name": "stdout",
          "output_type": "stream",
          "text": [
            "Current time: Mon Jul 29 01:22:25 AM UTC 2024\n"
          ]
        }
      ],
      "source": [
        "%%bash\n",
        "\n",
        "# You can type and run the same code in Jupyter Notebook.\n",
        "# !/bin/bash\n",
        "echo \"Current time: $(date)\""
      ]
    },
    {
      "cell_type": "markdown",
      "metadata": {
        "id": "0h434GWT94un"
      },
      "source": [
        "## 2.8 A few more common commands\n",
        "\n",
        "To check the user manual of a command `ls`, type `man ls`."
      ]
    },
    {
      "cell_type": "code",
      "execution_count": null,
      "metadata": {
        "colab": {
          "base_uri": "https://localhost:8080/"
        },
        "id": "Sm7UBKkc94LX",
        "outputId": "bca7c710-a7df-4277-db5c-48886ed73dc0"
      },
      "outputs": [
        {
          "name": "stdout",
          "output_type": "stream",
          "text": [
            "This system has been minimized by removing packages and content that are\n",
            "not required on a system that users do not log into.\n",
            "\n",
            "To restore this content, including manpages, you can run the 'unminimize'\n",
            "command. You will still need to ensure the 'man-db' package is installed.\n"
          ]
        }
      ],
      "source": [
        "!man ls"
      ]
    },
    {
      "cell_type": "markdown",
      "metadata": {
        "id": "uynSye3T-2hd"
      },
      "source": [
        "To move an existing file to a name file,"
      ]
    },
    {
      "cell_type": "code",
      "execution_count": null,
      "metadata": {
        "colab": {
          "base_uri": "https://localhost:8080/",
          "height": 402
        },
        "id": "cuQtvZs7-9Na",
        "outputId": "3f9f23c6-7e74-40a2-8a7d-3cb6f6562608"
      },
      "outputs": [
        {
          "name": "stdout",
          "output_type": "stream",
          "text": [
            "-rw-r--r-- 1 root root 0 Jul 29 01:22 test.txt\n"
          ]
        },
        {
          "name": "stderr",
          "output_type": "stream",
          "text": [
            "ls: cannot access 'test.txt': No such file or directory\n"
          ]
        },
        {
          "ename": "CalledProcessError",
          "evalue": "Command 'b'\\ntouch test.txt\\nls -l test.txt\\n\\nmv test.txt new_file.txt\\nls -l test.txt\\n'' returned non-zero exit status 2.",
          "output_type": "error",
          "traceback": [
            "\u001b[0;31m---------------------------------------------------------------------------\u001b[0m",
            "\u001b[0;31mCalledProcessError\u001b[0m                        Traceback (most recent call last)",
            "\u001b[0;32m<ipython-input-125-f25a4482f062>\u001b[0m in \u001b[0;36m<cell line: 1>\u001b[0;34m()\u001b[0m\n\u001b[0;32m----> 1\u001b[0;31m \u001b[0mget_ipython\u001b[0m\u001b[0;34m(\u001b[0m\u001b[0;34m)\u001b[0m\u001b[0;34m.\u001b[0m\u001b[0mrun_cell_magic\u001b[0m\u001b[0;34m(\u001b[0m\u001b[0;34m'bash'\u001b[0m\u001b[0;34m,\u001b[0m \u001b[0;34m''\u001b[0m\u001b[0;34m,\u001b[0m \u001b[0;34m'\\ntouch test.txt\\nls -l test.txt\\n\\nmv test.txt new_file.txt\\nls -l test.txt\\n'\u001b[0m\u001b[0;34m)\u001b[0m\u001b[0;34m\u001b[0m\u001b[0;34m\u001b[0m\u001b[0m\n\u001b[0m",
            "\u001b[0;32m/usr/local/lib/python3.10/dist-packages/google/colab/_shell.py\u001b[0m in \u001b[0;36mrun_cell_magic\u001b[0;34m(self, magic_name, line, cell)\u001b[0m\n\u001b[1;32m    332\u001b[0m     \u001b[0;32mif\u001b[0m \u001b[0mline\u001b[0m \u001b[0;32mand\u001b[0m \u001b[0;32mnot\u001b[0m \u001b[0mcell\u001b[0m\u001b[0;34m:\u001b[0m\u001b[0;34m\u001b[0m\u001b[0;34m\u001b[0m\u001b[0m\n\u001b[1;32m    333\u001b[0m       \u001b[0mcell\u001b[0m \u001b[0;34m=\u001b[0m \u001b[0;34m' '\u001b[0m\u001b[0;34m\u001b[0m\u001b[0;34m\u001b[0m\u001b[0m\n\u001b[0;32m--> 334\u001b[0;31m     \u001b[0;32mreturn\u001b[0m \u001b[0msuper\u001b[0m\u001b[0;34m(\u001b[0m\u001b[0;34m)\u001b[0m\u001b[0;34m.\u001b[0m\u001b[0mrun_cell_magic\u001b[0m\u001b[0;34m(\u001b[0m\u001b[0mmagic_name\u001b[0m\u001b[0;34m,\u001b[0m \u001b[0mline\u001b[0m\u001b[0;34m,\u001b[0m \u001b[0mcell\u001b[0m\u001b[0;34m)\u001b[0m\u001b[0;34m\u001b[0m\u001b[0;34m\u001b[0m\u001b[0m\n\u001b[0m\u001b[1;32m    335\u001b[0m \u001b[0;34m\u001b[0m\u001b[0m\n\u001b[1;32m    336\u001b[0m \u001b[0;34m\u001b[0m\u001b[0m\n",
            "\u001b[0;32m/usr/local/lib/python3.10/dist-packages/IPython/core/interactiveshell.py\u001b[0m in \u001b[0;36mrun_cell_magic\u001b[0;34m(self, magic_name, line, cell)\u001b[0m\n\u001b[1;32m   2471\u001b[0m             \u001b[0;32mwith\u001b[0m \u001b[0mself\u001b[0m\u001b[0;34m.\u001b[0m\u001b[0mbuiltin_trap\u001b[0m\u001b[0;34m:\u001b[0m\u001b[0;34m\u001b[0m\u001b[0;34m\u001b[0m\u001b[0m\n\u001b[1;32m   2472\u001b[0m                 \u001b[0margs\u001b[0m \u001b[0;34m=\u001b[0m \u001b[0;34m(\u001b[0m\u001b[0mmagic_arg_s\u001b[0m\u001b[0;34m,\u001b[0m \u001b[0mcell\u001b[0m\u001b[0;34m)\u001b[0m\u001b[0;34m\u001b[0m\u001b[0;34m\u001b[0m\u001b[0m\n\u001b[0;32m-> 2473\u001b[0;31m                 \u001b[0mresult\u001b[0m \u001b[0;34m=\u001b[0m \u001b[0mfn\u001b[0m\u001b[0;34m(\u001b[0m\u001b[0;34m*\u001b[0m\u001b[0margs\u001b[0m\u001b[0;34m,\u001b[0m \u001b[0;34m**\u001b[0m\u001b[0mkwargs\u001b[0m\u001b[0;34m)\u001b[0m\u001b[0;34m\u001b[0m\u001b[0;34m\u001b[0m\u001b[0m\n\u001b[0m\u001b[1;32m   2474\u001b[0m             \u001b[0;32mreturn\u001b[0m \u001b[0mresult\u001b[0m\u001b[0;34m\u001b[0m\u001b[0;34m\u001b[0m\u001b[0m\n\u001b[1;32m   2475\u001b[0m \u001b[0;34m\u001b[0m\u001b[0m\n",
            "\u001b[0;32m/usr/local/lib/python3.10/dist-packages/IPython/core/magics/script.py\u001b[0m in \u001b[0;36mnamed_script_magic\u001b[0;34m(line, cell)\u001b[0m\n\u001b[1;32m    140\u001b[0m             \u001b[0;32melse\u001b[0m\u001b[0;34m:\u001b[0m\u001b[0;34m\u001b[0m\u001b[0;34m\u001b[0m\u001b[0m\n\u001b[1;32m    141\u001b[0m                 \u001b[0mline\u001b[0m \u001b[0;34m=\u001b[0m \u001b[0mscript\u001b[0m\u001b[0;34m\u001b[0m\u001b[0;34m\u001b[0m\u001b[0m\n\u001b[0;32m--> 142\u001b[0;31m             \u001b[0;32mreturn\u001b[0m \u001b[0mself\u001b[0m\u001b[0;34m.\u001b[0m\u001b[0mshebang\u001b[0m\u001b[0;34m(\u001b[0m\u001b[0mline\u001b[0m\u001b[0;34m,\u001b[0m \u001b[0mcell\u001b[0m\u001b[0;34m)\u001b[0m\u001b[0;34m\u001b[0m\u001b[0;34m\u001b[0m\u001b[0m\n\u001b[0m\u001b[1;32m    143\u001b[0m \u001b[0;34m\u001b[0m\u001b[0m\n\u001b[1;32m    144\u001b[0m         \u001b[0;31m# write a basic docstring:\u001b[0m\u001b[0;34m\u001b[0m\u001b[0;34m\u001b[0m\u001b[0m\n",
            "\u001b[0;32m<decorator-gen-103>\u001b[0m in \u001b[0;36mshebang\u001b[0;34m(self, line, cell)\u001b[0m\n",
            "\u001b[0;32m/usr/local/lib/python3.10/dist-packages/IPython/core/magic.py\u001b[0m in \u001b[0;36m<lambda>\u001b[0;34m(f, *a, **k)\u001b[0m\n\u001b[1;32m    185\u001b[0m     \u001b[0;31m# but it's overkill for just that one bit of state.\u001b[0m\u001b[0;34m\u001b[0m\u001b[0;34m\u001b[0m\u001b[0m\n\u001b[1;32m    186\u001b[0m     \u001b[0;32mdef\u001b[0m \u001b[0mmagic_deco\u001b[0m\u001b[0;34m(\u001b[0m\u001b[0marg\u001b[0m\u001b[0;34m)\u001b[0m\u001b[0;34m:\u001b[0m\u001b[0;34m\u001b[0m\u001b[0;34m\u001b[0m\u001b[0m\n\u001b[0;32m--> 187\u001b[0;31m         \u001b[0mcall\u001b[0m \u001b[0;34m=\u001b[0m \u001b[0;32mlambda\u001b[0m \u001b[0mf\u001b[0m\u001b[0;34m,\u001b[0m \u001b[0;34m*\u001b[0m\u001b[0ma\u001b[0m\u001b[0;34m,\u001b[0m \u001b[0;34m**\u001b[0m\u001b[0mk\u001b[0m\u001b[0;34m:\u001b[0m \u001b[0mf\u001b[0m\u001b[0;34m(\u001b[0m\u001b[0;34m*\u001b[0m\u001b[0ma\u001b[0m\u001b[0;34m,\u001b[0m \u001b[0;34m**\u001b[0m\u001b[0mk\u001b[0m\u001b[0;34m)\u001b[0m\u001b[0;34m\u001b[0m\u001b[0;34m\u001b[0m\u001b[0m\n\u001b[0m\u001b[1;32m    188\u001b[0m \u001b[0;34m\u001b[0m\u001b[0m\n\u001b[1;32m    189\u001b[0m         \u001b[0;32mif\u001b[0m \u001b[0mcallable\u001b[0m\u001b[0;34m(\u001b[0m\u001b[0marg\u001b[0m\u001b[0;34m)\u001b[0m\u001b[0;34m:\u001b[0m\u001b[0;34m\u001b[0m\u001b[0;34m\u001b[0m\u001b[0m\n",
            "\u001b[0;32m/usr/local/lib/python3.10/dist-packages/IPython/core/magics/script.py\u001b[0m in \u001b[0;36mshebang\u001b[0;34m(self, line, cell)\u001b[0m\n\u001b[1;32m    243\u001b[0m             \u001b[0msys\u001b[0m\u001b[0;34m.\u001b[0m\u001b[0mstderr\u001b[0m\u001b[0;34m.\u001b[0m\u001b[0mflush\u001b[0m\u001b[0;34m(\u001b[0m\u001b[0;34m)\u001b[0m\u001b[0;34m\u001b[0m\u001b[0;34m\u001b[0m\u001b[0m\n\u001b[1;32m    244\u001b[0m         \u001b[0;32mif\u001b[0m \u001b[0margs\u001b[0m\u001b[0;34m.\u001b[0m\u001b[0mraise_error\u001b[0m \u001b[0;32mand\u001b[0m \u001b[0mp\u001b[0m\u001b[0;34m.\u001b[0m\u001b[0mreturncode\u001b[0m\u001b[0;34m!=\u001b[0m\u001b[0;36m0\u001b[0m\u001b[0;34m:\u001b[0m\u001b[0;34m\u001b[0m\u001b[0;34m\u001b[0m\u001b[0m\n\u001b[0;32m--> 245\u001b[0;31m             \u001b[0;32mraise\u001b[0m \u001b[0mCalledProcessError\u001b[0m\u001b[0;34m(\u001b[0m\u001b[0mp\u001b[0m\u001b[0;34m.\u001b[0m\u001b[0mreturncode\u001b[0m\u001b[0;34m,\u001b[0m \u001b[0mcell\u001b[0m\u001b[0;34m,\u001b[0m \u001b[0moutput\u001b[0m\u001b[0;34m=\u001b[0m\u001b[0mout\u001b[0m\u001b[0;34m,\u001b[0m \u001b[0mstderr\u001b[0m\u001b[0;34m=\u001b[0m\u001b[0merr\u001b[0m\u001b[0;34m)\u001b[0m\u001b[0;34m\u001b[0m\u001b[0;34m\u001b[0m\u001b[0m\n\u001b[0m\u001b[1;32m    246\u001b[0m \u001b[0;34m\u001b[0m\u001b[0m\n\u001b[1;32m    247\u001b[0m     \u001b[0;32mdef\u001b[0m \u001b[0m_run_script\u001b[0m\u001b[0;34m(\u001b[0m\u001b[0mself\u001b[0m\u001b[0;34m,\u001b[0m \u001b[0mp\u001b[0m\u001b[0;34m,\u001b[0m \u001b[0mcell\u001b[0m\u001b[0;34m,\u001b[0m \u001b[0mto_close\u001b[0m\u001b[0;34m)\u001b[0m\u001b[0;34m:\u001b[0m\u001b[0;34m\u001b[0m\u001b[0;34m\u001b[0m\u001b[0m\n",
            "\u001b[0;31mCalledProcessError\u001b[0m: Command 'b'\\ntouch test.txt\\nls -l test.txt\\n\\nmv test.txt new_file.txt\\nls -l test.txt\\n'' returned non-zero exit status 2."
          ]
        }
      ],
      "source": [
        "%%bash\n",
        "\n",
        "touch test.txt\n",
        "ls -l test.txt\n",
        "\n",
        "mv test.txt new_file.txt\n",
        "ls -l test.txt"
      ]
    },
    {
      "cell_type": "markdown",
      "metadata": {
        "id": "GLxs9eC9_IzO"
      },
      "source": [
        "To create a new file from existing files. For example,"
      ]
    },
    {
      "cell_type": "code",
      "execution_count": null,
      "metadata": {
        "colab": {
          "base_uri": "https://localhost:8080/"
        },
        "id": "XueWeqLn-MnD",
        "outputId": "3ab0de76-eb65-418f-8e6d-73190091f760"
      },
      "outputs": [
        {
          "name": "stdout",
          "output_type": "stream",
          "text": [
            "This is a test file.\n",
            "This is another test file.\n"
          ]
        }
      ],
      "source": [
        "!echo \"This is a test file.\" > test1.txt\n",
        "!echo \"This is another test file.\" > test2.txt\n",
        "\n",
        "# Cancatenate two files into a new file.\n",
        "!cat test1.txt test2.txt > test3.txt\n",
        "\n",
        "# Show the new file content.\n",
        "!cat test3.txt"
      ]
    },
    {
      "cell_type": "markdown",
      "metadata": {
        "id": "YxClnQA9BSgt"
      },
      "source": [
        "diff two files can use command `diff`,"
      ]
    },
    {
      "cell_type": "code",
      "execution_count": null,
      "metadata": {
        "colab": {
          "base_uri": "https://localhost:8080/"
        },
        "id": "mie4g9wFBXDQ",
        "outputId": "0d5b87fd-ac38-4af2-d217-849fc5d17f45"
      },
      "outputs": [
        {
          "name": "stdout",
          "output_type": "stream",
          "text": [
            "1c1\n",
            "< This is a test file.\n",
            "---\n",
            "> This is another test file.\n"
          ]
        }
      ],
      "source": [
        "!diff test1.txt test2.txt"
      ]
    },
    {
      "cell_type": "markdown",
      "metadata": {
        "id": "FyUzFPk-BkRI"
      },
      "source": [
        "What does `1c1` mean?\n",
        "\n",
        "In general, the syntax `a b c d` from diff means:\n",
        "\n",
        "`a b`: Lines in the first file.\n",
        "\n",
        "`c`: The operation (in this case, \"change\").\n",
        "\n",
        "`d`: Lines in the second file."
      ]
    },
    {
      "cell_type": "markdown",
      "metadata": {
        "id": "ZouLYGMWBzIn"
      },
      "source": [
        "Ex. Given a `Sales.csv` file, open the file and modify the second row from\n",
        "\n",
        "`1/2/2009 6:17,Product1,1200,Mastercard,carolina,Basildon,England,United Kingdom,1/2/2009 6:00,1/2/2009 6:08,51.5,-1.1166667`\n",
        "\n",
        "to\n",
        "\n",
        "`1/2/2009 6:17,Product1,0,,carolina,Basildon,England,United Kingdom,1/2/2009 6:00,1/2/2009 6:08,51.5,-1.1166667`\n",
        "\n",
        "Save it as `Sales_err.csv`. After Introduced errors, use `diff` to find out which line contains errors?"
      ]
    },
    {
      "cell_type": "code",
      "execution_count": null,
      "metadata": {
        "colab": {
          "base_uri": "https://localhost:8080/"
        },
        "id": "oq1OsW84CbN4",
        "outputId": "a5fe5756-3d52-417e-f682-ef185558bdcb"
      },
      "outputs": [
        {
          "name": "stdout",
          "output_type": "stream",
          "text": [
            "-rw-r--r-- 1 root root 65773 Jul 29 01:15 Sales.csv\n"
          ]
        }
      ],
      "source": [
        "%%bash\n",
        "\n",
        "# list Sales.csv\n",
        "ls -l Sales.csv\n",
        "\n",
        "# if not exist, download again\n",
        "curl -l -s -O https://raw.githubusercontent.com/annesjyu/dataengr2023/main/Sales.csv\n",
        "\n",
        "# ..."
      ]
    },
    {
      "cell_type": "code",
      "execution_count": null,
      "metadata": {
        "id": "clN491-OEJ2B"
      },
      "outputs": [],
      "source": [
        "# show the difference\n"
      ]
    },
    {
      "cell_type": "markdown",
      "metadata": {
        "id": "J50ZoNDI_kdu"
      },
      "source": [
        "### `grep` for searching within content"
      ]
    },
    {
      "cell_type": "code",
      "execution_count": null,
      "metadata": {
        "colab": {
          "base_uri": "https://localhost:8080/"
        },
        "id": "KGPklQAo_qGs",
        "outputId": "b1e4dcc3-7094-484c-facc-74106954a51d"
      },
      "outputs": [
        {
          "name": "stdout",
          "output_type": "stream",
          "text": [
            "This is another test file.\n"
          ]
        }
      ],
      "source": [
        "!grep \"another test\" test3.txt"
      ]
    },
    {
      "cell_type": "markdown",
      "metadata": {
        "id": "_VHSgnMbAFGv"
      },
      "source": [
        "Some common usages,\n",
        "\n",
        "* The -i option makes the search case-insensitive.\n",
        "* The -r option enables recursive search within a directory and its subdirectories.\n",
        "* The -n option displays the line numbers along with the matching lines.\n",
        "* The -c option counts the number of lines that contain the matching pattern.\n",
        "* The -v option inverts the match, displaying lines that do not match the pattern.\n",
        "\n",
        "For example,"
      ]
    },
    {
      "cell_type": "code",
      "execution_count": null,
      "metadata": {
        "colab": {
          "base_uri": "https://localhost:8080/"
        },
        "id": "rkq0w3HdAdno",
        "outputId": "4ef25247-81b5-4c8c-f1d5-e6b23428a773"
      },
      "outputs": [
        {
          "name": "stdout",
          "output_type": "stream",
          "text": [
            "1\n",
            "2\n"
          ]
        }
      ],
      "source": [
        "# Count the number of occurences of unix in the file\n",
        "!echo \"unix is an operating system as windows. unix can be used on servers.\" | grep -c \"unix\"\n",
        "\n",
        "# Count and case-insensitive\n",
        "!echo \"Unix is an operating system as windows. unix can be used on servers.\" | grep -o -i \"unix\" | wc -l"
      ]
    },
    {
      "cell_type": "markdown",
      "metadata": {
        "id": "vT-NNL7JICLV"
      },
      "source": [
        "A few useful commands for data pre-processing:\n",
        "\n",
        "`cut`: extract columns from each line of input, typically by specifying a delimiter. For example, `cut -d ',' -f 1 Sales.csv` extracts the first column - Transaction_date.\n",
        "\n",
        "`sort`: sort lines of text in a specified order, either alphabetically or numerically.\n",
        "\n",
        "`uniq`: filter out repeated lines from a sorted file or input. It is often used in combination with `sort` to remove duplicates.\n",
        "\n",
        "# **Reference:**\n",
        "\n",
        "[Cut, Sort & Uniq: A Guide to Text Manipulation in Linux [Cheat Sheet]](https://medium.com/@cuncis/cut-sort-uniq-a-guide-to-text-manipulation-in-linux-cheat-sheet-d251acca9231).\n"
      ]
    },
    {
      "cell_type": "markdown",
      "metadata": {
        "id": "M-hlIT0EnwS3"
      },
      "source": [
        "# Ex: Practice Linux commands for pre-processing data file\n",
        "\n",
        "Create a bash shell code `count_countries.sh`, and run it to count the number of unique countries in a data file [Sales.csv](https://github.com/annesjyu/dataengr2023/blob/main/Sales.csv) `!wget https://raw.githubusercontent.com/annesjyu/dataengr2023/main/Sales.csv`. The output should be `55`. Exclude header \"Country\" from the count."
      ]
    },
    {
      "cell_type": "code",
      "execution_count": null,
      "metadata": {
        "id": "QwbeJ5Imnv2i"
      },
      "outputs": [],
      "source": [
        "# 1. Download Sales.csv to colab drive if don't have it\n"
      ]
    },
    {
      "cell_type": "code",
      "execution_count": null,
      "metadata": {
        "id": "g-oZ7SKBoODD"
      },
      "outputs": [],
      "source": [
        "# 2. Create a bash shell file count_countries.sh to count unique city names.\n",
        "%%bash\n",
        "\n",
        "# Count the number of unique countries, exclude header \"country\" from the count.\n",
        "# might use cat, grep, cut, sort,uniq, wc -l etc."
      ]
    },
    {
      "cell_type": "code",
      "execution_count": null,
      "metadata": {
        "id": "Lv18E3bDkv_g"
      },
      "outputs": [],
      "source": [
        "# 3. Save the above command into a bash file, script.sh, give it permission, and execute it."
      ]
    },
    {
      "cell_type": "markdown",
      "metadata": {
        "id": "f3BjxX0FBecz"
      },
      "source": [
        "## Peaking into a data file\n",
        "\n",
        "When given a data file formated as `csv`, run some commands to look at the top and bottom rows."
      ]
    },
    {
      "cell_type": "code",
      "execution_count": null,
      "metadata": {
        "id": "CKK-PVB-CORi"
      },
      "outputs": [],
      "source": [
        "# Define the content of the CSV file\n",
        "csv_content = \"\"\"Name,Age,City\n",
        "Alice,30,New York\n",
        "Bob,25,Los Angeles\n",
        "Charlie,35,Chicago\n",
        "Diana,28,Houston\n",
        "Eve,22,Phoenix\n",
        "\"\"\"\n",
        "\n",
        "# Write the content to a file named 'example.csv'\n",
        "with open('example.csv', 'w') as f:\n",
        "    f.write(csv_content)"
      ]
    },
    {
      "cell_type": "code",
      "execution_count": null,
      "metadata": {
        "colab": {
          "base_uri": "https://localhost:8080/"
        },
        "id": "km1AftdyCjj8",
        "outputId": "78a73839-7c72-4fdb-f560-04d46f3416f7"
      },
      "outputs": [
        {
          "name": "stdout",
          "output_type": "stream",
          "text": [
            "the top 2 lines: \n",
            "Name,Age,City\n",
            "Alice,30,New York\n",
            "\n",
            "the bottom 2 lines: \n",
            "Diana,28,Houston\n",
            "Eve,22,Phoenix\n"
          ]
        }
      ],
      "source": [
        "# Display the first 2 lines of the CSV file\n",
        "\n",
        "\n",
        "# Display the last 2 lines of the CSV file\n",
        "\n",
        "# Find Diana's record\n",
        "\n",
        "# Who are recorded in the data file"
      ]
    },
    {
      "cell_type": "markdown",
      "metadata": {
        "id": "LusP37oJj4WJ"
      },
      "source": [
        "Ex. Show the middle line of `example.csv`."
      ]
    },
    {
      "cell_type": "code",
      "execution_count": null,
      "metadata": {
        "id": "bEg6h8kGDE4q"
      },
      "outputs": [],
      "source": [
        "%%bash\n",
        "\n",
        "# Calculate the total number of lines\n",
        "\n",
        "# Calculate the middle line number\n",
        "\n",
        "# Print the middle line using head and tail\n"
      ]
    },
    {
      "cell_type": "markdown",
      "metadata": {
        "id": "dFrV5ROp8x6E"
      },
      "source": [
        "### awk\n",
        "\n",
        "`awk` is particularly effective for processing structured text files, especially those with delimited columns of data.\n",
        "\n",
        "Syntax, `awk options 'pattern { action }' input-file-names`"
      ]
    },
    {
      "cell_type": "code",
      "execution_count": null,
      "metadata": {
        "id": "pahfA3vL8_OX"
      },
      "outputs": [],
      "source": [
        "!awk -F, '{print $1}' example.csv"
      ]
    },
    {
      "cell_type": "code",
      "execution_count": null,
      "metadata": {
        "id": "VHd6fFgF9IKE"
      },
      "outputs": [],
      "source": [
        "!awk '$2 > 100 { print $1 }' example.csv"
      ]
    },
    {
      "cell_type": "markdown",
      "metadata": {
        "id": "_1ryeBZU7hSX"
      },
      "source": [
        "Ex. for the above `example.csv`, calculate the average age."
      ]
    },
    {
      "cell_type": "code",
      "execution_count": null,
      "metadata": {
        "id": "Sm0Gzmx37lJs"
      },
      "outputs": [],
      "source": [
        "%%bash\n",
        "\n",
        "# Calculate the total age"
      ]
    }
  ],
  "metadata": {
    "colab": {
      "provenance": [],
      "include_colab_link": true
    },
    "kernelspec": {
      "display_name": "Python 3 (ipykernel)",
      "language": "python",
      "name": "python3"
    },
    "language_info": {
      "codemirror_mode": {
        "name": "ipython",
        "version": 3
      },
      "file_extension": ".py",
      "mimetype": "text/x-python",
      "name": "python",
      "nbconvert_exporter": "python",
      "pygments_lexer": "ipython3",
      "version": "3.8.10"
    }
  },
  "nbformat": 4,
  "nbformat_minor": 0
}